{
 "cells": [
  {
   "cell_type": "markdown",
   "metadata": {
    "ein.tags": "worksheet-0",
    "slideshow": {
     "slide_type": "-"
    }
   },
   "source": [
    "# Funciones y módulos\n",
    "\n",
    "## Ejemplos de funciones\n",
    "\n",
    "Anteriormente vimos cómo utilizar funciones (ya definidas como en el caso de `print()`, `len()`, etc), y cómo definir funciones propias para después utilizarlas.\n",
    "\n",
    "En particular, vimos que en Python las funciones son objetos, y por lo tanto pueden ser argumentos de funciones, o pueden ser retornados por otras funciones. \n",
    "\n",
    "### Ejemplo 05-1: Funciones como argumentos de otras funciones\n",
    "\n",
    "Veamos en más detalle esto, estudiando un caso de uso. Le pasamos como argumento una función a un integrador:"
   ]
  },
  {
   "cell_type": "code",
   "execution_count": 1,
   "metadata": {
    "autoscroll": false,
    "collapsed": false,
    "ein.tags": "worksheet-0",
    "slideshow": {
     "slide_type": "-"
    }
   },
   "outputs": [],
   "source": [
    "# %load scripts/ejemplo_05_1.py\n",
    "def integrate_simps(f, a, b, N=10):\n",
    "  \"\"\"Calcula numéricamente la integral de la función en el intervalo dado\n",
    "  utilizando la regla de Simpson\n",
    "\n",
    "  Keyword Arguments:\n",
    "  f -- Función a integrar\n",
    "  a -- Límite inferior\n",
    "  b -- Límite superior\n",
    "  N -- El intervalo se separa en 2*N intervalos\n",
    "  \"\"\"\n",
    "  h = (b - a) / (2 * N)\n",
    "  I = f(a) - f(b)\n",
    "  for j in range(1, N + 1):\n",
    "    x2j = a + 2 * j * h\n",
    "    x2jm1 = a + (2 * j - 1) * h\n",
    "    I += 2 * f(x2j) + 4 * f(x2jm1)\n",
    "  return I * h / 3\n"
   ]
  },
  {
   "cell_type": "markdown",
   "metadata": {
    "ein.tags": "worksheet-0",
    "slideshow": {
     "slide_type": "-"
    }
   },
   "source": [
    "En este ejemplo programamos la fórmula de integración de Simpson para obtener la integral de una función `f(x)` provista por el usuario, en un dado intervalo:\n",
    "$$\n",
    "\\int _{a}^{b}f(x)\\,dx\\approx \\frac{h}{3} \\bigg[ f(x_{0}) + 2 \\sum_{j=1}^{n/2} f(x_{2j}) + 4 \\sum_{j=1}^{n/2} f(x_{2j-1}) - f(x_{n})\\bigg]\n",
    "$$\n",
    "¿Cómo usamos la función de integración?"
   ]
  },
  {
   "cell_type": "code",
   "execution_count": 2,
   "metadata": {
    "autoscroll": false,
    "collapsed": false,
    "ein.tags": "worksheet-0",
    "slideshow": {
     "slide_type": "-"
    }
   },
   "outputs": [
    {
     "data": {
      "text/plain": [
       "9.0"
      ]
     },
     "execution_count": 2,
     "metadata": {},
     "output_type": "execute_result"
    }
   ],
   "source": [
    "def potencia2(x):\n",
    "  return x**2\n",
    "\n",
    "integrate_simps(potencia2, 0, 3, 7)"
   ]
  },
  {
   "cell_type": "markdown",
   "metadata": {
    "ein.tags": "worksheet-0",
    "slideshow": {
     "slide_type": "-"
    }
   },
   "source": [
    "Acá definimos una función, y se la pasamos como argumento a la función de integración. Veamos otro ejemplo similar"
   ]
  },
  {
   "cell_type": "code",
   "execution_count": 3,
   "metadata": {
    "autoscroll": false,
    "collapsed": false,
    "ein.tags": "worksheet-0",
    "slideshow": {
     "slide_type": "-"
    }
   },
   "outputs": [
    {
     "name": "stdout",
     "output_type": "stream",
     "text": [
      "Integrales:\n",
      "I ( 1 x^0, 0, 3) = 3.00000\n",
      "I ( 2 x^1, 0, 3) = 9.00000\n",
      "I ( 3 x^2, 0, 3) = 27.00000\n",
      "I ( 4 x^3, 0, 3) = 81.00000\n",
      "I ( 5 x^4, 0, 3) = 243.00101\n",
      "I ( 6 x^5, 0, 3) = 729.00911\n"
     ]
    }
   ],
   "source": [
    "print('Integrales:')\n",
    "for n in range(6):\n",
    "  I = integrate_simps(lambda x: (n + 1) * x**n, 0, 3, 10)\n",
    "  print('I ( {} x^{}, 0, 3) = {:.5f}'.format(n + 1, n, I))\n"
   ]
  },
  {
   "cell_type": "code",
   "execution_count": null,
   "metadata": {
    "collapsed": false
   },
   "outputs": [],
   "source": [
    "lambda x,y:  (x,y,x+y) )\n",
    "\n",
    "def suma(x,y):\n",
    "    return x,y,x+y"
   ]
  },
  {
   "cell_type": "code",
   "execution_count": null,
   "metadata": {
    "collapsed": true
   },
   "outputs": [],
   "source": []
  },
  {
   "cell_type": "code",
   "execution_count": null,
   "metadata": {
    "collapsed": true
   },
   "outputs": [],
   "source": []
  },
  {
   "cell_type": "code",
   "execution_count": null,
   "metadata": {
    "collapsed": true
   },
   "outputs": [],
   "source": []
  },
  {
   "cell_type": "markdown",
   "metadata": {
    "ein.tags": "worksheet-0",
    "slideshow": {
     "slide_type": "-"
    }
   },
   "source": [
    "Este es un ejemplo de uso de las funciones anónimas `lambda`. Recordemos que la forma de las funciones `lambda` es:\n",
    "```python\n",
    "lambda x: manipular(x)\n",
    "```\n",
    "por ejemplo en el ejemplo anterior, para calcular $(n+1) x^n$, hicimos:\n",
    "```python\n",
    "lambda x: (n+1) * x**n\n",
    "```"
   ]
  },
  {
   "cell_type": "markdown",
   "metadata": {
    "ein.tags": "worksheet-0",
    "slideshow": {
     "slide_type": "-"
    }
   },
   "source": [
    "## Ejemplo 05-2\n",
    "\n",
    "Veamos ahora una función que retorna una función. Supongamos que tenemos una tabla de puntos (x,y) por los que pasan nuestros datos y queremos interpolar los datos con un polinomio.\n",
    "\n",
    "Sabemos que dados N puntos, hay un único polinomio de grado N que pasa por todos los puntos. En este ejemplo utilizamos la fórmula de Lagrange para obtenerlo."
   ]
  },
  {
   "cell_type": "code",
   "execution_count": null,
   "metadata": {
    "autoscroll": false,
    "collapsed": false,
    "ein.tags": "worksheet-0",
    "slideshow": {
     "slide_type": "-"
    }
   },
   "outputs": [],
   "source": [
    "%load scripts/ejemplo_05_2.py"
   ]
  },
  {
   "cell_type": "code",
   "execution_count": 9,
   "metadata": {
    "autoscroll": false,
    "collapsed": false,
    "ein.tags": "worksheet-0",
    "slideshow": {
     "slide_type": "-"
    }
   },
   "outputs": [],
   "source": [
    "# %load scripts/ejemplo_05_2.py\n",
    "def polinomio_interp(x, y):\n",
    "  \"\"\"Devuelve el polinomio interpolador que pasa por los puntos (x_i, y_i)\n",
    "\n",
    "    Warning: La implementación es numéricamente inestable. Funciona para algunos puntos (menor a 20)\n",
    "\n",
    "  Keyword Arguments:\n",
    "  x -- Lista con los valores de x\n",
    "  y -- Lista con los valores de y\n",
    "  \"\"\"\n",
    "\n",
    "  M = len(x)\n",
    "\n",
    "  def polin(xx):\n",
    "    \"\"\"Evalúa el polinomio interpolador de Lagrange\"\"\"\n",
    "    P = 0\n",
    "\n",
    "    for j in range(M):\n",
    "      pt = y[j]\n",
    "      for k in range(M):\n",
    "        if k == j:\n",
    "          continue\n",
    "        fac = x[j] - x[k]\n",
    "        pt *= (xx - x[k]) / fac\n",
    "      P += pt\n",
    "    return P\n",
    "\n",
    "  return polin\n"
   ]
  },
  {
   "cell_type": "markdown",
   "metadata": {
    "ein.tags": "worksheet-0",
    "slideshow": {
     "slide_type": "-"
    }
   },
   "source": [
    "Lo que obtenemos al llamar a esta función es una función"
   ]
  },
  {
   "cell_type": "code",
   "execution_count": 10,
   "metadata": {
    "autoscroll": false,
    "collapsed": false,
    "ein.tags": "worksheet-0",
    "slideshow": {
     "slide_type": "-"
    }
   },
   "outputs": [],
   "source": [
    "f = polinomio_interp([0,1], [0,2])"
   ]
  },
  {
   "cell_type": "code",
   "execution_count": 11,
   "metadata": {
    "autoscroll": false,
    "collapsed": false,
    "ein.tags": "worksheet-0",
    "slideshow": {
     "slide_type": "-"
    }
   },
   "outputs": [
    {
     "data": {
      "text/plain": [
       "<function __main__.polinomio_interp.<locals>.polin>"
      ]
     },
     "execution_count": 11,
     "metadata": {},
     "output_type": "execute_result"
    }
   ],
   "source": [
    "f"
   ]
  },
  {
   "cell_type": "code",
   "execution_count": 12,
   "metadata": {
    "autoscroll": false,
    "collapsed": false,
    "ein.tags": "worksheet-0",
    "slideshow": {
     "slide_type": "-"
    }
   },
   "outputs": [
    {
     "name": "stdout",
     "output_type": "stream",
     "text": [
      "Help on function polin in module __main__:\n",
      "\n",
      "polin(xx)\n",
      "    Evalúa el polinomio interpolador de Lagrange\n",
      "\n"
     ]
    }
   ],
   "source": [
    "help(f)"
   ]
  },
  {
   "cell_type": "code",
   "execution_count": 14,
   "metadata": {
    "autoscroll": false,
    "collapsed": false,
    "ein.tags": "worksheet-0",
    "slideshow": {
     "slide_type": "-"
    }
   },
   "outputs": [
    {
     "data": {
      "text/plain": [
       "6.8"
      ]
     },
     "execution_count": 14,
     "metadata": {},
     "output_type": "execute_result"
    }
   ],
   "source": [
    "f(3.4)"
   ]
  },
  {
   "cell_type": "markdown",
   "metadata": {
    "ein.tags": "worksheet-0",
    "slideshow": {
     "slide_type": "-"
    }
   },
   "source": [
    "Este es el resultado esperado porque queremos el polinomio que pasa por dos puntos (una recta), y en este caso es la recta $y = 2x$. Veamos cómo usarlo, en forma más general:"
   ]
  },
  {
   "cell_type": "code",
   "execution_count": 16,
   "metadata": {
    "autoscroll": false,
    "collapsed": false,
    "ein.tags": "worksheet-0",
    "slideshow": {
     "slide_type": "-"
    }
   },
   "outputs": [
    {
     "name": "stdout",
     "output_type": "stream",
     "text": [
      "\n",
      " x   f2(x)   f3(x)\n",
      "------------------\n",
      "0.0   0.00    0.00\n",
      "0.2   0.04    0.02\n",
      "0.4   0.16    0.13\n",
      "0.6   0.36    0.43\n",
      "0.8   0.64    1.02\n",
      "1.0   1.00    2.00\n",
      "1.2   1.44    3.46\n",
      "1.4   1.96    5.49\n",
      "1.6   2.56    8.19\n",
      "1.8   3.24   11.66\n",
      "2.0   4.00   16.00\n",
      "2.2   4.84   21.30\n",
      "2.4   5.76   27.65\n",
      "2.6   6.76   35.15\n",
      "2.8   7.84   43.90\n",
      "3.0   9.00   54.00\n",
      "3.2  10.24   65.54\n",
      "3.4  11.56   78.61\n",
      "3.6  12.96   93.31\n",
      "3.8  14.44  109.74\n",
      "4.0  16.00  128.00\n",
      "4.2  17.64  148.18\n",
      "4.4  19.36  170.37\n",
      "4.6  21.16  194.67\n",
      "4.8  23.04  221.18\n"
     ]
    }
   ],
   "source": [
    "# %load scripts/ejemplo_05_3\n",
    "#from ejemplo_05_2 import polinomio_interp\n",
    "\n",
    "xmax = 5\n",
    "step = 0.2\n",
    "N = int(5 / step)\n",
    "\n",
    "x2, y2 = [1, 2, 3], [1, 4, 9]   # x^2\n",
    "f2 = polinomio_interp(x2, y2)\n",
    "\n",
    "x3, y3 = [0, 1, 2, 3], [0, 2, 16, 54]  # 2 x^3\n",
    "f3 = polinomio_interp(x3, y3)\n",
    "\n",
    "print('\\n x   f2(x)   f3(x)\\n' + 18 * '-')\n",
    "for j in range(N):\n",
    "  x = step * j\n",
    "  print('{:.1f}  {:5.2f}  {:6.2f}'.format(x, f2(x), f3(x)))\n"
   ]
  },
  {
   "cell_type": "code",
   "execution_count": 17,
   "metadata": {
    "autoscroll": false,
    "collapsed": false,
    "ein.tags": "worksheet-0",
    "slideshow": {
     "slide_type": "-"
    }
   },
   "outputs": [],
   "source": [
    "%matplotlib inline"
   ]
  },
  {
   "cell_type": "code",
   "execution_count": 18,
   "metadata": {
    "autoscroll": false,
    "collapsed": false,
    "ein.tags": "worksheet-0",
    "slideshow": {
     "slide_type": "-"
    }
   },
   "outputs": [
    {
     "data": {
      "text/plain": [
       "<matplotlib.legend.Legend at 0x7fcfa9538940>"
      ]
     },
     "execution_count": 18,
     "metadata": {},
     "output_type": "execute_result"
    },
    {
     "data": {
      "image/png": "[encoded data removed]",
      "text/plain": [
       "<matplotlib.figure.Figure at 0x7fcfa95bdf60>"
      ]
     },
     "metadata": {},
     "output_type": "display_data"
    }
   ],
   "source": [
    "# %load scripts/ejemplo_05_4\n",
    "import numpy as np\n",
    "import matplotlib.pyplot as plt\n",
    "#from ejemplo_05_2 import polinomio_interp\n",
    "\n",
    "# -------------------- Definición de las funciones --------------------\n",
    "x2, y2 = [1, 2, 3], [1, 4, 9]\n",
    "f2 = polinomio_interp(x2, y2)\n",
    "\n",
    "x3, y3 = [0, 1, 2, 3], [0, 2, 16, 54]\n",
    "f3 = polinomio_interp(x3, y3)\n",
    "\n",
    "# ---------------------------- Graficación ----------------------------\n",
    "plt.ion()\n",
    "plt.clf()\n",
    "\n",
    "xx = np.linspace(0, 5, 50)\n",
    "\n",
    "plt.plot(x2, y2, 'ob', xx, f2(xx), label='$x^2$')\n",
    "plt.plot(x3, y3, 'og', xx, f3(xx), label='$x^3$')\n",
    "\n",
    "# Agregamos el texto\n",
    "plt.text(3.8, 35, 'x = {}\\ny = {}'.format(str(x2), str(y2)),\n",
    "         color='b', bbox={'facecolor': 'none', 'edgecolor': 'blue'})\n",
    "plt.text(2.9, 200, 'x = {}\\ny = {}'.format(str(x3), str(y3)),\n",
    "         color='g', bbox={'facecolor': 'none', 'edgecolor': 'green'})\n",
    "\n",
    "# Texto a ejes y leyenda\n",
    "plt.xlabel('$x$')\n",
    "plt.ylabel('$f(x)$')\n",
    "plt.legend(loc='best')\n"
   ]
  },
  {
   "cell_type": "code",
   "execution_count": null,
   "metadata": {
    "autoscroll": false,
    "collapsed": false,
    "ein.tags": "worksheet-0",
    "slideshow": {
     "slide_type": "-"
    }
   },
   "outputs": [],
   "source": [
    "# %load scripts/ejemplo_05_4\n",
    "import numpy as np\n",
    "import matplotlib.pyplot as plt\n",
    "#from ejemplo_05_2 import polinomio_interp\n",
    "\n",
    "#plt.ion()\n",
    "#plt.clf()\n",
    "\n",
    "x2 = [1, 2, 3]\n",
    "y2 = [1, 4, 9]\n",
    "f2 = polinomio_interp(x2, y2)\n",
    "\n",
    "x3, y3 = [0, 1, 2, 3], [0, 2, 16, 54]\n",
    "f3 = polinomio_interp(x3, y3)\n",
    "\n",
    "\n",
    "xx = np.linspace(0, 5, 50)\n",
    "\n",
    "plt.plot(x2, y2, 'ob', xx, f2(xx))\n",
    "plt.plot(x3, y3, 'og', xx, f3(xx))\n",
    "plt.text(3.8, 35, 'x = {}\\ny = {}'.format(str(x2), str(y2)),\n",
    "         color='b', bbox={'facecolor': 'none', 'edgecolor': 'blue'})\n",
    "\n",
    "plt.text(2.9, 200, 'x = {}\\ny = {}'.format(str(x3), str(y3)),\n",
    "         color='g', bbox={'facecolor': 'none', 'edgecolor': 'green'})\n",
    "\n",
    "plt.xlabel('$x$')\n",
    "plt.ylabel('$f(x)$')\n"
   ]
  },
  {
   "cell_type": "markdown",
   "metadata": {
    "ein.tags": "worksheet-0",
    "slideshow": {
     "slide_type": "-"
    }
   },
   "source": [
    "En estos últimos dos ejemplos, y en particular en el último, estamos usando funciones que no definimos. Las funciones de graficación entre otras, están definidas en un paquete externo `matplotlib`. Para poder utilizar las funciones debemos primero *importar* el módulo donde están definidas.\n",
    "\n",
    "Lo mismo ocurre con nuestro programa. Veamos en más detalle cómo es el mecanismo de importación."
   ]
  }
 ],
 "metadata": {
  "kernelspec": {
   "display_name": "Python 3",
   "language": "python",
   "name": "python3"
  },
  "language_info": {
   "codemirror_mode": {
    "name": "ipython",
    "version": 3
   },
   "file_extension": ".py",
   "mimetype": "text/x-python",
   "name": "python",
   "nbconvert_exporter": "python",
   "pygments_lexer": "ipython3",
   "version": "3.5.3"
  },
  "name": "05_algunos_ejemplos.ipynb"
 },
 "nbformat": 4,
 "nbformat_minor": 0
}
