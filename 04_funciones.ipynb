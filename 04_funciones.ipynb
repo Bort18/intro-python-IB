{
 "cells": [
  {
   "cell_type": "markdown",
   "metadata": {
    "ein.tags": "worksheet-0",
    "slideshow": {
     "slide_type": "-"
    }
   },
   "source": [
    "# Introducción a funciones y módulos"
   ]
  },
  {
   "cell_type": "markdown",
   "metadata": {
    "ein.tags": "worksheet-0",
    "slideshow": {
     "slide_type": "-"
    }
   },
   "source": [
    "## Funciones\n",
    "\n",
    "Las funciones en **Python**, como en la mayoría de los lenguajes, usan una notación similar a la de las funciones matemáticas, con un nombre y uno o más argumentos entre paréntesis. Por ejemplo, ya usamos la función ``sum`` cuyo argumento es una lista o una *tuple* de números"
   ]
  },
  {
   "cell_type": "code",
   "execution_count": null,
   "metadata": {
    "autoscroll": false,
    "collapsed": false,
    "ein.tags": "worksheet-0",
    "slideshow": {
     "slide_type": "-"
    }
   },
   "outputs": [],
   "source": [
    "a = [1, 3.3, 5, 7.5, 2.2]\n",
    "print(sum(a))"
   ]
  },
  {
   "cell_type": "code",
   "execution_count": null,
   "metadata": {
    "autoscroll": false,
    "collapsed": false,
    "ein.tags": "worksheet-0",
    "slideshow": {
     "slide_type": "-"
    }
   },
   "outputs": [],
   "source": [
    "b = tuple(a)\n",
    "print(sum(b))"
   ]
  },
  {
   "cell_type": "code",
   "execution_count": null,
   "metadata": {
    "autoscroll": false,
    "collapsed": false,
    "ein.tags": "worksheet-0",
    "slideshow": {
     "slide_type": "-"
    }
   },
   "outputs": [],
   "source": [
    "sum"
   ]
  },
  {
   "cell_type": "markdown",
   "metadata": {
    "ein.tags": "worksheet-0",
    "slideshow": {
     "slide_type": "-"
    }
   },
   "source": [
    "En **Python** podemos asignar una función a una variable (algo así como lo que en C sería un puntero a funciones)"
   ]
  },
  {
   "cell_type": "code",
   "execution_count": 4,
   "metadata": {
    "autoscroll": false,
    "collapsed": false,
    "ein.tags": "worksheet-0",
    "slideshow": {
     "slide_type": "-"
    }
   },
   "outputs": [
    {
     "name": "stdout",
     "output_type": "stream",
     "text": [
      "Help on built-in function sum in module builtins:\n",
      "\n",
      "sum(iterable, start=0, /)\n",
      "    Return the sum of a 'start' value (default: 0) plus an iterable of numbers\n",
      "    \n",
      "    When the iterable is empty, return the start value.\n",
      "    This function is intended specifically for use with numeric values and may\n",
      "    reject non-numeric types.\n",
      "\n"
     ]
    }
   ],
   "source": [
    "f = sum\n",
    "help(f)"
   ]
  },
  {
   "cell_type": "code",
   "execution_count": 5,
   "metadata": {
    "collapsed": false
   },
   "outputs": [
    {
     "name": "stdout",
     "output_type": "stream",
     "text": [
      "Help on built-in function sum in module builtins:\n",
      "\n",
      "sum(iterable, start=0, /)\n",
      "    Return the sum of a 'start' value (default: 0) plus an iterable of numbers\n",
      "    \n",
      "    When the iterable is empty, return the start value.\n",
      "    This function is intended specifically for use with numeric values and may\n",
      "    reject non-numeric types.\n",
      "\n"
     ]
    }
   ],
   "source": [
    "help(sum)"
   ]
  },
  {
   "cell_type": "code",
   "execution_count": 6,
   "metadata": {
    "autoscroll": false,
    "collapsed": false,
    "ein.tags": "worksheet-0",
    "slideshow": {
     "slide_type": "-"
    }
   },
   "outputs": [
    {
     "name": "stdout",
     "output_type": "stream",
     "text": [
      "¿f is sum?  True\n",
      "f(a)= 19.0   sum(a)= 19.0\n"
     ]
    }
   ],
   "source": [
    "print('¿f is sum? ', f is sum)\n",
    "print('f(a)=', f(a), '  sum(a)=', sum(a))"
   ]
  },
  {
   "cell_type": "markdown",
   "metadata": {
    "ein.tags": "worksheet-0",
    "slideshow": {
     "slide_type": "-"
    }
   },
   "source": [
    "También podemos crear un diccionario donde los valores sean funciones:"
   ]
  },
  {
   "cell_type": "code",
   "execution_count": 7,
   "metadata": {
    "autoscroll": false,
    "collapsed": false,
    "ein.tags": "worksheet-0",
    "slideshow": {
     "slide_type": "-"
    }
   },
   "outputs": [],
   "source": [
    "funciones = {'suma': sum, 'minimo': min, 'maximo': max}"
   ]
  },
  {
   "cell_type": "code",
   "execution_count": 8,
   "metadata": {
    "autoscroll": false,
    "collapsed": false,
    "ein.tags": "worksheet-0",
    "slideshow": {
     "slide_type": "-"
    }
   },
   "outputs": [
    {
     "data": {
      "text/plain": [
       "19.0"
      ]
     },
     "execution_count": 8,
     "metadata": {},
     "output_type": "execute_result"
    }
   ],
   "source": [
    "funciones['suma'](a)"
   ]
  },
  {
   "cell_type": "code",
   "execution_count": 9,
   "metadata": {
    "autoscroll": false,
    "collapsed": false,
    "ein.tags": "worksheet-0",
    "slideshow": {
     "slide_type": "-"
    }
   },
   "outputs": [
    {
     "name": "stdout",
     "output_type": "stream",
     "text": [
      "minimo 1\n",
      "maximo 7.5\n",
      "suma 19.0\n"
     ]
    }
   ],
   "source": [
    "for k, v in funciones.items():\n",
    "  print(k, v(a))"
   ]
  },
  {
   "cell_type": "markdown",
   "metadata": {
    "ein.tags": "worksheet-0",
    "slideshow": {
     "slide_type": "-"
    }
   },
   "source": [
    "### Definición básica de funciones\n",
    "Tomemos el ejemplo del tutorial de la documentación de Python. Vimos, al introducir el elemento de control **while** una forma de calcular la serie de Fibonacci. Usemos ese ejemplo para mostrar como se definen las funciones"
   ]
  },
  {
   "cell_type": "code",
   "execution_count": 10,
   "metadata": {
    "autoscroll": false,
    "collapsed": false,
    "ein.tags": "worksheet-0",
    "slideshow": {
     "slide_type": "-"
    }
   },
   "outputs": [],
   "source": [
    "def fib(n):\n",
    "  \"\"\"Devuelve una lista con los términos de la serie de Fibonacci hasta n.\"\"\"\n",
    "  result = []\n",
    "  a, b = 0, 1\n",
    "  while a < n:\n",
    "    result.append(a)    \n",
    "    a, b = b, a+b\n",
    "  return result\n"
   ]
  },
  {
   "cell_type": "code",
   "execution_count": 11,
   "metadata": {
    "autoscroll": false,
    "collapsed": false,
    "ein.tags": "worksheet-0",
    "slideshow": {
     "slide_type": "-"
    }
   },
   "outputs": [
    {
     "data": {
      "text/plain": [
       "[0, 1, 1, 2, 3, 5, 8, 13, 21, 34, 55, 89]"
      ]
     },
     "execution_count": 11,
     "metadata": {},
     "output_type": "execute_result"
    }
   ],
   "source": [
    "fib(100)"
   ]
  },
  {
   "cell_type": "code",
   "execution_count": 12,
   "metadata": {
    "autoscroll": false,
    "collapsed": false,
    "ein.tags": "worksheet-0",
    "slideshow": {
     "slide_type": "-"
    }
   },
   "outputs": [
    {
     "data": {
      "text/plain": [
       "<function __main__.fib>"
      ]
     },
     "execution_count": 12,
     "metadata": {},
     "output_type": "execute_result"
    }
   ],
   "source": [
    "fib"
   ]
  },
  {
   "cell_type": "code",
   "execution_count": 13,
   "metadata": {
    "collapsed": false
   },
   "outputs": [
    {
     "data": {
      "text/plain": [
       "<function sum>"
      ]
     },
     "execution_count": 13,
     "metadata": {},
     "output_type": "execute_result"
    }
   ],
   "source": [
    "sum"
   ]
  },
  {
   "cell_type": "markdown",
   "metadata": {
    "ein.tags": "worksheet-0",
    "slideshow": {
     "slide_type": "-"
    }
   },
   "source": [
    "**Puntos a notar:**\n",
    "* Las funciones se definen utilizando la palabra `def` seguida por el nombre,\n",
    "* A continuación, entre paréntesis se escriben los argumentos, en este caso el entero `n`,\n",
    "* La función devuelve (*retorna*) algo, en este caso una lista. Si una función no devuelve algo explícitamente, entonces devuelve None.\n",
    "* Lo que devuelve la función se especifica mediante la palabra reservada `return`\n",
    "* Al principio de la definición de la función se escribe la documentación"
   ]
  },
  {
   "cell_type": "code",
   "execution_count": 14,
   "metadata": {
    "autoscroll": false,
    "collapsed": false,
    "ein.tags": "worksheet-0",
    "slideshow": {
     "slide_type": "-"
    }
   },
   "outputs": [
    {
     "name": "stdout",
     "output_type": "stream",
     "text": [
      "Help on function fib in module __main__:\n",
      "\n",
      "fib(n)\n",
      "    Devuelve una lista con los términos de la serie de Fibonacci hasta n.\n",
      "\n"
     ]
    }
   ],
   "source": [
    "help(fib)"
   ]
  },
  {
   "cell_type": "code",
   "execution_count": 15,
   "metadata": {
    "autoscroll": false,
    "collapsed": false,
    "ein.tags": "worksheet-0",
    "slideshow": {
     "slide_type": "-"
    }
   },
   "outputs": [],
   "source": [
    "fib?"
   ]
  },
  {
   "cell_type": "code",
   "execution_count": 16,
   "metadata": {
    "autoscroll": false,
    "collapsed": false,
    "ein.tags": "worksheet-0",
    "slideshow": {
     "slide_type": "-"
    }
   },
   "outputs": [
    {
     "data": {
      "text/plain": [
       "'Devuelve una lista con los términos de la serie de Fibonacci hasta n.'"
      ]
     },
     "execution_count": 16,
     "metadata": {},
     "output_type": "execute_result"
    }
   ],
   "source": [
    "fib.__doc__"
   ]
  },
  {
   "cell_type": "markdown",
   "metadata": {
    "ein.tags": "worksheet-0",
    "slideshow": {
     "slide_type": "-"
    }
   },
   "source": [
    "Como segundo ejemplo, consideremos el ejercicio donde pedimos la velocidad y altura de una pelota en caída libre. Pero esta vez definimos una función para realizar los cálculos:"
   ]
  },
  {
   "cell_type": "code",
   "execution_count": null,
   "metadata": {
    "collapsed": true
   },
   "outputs": [],
   "source": []
  },
  {
   "cell_type": "code",
   "execution_count": 18,
   "metadata": {
    "autoscroll": false,
    "collapsed": false,
    "ein.tags": "worksheet-0",
    "slideshow": {
     "slide_type": "-"
    }
   },
   "outputs": [],
   "source": [
    "h_0 = 500                       # altura inicial en m\n",
    "v_0 = 0                         # velocidad inicial en m/s\n",
    "g = 9.8                         # aceleración de la gravedad en m/s^2\n",
    "def caida(t):\n",
    "  v = v_0 - g*t\n",
    "  h = h_0 - v_0*t - g*t**2/2.\n",
    "  return v,h"
   ]
  },
  {
   "cell_type": "code",
   "execution_count": 19,
   "metadata": {
    "autoscroll": false,
    "collapsed": false,
    "ein.tags": "worksheet-0",
    "slideshow": {
     "slide_type": "-"
    }
   },
   "outputs": [
    {
     "name": "stdout",
     "output_type": "stream",
     "text": [
      "(-9.8, 495.1)\n"
     ]
    }
   ],
   "source": [
    "print(caida(1.))"
   ]
  },
  {
   "cell_type": "code",
   "execution_count": 20,
   "metadata": {
    "autoscroll": false,
    "collapsed": false,
    "ein.tags": "worksheet-0",
    "slideshow": {
     "slide_type": "-"
    }
   },
   "outputs": [],
   "source": [
    "v, h = caida(1.5)"
   ]
  },
  {
   "cell_type": "code",
   "execution_count": 21,
   "metadata": {
    "autoscroll": false,
    "collapsed": false,
    "ein.tags": "worksheet-0",
    "slideshow": {
     "slide_type": "-"
    }
   },
   "outputs": [
    {
     "name": "stdout",
     "output_type": "stream",
     "text": [
      "Para t = 1.5, la velocidad será v=-14.700000000000001, y estará a una altura 488.98\n"
     ]
    }
   ],
   "source": [
    "print('Para t = {0}, la velocidad será v={1}, y estará a una altura {2:.2f}'.format(1.5, v, h))"
   ]
  },
  {
   "cell_type": "code",
   "execution_count": 22,
   "metadata": {
    "autoscroll": false,
    "collapsed": false,
    "ein.tags": "worksheet-0",
    "slideshow": {
     "slide_type": "-"
    }
   },
   "outputs": [
    {
     "name": "stdout",
     "output_type": "stream",
     "text": [
      "Para t = 2.2, la velocidad será v=-21.560000000000002, y estará a una altura 476.284\n"
     ]
    }
   ],
   "source": [
    "print('Para t = {0}, la velocidad será v={1}, y estará a una altura {2}'.format(\n",
    "       2.2, *caida(2.2)))"
   ]
  },
  {
   "cell_type": "markdown",
   "metadata": {
    "ein.tags": "worksheet-0",
    "slideshow": {
     "slide_type": "-"
    }
   },
   "source": [
    "Podemos mejorar considerablemente la funcionalidad si le damos la posibilidad al usuario de dar la posición y la velocidad iniciales"
   ]
  },
  {
   "cell_type": "code",
   "execution_count": 23,
   "metadata": {
    "autoscroll": false,
    "collapsed": false,
    "ein.tags": "worksheet-0",
    "slideshow": {
     "slide_type": "-"
    }
   },
   "outputs": [],
   "source": [
    "g = 9.8                         # aceleración de la gravedad en m/s^2\n",
    "def caida2(t, h_0, v_0):\n",
    "  v = v_0 - g*t\n",
    "  h = h_0 - v_0*t - g*t**2/2.\n",
    "  return v,h"
   ]
  },
  {
   "cell_type": "code",
   "execution_count": 24,
   "metadata": {
    "autoscroll": false,
    "collapsed": false,
    "ein.tags": "worksheet-0",
    "slideshow": {
     "slide_type": "-"
    }
   },
   "outputs": [
    {
     "name": "stdout",
     "output_type": "stream",
     "text": [
      "Para caída desde 100m, con vel. inicial 12m/s, a t = 2.2, la velocidad será v=-9.560000000000002, y estará a una altura 49.883999999999986\n"
     ]
    }
   ],
   "source": [
    "print('Para caída desde {h0}m, con vel. inicial {v0}m/s, a t = {0}, la velocidad será v={1}, y estará a una altura {2}'.\n",
    "      format(2.2, *caida2(2.2, 100, 12), h0=100, v0=12))"
   ]
  },
  {
   "cell_type": "markdown",
   "metadata": {
    "ein.tags": "worksheet-0",
    "slideshow": {
     "slide_type": "-"
    }
   },
   "source": [
    "### Ámbito de las variables en los argumentos\n",
    "Consideremos la siguiente función\n"
   ]
  },
  {
   "cell_type": "code",
   "execution_count": 25,
   "metadata": {
    "autoscroll": false,
    "collapsed": false,
    "ein.tags": "worksheet-0",
    "slideshow": {
     "slide_type": "-"
    }
   },
   "outputs": [
    {
     "name": "stdout",
     "output_type": "stream",
     "text": [
      "Originalmente x vale 50\n",
      "x entró a la función con el valor 50\n",
      "El nuevo valor de x es 2\n",
      "Ahora x vale 50\n"
     ]
    }
   ],
   "source": [
    "x = 50\n",
    "print('Originalmente x vale',x)\n",
    "def func1(x):\n",
    "  print('x entró a la función con el valor', x)\n",
    "  x = 2\n",
    "  print('El nuevo valor de x es', x)\n",
    "\n",
    "func1(x)\n",
    "print('Ahora x vale',x)  "
   ]
  },
  {
   "cell_type": "markdown",
   "metadata": {
    "ein.tags": "worksheet-0",
    "slideshow": {
     "slide_type": "-"
    }
   },
   "source": [
    "Consideremos esta variante:"
   ]
  },
  {
   "cell_type": "code",
   "execution_count": 26,
   "metadata": {
    "autoscroll": false,
    "collapsed": false,
    "ein.tags": "worksheet-0",
    "slideshow": {
     "slide_type": "-"
    }
   },
   "outputs": [
    {
     "name": "stdout",
     "output_type": "stream",
     "text": [
      "Originalmente x vale [50]\n",
      "x entró a la función con el valor [50]\n",
      "El nuevo valor de x es [2, 7]\n",
      "Ahora x vale [50]\n"
     ]
    }
   ],
   "source": [
    "x = [50]\n",
    "print('Originalmente x vale',x)\n",
    "def func2(x):\n",
    "  print('x entró a la función con el valor', x)\n",
    "  x = [2,7]\n",
    "  print('El nuevo valor de x es', x)\n",
    "\n",
    "func2(x)\n",
    "print('Ahora x vale',x)  "
   ]
  },
  {
   "cell_type": "code",
   "execution_count": 28,
   "metadata": {
    "autoscroll": false,
    "collapsed": false,
    "ein.tags": "worksheet-0",
    "slideshow": {
     "slide_type": "-"
    }
   },
   "outputs": [
    {
     "name": "stdout",
     "output_type": "stream",
     "text": [
      "Originalmente x vale [50]\n",
      "x entró a la función con el valor [50]\n",
      "El nuevo valor de x es [2]\n",
      "Ahora x vale [2]\n"
     ]
    }
   ],
   "source": [
    "x = [50]\n",
    "print('Originalmente x vale',x)\n",
    "def func3(x):\n",
    "  print('x entró a la función con el valor', x)\n",
    "  x[0] = 2\n",
    "  print('El nuevo valor de x es', x)\n",
    "\n",
    "func3(x)\n",
    "print('Ahora x vale',x)  "
   ]
  },
  {
   "cell_type": "markdown",
   "metadata": {
    "ein.tags": "worksheet-0",
    "slideshow": {
     "slide_type": "-"
    }
   },
   "source": [
    "¿Qué está pasando acá? \n",
    "\n",
    "Cuando se realiza la llamada a la función, se le pasa una copia del nombre `x`. Cuando le damos un nuevo valor dentro de la función, como en el caso `x = [2]`, entonces esta copia apunta a un nuevo objeto que estamos creando. Por lo tanto, la variable original --definida fuera de la función-- no cambia.\n",
    "\n",
    "Por otro lado, cuando asignamos directamente un valor a uno o más de sus elementos, la copia sigue apuntando a la variable original y el valor de la variable definida fuera cambia.\n",
    "\n",
    "En el primer caso, como los escalares son inmutables (de la misma manera que los strings y tuplas) no puede ser modificada, y al reasignarla siempre estamos haciendo apuntar la copia a una nueva variable.\n",
    "\n",
    "\n",
    "### Funciones con argumentos opcionales\n",
    "\n",
    "Las funciones pueden tener muchos argumentos. En **Python** pueden tener un número variable de argumentos y pueden tener valores por *default* para algunos de ellos. En el caso de la función de caída libre, vamos a extenderlo de manera que podamos usarlo fuera de la tierra (o en otras latitudes) permitiendo cambiar el valor de la gravedad y asumiendo que, a menos que lo pidamos explícitamente se trata de una simple caída libre:"
   ]
  },
  {
   "cell_type": "code",
   "execution_count": 29,
   "metadata": {
    "autoscroll": false,
    "collapsed": false,
    "ein.tags": "worksheet-0",
    "slideshow": {
     "slide_type": "-"
    }
   },
   "outputs": [],
   "source": [
    "def caida_libre(t, h0, v0 = 0., g=9.8):\n",
    "  \"\"\"Devuelve la velocidad y la posición de una partícula en\n",
    "  caída libre para condiciones iniciales dadas\n",
    "\n",
    "  Parameters\n",
    "  ----------\n",
    "  t : float\n",
    "      el tiempo al que queremos realizar el cálculo\n",
    "  h0: float \n",
    "      la altura inicial\n",
    "  v0: float (opcional)\n",
    "      la velocidad inicial (default = 0.0)\n",
    "   g: float (opcional)\n",
    "      valor de la aceleración de la gravedad\n",
    "\n",
    "  Returns\n",
    "  -------\n",
    "  (v,h):  tuple of floats\n",
    "       v= v0 - g*t\n",
    "       h= h0 - v0*t -g*t^2/2\n",
    "  \n",
    "  \"\"\"\n",
    "  v = v0 - g*t\n",
    "  h = h0 - v0*t - g*t**2/2.\n",
    "  return v,h\n"
   ]
  },
  {
   "cell_type": "code",
   "execution_count": 30,
   "metadata": {
    "autoscroll": false,
    "collapsed": false,
    "ein.tags": "worksheet-0",
    "slideshow": {
     "slide_type": "-"
    }
   },
   "outputs": [
    {
     "ename": "TypeError",
     "evalue": "caida_libre() missing 1 required positional argument: 'h0'",
     "output_type": "error",
     "traceback": [
      "\u001b[1;31m---------------------------------------------------------------------------\u001b[0m",
      "\u001b[1;31mTypeError\u001b[0m                                 Traceback (most recent call last)",
      "\u001b[1;32m<ipython-input-30-a34c9e55d52e>\u001b[0m in \u001b[0;36m<module>\u001b[1;34m()\u001b[0m\n\u001b[1;32m----> 1\u001b[1;33m \u001b[0mprint\u001b[0m\u001b[1;33m(\u001b[0m\u001b[0mcaida_libre\u001b[0m\u001b[1;33m(\u001b[0m\u001b[1;36m2\u001b[0m\u001b[1;33m)\u001b[0m\u001b[1;33m)\u001b[0m        \u001b[1;31m# Desde 500 metros con velocidad inicial cero\u001b[0m\u001b[1;33m\u001b[0m\u001b[0m\n\u001b[0m",
      "\u001b[1;31mTypeError\u001b[0m: caida_libre() missing 1 required positional argument: 'h0'"
     ]
    }
   ],
   "source": [
    "print(caida_libre(2))        # Desde 500 metros con velocidad inicial cero"
   ]
  },
  {
   "cell_type": "code",
   "execution_count": 37,
   "metadata": {
    "autoscroll": false,
    "collapsed": false,
    "ein.tags": "worksheet-0",
    "slideshow": {
     "slide_type": "-"
    }
   },
   "outputs": [
    {
     "name": "stdout",
     "output_type": "stream",
     "text": [
      "(-29.6, 1000.4)\n"
     ]
    }
   ],
   "source": [
    "print(caida_libre(2, 1000, v0=-10)) # Desde 1000 metros con velocidad inicial hacia arriba"
   ]
  },
  {
   "cell_type": "code",
   "execution_count": 34,
   "metadata": {
    "autoscroll": false,
    "collapsed": false,
    "ein.tags": "worksheet-0",
    "slideshow": {
     "slide_type": "-"
    }
   },
   "outputs": [
    {
     "name": "stdout",
     "output_type": "stream",
     "text": [
      "(-19.6, 980.4)\n"
     ]
    }
   ],
   "source": [
    "print(caida_libre(t=2, h0= 1000))  # Desde 1000 metros con velocidad inicial cero"
   ]
  },
  {
   "cell_type": "code",
   "execution_count": 38,
   "metadata": {
    "autoscroll": false,
    "collapsed": false,
    "ein.tags": "worksheet-0",
    "slideshow": {
     "slide_type": "-"
    }
   },
   "outputs": [
    {
     "name": "stdout",
     "output_type": "stream",
     "text": [
      "(-19.6, 980.4)\n"
     ]
    }
   ],
   "source": [
    "print(caida_libre(v0=0., h0=1000, t=2))  # Desde 1000 metros con velocidad inicial cero"
   ]
  },
  {
   "cell_type": "code",
   "execution_count": 39,
   "metadata": {
    "collapsed": true
   },
   "outputs": [],
   "source": [
    "def ff(x):\n",
    "    return x + pp"
   ]
  },
  {
   "cell_type": "code",
   "execution_count": 40,
   "metadata": {
    "collapsed": true
   },
   "outputs": [],
   "source": [
    "pp = 10"
   ]
  },
  {
   "cell_type": "code",
   "execution_count": 42,
   "metadata": {
    "collapsed": false
   },
   "outputs": [
    {
     "data": {
      "text/plain": [
       "34"
      ]
     },
     "execution_count": 42,
     "metadata": {},
     "output_type": "execute_result"
    }
   ],
   "source": [
    "ff(33)"
   ]
  },
  {
   "cell_type": "markdown",
   "metadata": {
    "ein.tags": "worksheet-0",
    "slideshow": {
     "slide_type": "-"
    }
   },
   "source": [
    "No se pueden usar argumentos con *nombre* antes de los argumentos requeridos (en este caso ``t``).\n",
    "\n",
    "Tampoco se pueden usar argumentos sin su *nombre* después de haber incluido alguno con su nombre. Por ejemplo no son válidas las llamadas:\n",
    "```python\n",
    "caida_libre(t=2, 0.)\n",
    "caida_libre(2, v0=0., 1000)\n",
    "```"
   ]
  },
  {
   "cell_type": "markdown",
   "metadata": {
    "ein.tags": "worksheet-0",
    "slideshow": {
     "slide_type": "-"
    }
   },
   "source": [
    "### Argumentos keywords y número variable de argumentos\n",
    "\n",
    "Se pueden definir funciones que toman un número variable de argumentos (como una lista), o que aceptan un diccionario como argumento. Este tipo de argumentos se llaman argumentos *keyword* (``kwargs``). \n",
    "Una buena explicación se encuentra en el [Tutorial de la documentación](https://docs.python.org/3/tutorial/controlflow.html#keyword-arguments). Ahora vamos a usar la explicación rápida de otro tutorial"
   ]
  },
  {
   "cell_type": "code",
   "execution_count": 43,
   "metadata": {
    "autoscroll": false,
    "collapsed": false,
    "ein.tags": "worksheet-0",
    "slideshow": {
     "slide_type": "-"
    }
   },
   "outputs": [
    {
     "name": "stdout",
     "output_type": "stream",
     "text": [
      "p: 1\n",
      "args: (2, 3)\n",
      "kwargs: {}\n"
     ]
    }
   ],
   "source": [
    "def f(p, *args, **kwargs):\n",
    "     print( \"p:\", p)\n",
    "     print( \"args:\", args)\n",
    "     print( \"kwargs:\", kwargs)\n",
    "\n",
    "f(1,2,3)"
   ]
  },
  {
   "cell_type": "code",
   "execution_count": 44,
   "metadata": {
    "autoscroll": false,
    "collapsed": false,
    "ein.tags": "worksheet-0",
    "slideshow": {
     "slide_type": "-"
    }
   },
   "outputs": [
    {
     "name": "stdout",
     "output_type": "stream",
     "text": [
      "p: 1\n",
      "args: (2, 3, 5)\n",
      "kwargs: {'anteultimo': 3, 'ultimo': 1}\n"
     ]
    }
   ],
   "source": [
    "f(1,2, 3, 5, anteultimo= 3, ultimo = 1)"
   ]
  },
  {
   "cell_type": "markdown",
   "metadata": {
    "ein.tags": "worksheet-0",
    "slideshow": {
     "slide_type": "-"
    }
   },
   "source": [
    "Con `*args` se indica *\"mapear todos los argumentos posicionales no explícitos a una tupla llamada `args`\"*. Con `**kwargs` se indica \"mapear todos los argumentos de palabra clave no explícitos a un diccionario llamado `kwargs`\".\n",
    "**NOTA**: No es necesario los nombres \"args\" y \"kwargs\", podemos llamarlas diferente! los simbolos que indican cantidades arbitrarias de parametros son `*` y `**`. Además es posible poner parametros \"comunes\" antes de los parametros arbritarios. \n",
    "\n",
    "Un ejemplo de uso de esto puede ser la función `multiplica`:"
   ]
  },
  {
   "cell_type": "code",
   "execution_count": 52,
   "metadata": {
    "autoscroll": false,
    "collapsed": false,
    "ein.tags": "worksheet-0",
    "slideshow": {
     "slide_type": "-"
    }
   },
   "outputs": [],
   "source": [
    "def multiplica(*args):\n",
    "  s = 1\n",
    "  print(type(args))\n",
    "  for a in args:\n",
    "    s *= a\n",
    "  return s"
   ]
  },
  {
   "cell_type": "code",
   "execution_count": 53,
   "metadata": {
    "autoscroll": false,
    "collapsed": false,
    "ein.tags": "worksheet-0",
    "slideshow": {
     "slide_type": "-"
    }
   },
   "outputs": [
    {
     "name": "stdout",
     "output_type": "stream",
     "text": [
      "<class 'tuple'>\n"
     ]
    },
    {
     "data": {
      "text/plain": [
       "10"
      ]
     },
     "execution_count": 53,
     "metadata": {},
     "output_type": "execute_result"
    }
   ],
   "source": [
    "multiplica(2,5)"
   ]
  },
  {
   "cell_type": "code",
   "execution_count": 50,
   "metadata": {
    "autoscroll": false,
    "collapsed": false,
    "ein.tags": "worksheet-0",
    "slideshow": {
     "slide_type": "-"
    }
   },
   "outputs": [
    {
     "data": {
      "text/plain": [
       "3240"
      ]
     },
     "execution_count": 50,
     "metadata": {},
     "output_type": "execute_result"
    }
   ],
   "source": [
    "multiplica(2,3,5,9,12)"
   ]
  },
  {
   "cell_type": "code",
   "execution_count": 51,
   "metadata": {
    "collapsed": false
   },
   "outputs": [
    {
     "data": {
      "text/plain": [
       "1"
      ]
     },
     "execution_count": 51,
     "metadata": {},
     "output_type": "execute_result"
    }
   ],
   "source": [
    "multiplica()"
   ]
  },
  {
   "cell_type": "markdown",
   "metadata": {
    "ein.tags": "worksheet-0",
    "slideshow": {
     "slide_type": "-"
    }
   },
   "source": [
    "### La operación inversa: Desempacar secuencias o diccionarios\n",
    "\n",
    "Si ya tengo los parámetros que quiero pasar a una función, los \"desempaco\". Veamos lo que esto quiere decir con la función que definimos antes"
   ]
  },
  {
   "cell_type": "code",
   "execution_count": 54,
   "metadata": {
    "collapsed": false
   },
   "outputs": [
    {
     "ename": "TypeError",
     "evalue": "caida_libre() missing 1 required positional argument: 'h0'",
     "output_type": "error",
     "traceback": [
      "\u001b[1;31m---------------------------------------------------------------------------\u001b[0m",
      "\u001b[1;31mTypeError\u001b[0m                                 Traceback (most recent call last)",
      "\u001b[1;32m<ipython-input-54-1632a16a6aa4>\u001b[0m in \u001b[0;36m<module>\u001b[1;34m()\u001b[0m\n\u001b[0;32m      1\u001b[0m \u001b[0mdatos\u001b[0m \u001b[1;33m=\u001b[0m \u001b[1;33m(\u001b[0m\u001b[1;36m5.4\u001b[0m\u001b[1;33m,\u001b[0m \u001b[1;36m1000\u001b[0m\u001b[1;33m,\u001b[0m \u001b[1;36m0\u001b[0m\u001b[1;33m)\u001b[0m\u001b[1;33m\u001b[0m\u001b[0m\n\u001b[1;32m----> 2\u001b[1;33m \u001b[0mcaida_libre\u001b[0m\u001b[1;33m(\u001b[0m\u001b[0mdatos\u001b[0m\u001b[1;33m)\u001b[0m\u001b[1;33m\u001b[0m\u001b[0m\n\u001b[0m",
      "\u001b[1;31mTypeError\u001b[0m: caida_libre() missing 1 required positional argument: 'h0'"
     ]
    }
   ],
   "source": [
    "datos = (5.4, 1000, 0)\n",
    "caida_libre(datos)"
   ]
  },
  {
   "cell_type": "code",
   "execution_count": 55,
   "metadata": {
    "autoscroll": false,
    "collapsed": false,
    "ein.tags": "worksheet-0",
    "slideshow": {
     "slide_type": "-"
    }
   },
   "outputs": [
    {
     "name": "stdout",
     "output_type": "stream",
     "text": [
      "(-52.92000000000001, 857.116)\n",
      "v=-1.08, h=997.084\n"
     ]
    }
   ],
   "source": [
    "datos = (5.4, 1000., 0.)        #  Una lista (tuple en realidad)\n",
    "otros_datos = {'t':5.4, 'h0': 1000., \"g\" : 0.2} # diccionario, caída libre en la luna\n",
    "print (caida_libre(*datos))\n",
    "v, h = caida_libre(**otros_datos)\n",
    "print ('v={}, h={}'.format(v,h))\n"
   ]
  },
  {
   "cell_type": "markdown",
   "metadata": {
    "ein.tags": "worksheet-0",
    "slideshow": {
     "slide_type": "-"
    }
   },
   "source": [
    "* la notación `(*datos)` convierte la tuple (o lista) en los tres argumentos que acepta la función caída libre. Los siguientes dos llamados son equivalentes:\n",
    "```python\n",
    "caida_libre(*datos)\n",
    "caida_libre(5.4, 1000., 0.)\n",
    "```\n",
    "* la notación `(**otros_datos)` desempaca el diccionario en pares `clave=valor`, siendo equivalentes los dos llamados:\n",
    "```python\n",
    "caida_libre(**otros_datos)\n",
    "caida_libre(t=5.4, h0=1000., g=0.2)\n",
    "```\n"
   ]
  },
  {
   "cell_type": "markdown",
   "metadata": {
    "ein.tags": "worksheet-0",
    "slideshow": {
     "slide_type": "-"
    }
   },
   "source": [
    "### Documentación (doc strings)\n",
    "\n",
    "Cuando definimos la función le agregamos un string con una descripción. Esta puede utilizarse luego como documentación"
   ]
  },
  {
   "cell_type": "code",
   "execution_count": 56,
   "metadata": {
    "autoscroll": false,
    "collapsed": false,
    "ein.tags": "worksheet-0",
    "slideshow": {
     "slide_type": "-"
    }
   },
   "outputs": [],
   "source": [
    "caida_libre?"
   ]
  },
  {
   "cell_type": "code",
   "execution_count": 57,
   "metadata": {
    "autoscroll": false,
    "collapsed": false,
    "ein.tags": "worksheet-0",
    "slideshow": {
     "slide_type": "-"
    }
   },
   "outputs": [
    {
     "name": "stdout",
     "output_type": "stream",
     "text": [
      "Help on function caida_libre in module __main__:\n",
      "\n",
      "caida_libre(t, h0, v0=0.0, g=9.8)\n",
      "    Devuelve la velocidad y la posición de una partícula en\n",
      "    caída libre para condiciones iniciales dadas\n",
      "    \n",
      "    Parameters\n",
      "    ----------\n",
      "    t : float\n",
      "        el tiempo al que queremos realizar el cálculo\n",
      "    h0: float \n",
      "        la altura inicial\n",
      "    v0: float (opcional)\n",
      "        la velocidad inicial (default = 0.0)\n",
      "     g: float (opcional)\n",
      "        valor de la aceleración de la gravedad\n",
      "    \n",
      "    Returns\n",
      "    -------\n",
      "    (v,h):  tuple of floats\n",
      "         v= v0 - g*t\n",
      "         h= h0 - v0*t -g*t^2/2\n",
      "\n"
     ]
    }
   ],
   "source": [
    "help(caida_libre)"
   ]
  },
  {
   "cell_type": "markdown",
   "metadata": {
    "ein.tags": "worksheet-0",
    "slideshow": {
     "slide_type": "-"
    }
   },
   "source": [
    "### Funciones como argumento y retorno\n",
    "\n",
    "Las funciones pueden ser pasadas como argumento y pueden ser retornadas por una función, como cualquier otro objeto (números, listas, tuples, cadenas de caracteres, diccionarios, etc):\n"
   ]
  },
  {
   "cell_type": "code",
   "execution_count": 61,
   "metadata": {
    "autoscroll": false,
    "collapsed": false,
    "ein.tags": "worksheet-0",
    "slideshow": {
     "slide_type": "-"
    }
   },
   "outputs": [
    {
     "name": "stdout",
     "output_type": "stream",
     "text": [
      "[1, 3.3, 5, 7.5, 2.2]\n",
      "19.0 24.0\n",
      "1 2\n",
      "7.5 8.5\n"
     ]
    }
   ],
   "source": [
    "def mas_uno(func):\n",
    "  \"Devuelve una función\"\n",
    "\n",
    "  def fun(args):\n",
    "    \"Agrega 1 a cada uno de los elementos y luego aplica la función\"\n",
    "    xx = [x+1 for x in args]\n",
    "    y= func(xx)\n",
    "    return y\n",
    "  \n",
    "  return fun\n",
    "\n",
    "h= mas_uno(sum)\n",
    "f= mas_uno(min)\n",
    "print(a)\n",
    "print(sum(a), h(a))\n",
    "print(min(a), f(a))\n",
    "print(max(a), mas_uno(max)(a))\n",
    "\n"
   ]
  },
  {
   "cell_type": "code",
   "execution_count": 60,
   "metadata": {
    "collapsed": false
   },
   "outputs": [
    {
     "data": {
      "text/plain": [
       "<function __main__.mas_uno.<locals>.fun>"
      ]
     },
     "execution_count": 60,
     "metadata": {},
     "output_type": "execute_result"
    }
   ],
   "source": [
    "h"
   ]
  },
  {
   "cell_type": "markdown",
   "metadata": {
    "ein.tags": "worksheet-0",
    "slideshow": {
     "slide_type": "-"
    }
   },
   "source": [
    "## Aplicación: Ordenamiento de listas\n",
    "\n",
    "Consideremos el problema del ordenamiento de una lista de strings. Como vemos el resultado usual no es necesariamente el deseado"
   ]
  },
  {
   "cell_type": "code",
   "execution_count": 62,
   "metadata": {
    "autoscroll": false,
    "collapsed": false,
    "ein.tags": "worksheet-0",
    "slideshow": {
     "slide_type": "-"
    }
   },
   "outputs": [
    {
     "name": "stdout",
     "output_type": "stream",
     "text": [
      "['Estudiantes', 'caballeros', 'Python', 'Curso', 'pc', 'aereo']\n",
      "['Curso', 'Estudiantes', 'Python', 'aereo', 'caballeros', 'pc']\n",
      "['estudiantes', 'caballeros', 'python', 'curso', 'pc', 'aereo']\n",
      "['aereo', 'caballeros', 'curso', 'estudiantes', 'pc', 'python']\n"
     ]
    }
   ],
   "source": [
    "s1 = ['Estudiantes', 'caballeros', 'Python', 'Curso', 'pc', 'aereo']\n",
    "s2 = ['estudiantes', 'caballeros', 'python', 'curso', 'pc', 'aereo']\n",
    "print(s1)\n",
    "print(sorted(s1))\n",
    "print(s2)\n",
    "print(sorted(s2))"
   ]
  },
  {
   "cell_type": "markdown",
   "metadata": {
    "ein.tags": "worksheet-0",
    "slideshow": {
     "slide_type": "-"
    }
   },
   "source": [
    "Posiblemente queremos el orden que obtuvimos en segundo lugar pero con los elementos dados originalmente (con sus mayúsculas y minúsculas originales).\n",
    "Para poder modificar el modo en que se ordenan los elementos, la función `sorted` (y el método `sort`) tienen el argumento opcional `key`"
   ]
  },
  {
   "cell_type": "code",
   "execution_count": 63,
   "metadata": {
    "autoscroll": false,
    "collapsed": false,
    "ein.tags": "worksheet-0",
    "slideshow": {
     "slide_type": "-"
    }
   },
   "outputs": [
    {
     "name": "stdout",
     "output_type": "stream",
     "text": [
      "Help on built-in function sorted in module builtins:\n",
      "\n",
      "sorted(iterable, key=None, reverse=False)\n",
      "    Return a new list containing all items from the iterable in ascending order.\n",
      "    \n",
      "    A custom key function can be supplied to customize the sort order, and the\n",
      "    reverse flag can be set to request the result in descending order.\n",
      "\n"
     ]
    }
   ],
   "source": [
    "help(sorted)"
   ]
  },
  {
   "cell_type": "code",
   "execution_count": 64,
   "metadata": {
    "autoscroll": false,
    "collapsed": false,
    "ein.tags": "worksheet-0",
    "slideshow": {
     "slide_type": "-"
    }
   },
   "outputs": [
    {
     "data": {
      "text/plain": [
       "['aereo', 'caballeros', 'Curso', 'Estudiantes', 'pc', 'Python']"
      ]
     },
     "execution_count": 64,
     "metadata": {},
     "output_type": "execute_result"
    }
   ],
   "source": [
    "sorted(s1, key=str.lower)"
   ]
  },
  {
   "cell_type": "markdown",
   "metadata": {
    "ein.tags": "worksheet-0",
    "slideshow": {
     "slide_type": "-"
    }
   },
   "source": [
    "Como vemos, los strings están ordenados adecuadamente. Si queremos ordenarlos por longitud de la palabra"
   ]
  },
  {
   "cell_type": "code",
   "execution_count": 65,
   "metadata": {
    "autoscroll": false,
    "collapsed": false,
    "ein.tags": "worksheet-0",
    "slideshow": {
     "slide_type": "-"
    }
   },
   "outputs": [
    {
     "data": {
      "text/plain": [
       "['pc', 'Curso', 'aereo', 'Python', 'caballeros', 'Estudiantes']"
      ]
     },
     "execution_count": 65,
     "metadata": {},
     "output_type": "execute_result"
    }
   ],
   "source": [
    "sorted(s1, key=len)"
   ]
  },
  {
   "cell_type": "code",
   "execution_count": 67,
   "metadata": {
    "collapsed": false
   },
   "outputs": [
    {
     "data": {
      "text/plain": [
       "'ahora'"
      ]
     },
     "execution_count": 67,
     "metadata": {},
     "output_type": "execute_result"
    }
   ],
   "source": [
    "str.lower('Ahora')"
   ]
  },
  {
   "cell_type": "code",
   "execution_count": 68,
   "metadata": {
    "collapsed": true
   },
   "outputs": [],
   "source": [
    "n = [1,5,9,11]"
   ]
  },
  {
   "cell_type": "code",
   "execution_count": 69,
   "metadata": {
    "collapsed": false
   },
   "outputs": [
    {
     "data": {
      "text/plain": [
       "[1, 5, 9, 11]"
      ]
     },
     "execution_count": 69,
     "metadata": {},
     "output_type": "execute_result"
    }
   ],
   "source": [
    "sorted(n)"
   ]
  },
  {
   "cell_type": "code",
   "execution_count": 71,
   "metadata": {
    "collapsed": false
   },
   "outputs": [
    {
     "data": {
      "text/plain": [
       "[1, 11, 5, 9]"
      ]
     },
     "execution_count": 71,
     "metadata": {},
     "output_type": "execute_result"
    }
   ],
   "source": [
    "sorted(n, key=str)"
   ]
  },
  {
   "cell_type": "markdown",
   "metadata": {
    "ein.tags": "worksheet-0",
    "slideshow": {
     "slide_type": "-"
    }
   },
   "source": [
    "Supongamos que queremos ordenarla alfabéticamente por la segunda letra"
   ]
  },
  {
   "cell_type": "code",
   "execution_count": 72,
   "metadata": {
    "autoscroll": false,
    "collapsed": false,
    "ein.tags": "worksheet-0",
    "slideshow": {
     "slide_type": "-"
    }
   },
   "outputs": [
    {
     "data": {
      "text/plain": [
       "['caballeros', 'pc', 'aereo', 'Estudiantes', 'Curso', 'Python']"
      ]
     },
     "execution_count": 72,
     "metadata": {},
     "output_type": "execute_result"
    }
   ],
   "source": [
    "def segunda(a):\n",
    "  return a[1]\n",
    "\n",
    "sorted(s1, key=segunda)"
   ]
  },
  {
   "cell_type": "markdown",
   "metadata": {
    "ein.tags": "worksheet-0",
    "slideshow": {
     "slide_type": "-"
    }
   },
   "source": [
    "### Funciones anónimas\n",
    "\n",
    "En ocasiones como esta suele ser más rápido (o conveniente) definir la función, que se va a utilizar una única vez, sin darle un nombre. Estas se llaman funciones *lambda*, y el ejemplo anterior se escribiría"
   ]
  },
  {
   "cell_type": "code",
   "execution_count": 73,
   "metadata": {
    "autoscroll": false,
    "collapsed": false,
    "ein.tags": "worksheet-0",
    "slideshow": {
     "slide_type": "-"
    }
   },
   "outputs": [
    {
     "data": {
      "text/plain": [
       "['caballeros', 'pc', 'aereo', 'Estudiantes', 'Curso', 'Python']"
      ]
     },
     "execution_count": 73,
     "metadata": {},
     "output_type": "execute_result"
    }
   ],
   "source": [
    "sorted(s1, key=lambda a: a[1])"
   ]
  }
 ],
 "metadata": {
  "kernelspec": {
   "display_name": "Python 3",
   "language": "python",
   "name": "python3"
  },
  "language_info": {
   "codemirror_mode": {
    "name": "ipython",
    "version": 3
   },
   "file_extension": ".py",
   "mimetype": "text/x-python",
   "name": "python",
   "nbconvert_exporter": "python",
   "pygments_lexer": "ipython3",
   "version": "3.5.3"
  },
  "name": "04_funciones.ipynb"
 },
 "nbformat": 4,
 "nbformat_minor": 0
}
