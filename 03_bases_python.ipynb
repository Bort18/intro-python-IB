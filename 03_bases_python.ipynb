{
 "cells": [
  {
   "cell_type": "markdown",
   "metadata": {
    "ein.tags": "worksheet-0",
    "slideshow": {
     "slide_type": "-"
    }
   },
   "source": [
    "# Tipos complejos y control de flujo 2\n",
    "\n",
    "## Tipos complejos de datos"
   ]
  },
  {
   "cell_type": "markdown",
   "metadata": {
    "ein.tags": "worksheet-0",
    "slideshow": {
     "slide_type": "-"
    }
   },
   "source": [
    "### Listas y tuples\n",
    "\n",
    "Listas y tuples son colecciones *ordenadas* sobre las que se puede iterar (moverse de un elemento al siguiente), y también tienen **métodos** que simplifican muchas operaciones de uso común.\n",
    "\n",
    "Ambos pueden contener elementos de cualquier tipo, y además no todos los elementos tienen que ser del mismo tipo. Por esta razón uno se refiere a estos tipos como **contenedores**.\n",
    "\n",
    "Listas y tuples son bastante similares. La diferencia es que una lista puede cambiarse y una \"tuple\" es inmutable. Esta limitación nos hace cuestionarnos por qué usar tuples si podemos hacer lo mismo con listas.\n",
    "\n",
    "Si bien en la práctica puede haber algunas diferencias de optimización y la principal diferencia es la mutabilidad o no, la idea de tener dos tipos diferentes es que las listas se utilicen principalmente para agrupar datos donde cada uno de ellos tiene un valor diferente pero cumplen la misma función (datos homogéneos), como en:"
   ]
  },
  {
   "cell_type": "code",
   "execution_count": 1,
   "metadata": {
    "autoscroll": false,
    "collapsed": false,
    "ein.tags": "worksheet-0",
    "slideshow": {
     "slide_type": "-"
    }
   },
   "outputs": [],
   "source": [
    "Temp_min = [13, 12, 7, 9, 11, 9, 13, 12, 13]\n",
    "Temp_max = [23, 21, 22, 24, 27, 25, 22, 28, 26]"
   ]
  },
  {
   "cell_type": "markdown",
   "metadata": {
    "ein.tags": "worksheet-0",
    "slideshow": {
     "slide_type": "-"
    }
   },
   "source": [
    "donde un número, si bien diferente a otro, representa en cada caso el mismo dato (temperatura mínima o máxima) mientras que las *tuples* se utilizan para agrupar datos donde cada uno de ellos no representa lo mismo (como una versión simple de estructuras en C). Por ejemplo, podríamos guardar los datos climáticos por día\n"
   ]
  },
  {
   "cell_type": "code",
   "execution_count": 1,
   "metadata": {
    "autoscroll": false,
    "collapsed": false,
    "ein.tags": "worksheet-0",
    "slideshow": {
     "slide_type": "-"
    }
   },
   "outputs": [
    {
     "name": "stdout",
     "output_type": "stream",
     "text": [
      "[(13, 23, 78, 'soleado', '6:30', '19:47'), (12, 21, 87, 'soleado', '6:30', '19:48')]\n"
     ]
    }
   ],
   "source": [
    "clima = []\n",
    "clima_ayer = (13, 23, 78, \"soleado\", \"6:30\", \"19:47\")\n",
    "clima_hoy = (12, 21, 87, \"soleado\", \"6:30\", \"19:48\")\n",
    "clima.append(clima_ayer)\n",
    "clima.append(clima_hoy)\n",
    "print(clima)"
   ]
  },
  {
   "cell_type": "markdown",
   "metadata": {
    "ein.tags": "worksheet-0",
    "slideshow": {
     "slide_type": "-"
    }
   },
   "source": [
    "Veamos algunas definiciones y ejemplos."
   ]
  },
  {
   "cell_type": "code",
   "execution_count": 2,
   "metadata": {
    "autoscroll": false,
    "collapsed": false,
    "ein.tags": "worksheet-0",
    "slideshow": {
     "slide_type": "-"
    }
   },
   "outputs": [],
   "source": [
    "l1 = [1, 2, 3]\n",
    "l2 = ['bananas','manzanas','naranjas','uvas']\n",
    "l4 = 'Somos los colectiveros y cumplimos nuestro deber'.split()\n",
    "mezcla = [1.2, \"Messi\", 12e6, l4, l2[1]]\n",
    "t1 = (1,2,3)\n",
    "t2 = (1, 2, 3, 'manzanas')"
   ]
  },
  {
   "cell_type": "code",
   "execution_count": 4,
   "metadata": {
    "autoscroll": false,
    "collapsed": false,
    "ein.tags": "worksheet-0",
    "slideshow": {
     "slide_type": "-"
    }
   },
   "outputs": [
    {
     "name": "stdout",
     "output_type": "stream",
     "text": [
      "tipo de l1: <class 'list'> , tipo de t1: <class 'tuple'>\n",
      "primer elemento de l1, t1 y l2:   1 1 bananas\n",
      "--------------------------------------------------------------------------------\n",
      "l1 is t1?  False\n"
     ]
    }
   ],
   "source": [
    "print ('tipo de l1:', type(l1), ', tipo de t1:', type(t1))\n",
    "print ('primer elemento de l1, t1 y l2:  ', l1[0], t1[0], l2[0])\n",
    "print (80*'-')\n",
    "print ('l1 is t1? ', l1 is t1)"
   ]
  },
  {
   "cell_type": "code",
   "execution_count": 5,
   "metadata": {
    "autoscroll": false,
    "collapsed": false,
    "ein.tags": "worksheet-0",
    "slideshow": {
     "slide_type": "-"
    }
   },
   "outputs": [
    {
     "name": "stdout",
     "output_type": "stream",
     "text": [
      "t3 is t1?  True\n",
      "[1, 2, 3, 'manzanas']\n"
     ]
    }
   ],
   "source": [
    "t3 = t1\n",
    "print ('t3 is t1? ', t3 is t1)\n",
    "l5 = list(t2)\n",
    "print (l5)"
   ]
  },
  {
   "cell_type": "code",
   "execution_count": 6,
   "metadata": {
    "autoscroll": false,
    "collapsed": false,
    "ein.tags": "worksheet-0",
    "slideshow": {
     "slide_type": "-"
    }
   },
   "outputs": [
    {
     "name": "stdout",
     "output_type": "stream",
     "text": [
      "[1, 2, 3, 'manzanas']\n",
      "(1, 2, 3, 'manzanas')\n",
      "l5 is t2?  False\n",
      "l5 == t2?  False\n",
      "l5 == list(t2)?  True\n",
      "--------------------------------------------------------------------------------\n",
      "(3.4, 'y')\n",
      "[1.2, 'Messi', 12000000.0, ['Somos', 'los', 'colectiveros', 'y', 'cumplimos', 'nuestro', 'deber'], 'manzanas']\n"
     ]
    }
   ],
   "source": [
    "print(l5)\n",
    "print(t2)\n",
    "print ('l5 is t2? ', l5 is t2)\n",
    "print ('l5 == t2? ', l5 == t2)\n",
    "print ('l5 == list(t2)? ', l5 == list(t2))\n",
    "print (80*'-')\n",
    "t3= (3.4, 'y')\n",
    "print (t3)\n",
    "print (mezcla)\n"
   ]
  },
  {
   "cell_type": "markdown",
   "metadata": {
    "ein.tags": "worksheet-0",
    "slideshow": {
     "slide_type": "-"
    }
   },
   "source": [
    "#### Mutabilidad\n",
    "\n",
    "Como mencionamos, una diferencia importante entre listas y tuples es que las tuples son inmutables. Veamos que pasa cuando tratamos de modificar una y otra:"
   ]
  },
  {
   "cell_type": "code",
   "execution_count": 7,
   "metadata": {
    "autoscroll": false,
    "collapsed": false,
    "ein.tags": "worksheet-0",
    "slideshow": {
     "slide_type": "-"
    }
   },
   "outputs": [
    {
     "name": "stdout",
     "output_type": "stream",
     "text": [
      "l1 original:    [1, 2, 3]\n",
      "l1 modificado:  [9, 2, 3]\n"
     ]
    }
   ],
   "source": [
    "print ('l1 original:   ',l1)    \n",
    "l1[0]=9\n",
    "print ('l1 modificado: ',l1)    # Lista modificada"
   ]
  },
  {
   "cell_type": "code",
   "execution_count": 8,
   "metadata": {
    "autoscroll": false,
    "collapsed": false,
    "ein.tags": "worksheet-0",
    "slideshow": {
     "slide_type": "-"
    }
   },
   "outputs": [
    {
     "name": "stdout",
     "output_type": "stream",
     "text": [
      "Modificamos tuples?\n",
      "t1 original:    (1, 2, 3)\n"
     ]
    },
    {
     "ename": "TypeError",
     "evalue": "'tuple' object does not support item assignment",
     "output_type": "error",
     "traceback": [
      "\u001b[1;31m---------------------------------------------------------------------------\u001b[0m",
      "\u001b[1;31mTypeError\u001b[0m                                 Traceback (most recent call last)",
      "\u001b[1;32m<ipython-input-8-358ac61892ce>\u001b[0m in \u001b[0;36m<module>\u001b[1;34m()\u001b[0m\n\u001b[0;32m      1\u001b[0m \u001b[0mprint\u001b[0m \u001b[1;33m(\u001b[0m\u001b[1;34m'Modificamos tuples?'\u001b[0m\u001b[1;33m)\u001b[0m\u001b[1;33m\u001b[0m\u001b[0m\n\u001b[0;32m      2\u001b[0m \u001b[0mprint\u001b[0m \u001b[1;33m(\u001b[0m\u001b[1;34m't1 original:   '\u001b[0m\u001b[1;33m,\u001b[0m\u001b[0mt1\u001b[0m\u001b[1;33m)\u001b[0m\u001b[1;33m\u001b[0m\u001b[0m\n\u001b[1;32m----> 3\u001b[1;33m \u001b[0mt1\u001b[0m\u001b[1;33m[\u001b[0m\u001b[1;36m0\u001b[0m\u001b[1;33m]\u001b[0m\u001b[1;33m=\u001b[0m \u001b[1;36m9\u001b[0m\u001b[1;33m\u001b[0m\u001b[0m\n\u001b[0m",
      "\u001b[1;31mTypeError\u001b[0m: 'tuple' object does not support item assignment"
     ]
    }
   ],
   "source": [
    "print ('Modificamos tuples?')\n",
    "print ('t1 original:   ',t1)\n",
    "t1[0]= 9\n"
   ]
  },
  {
   "cell_type": "code",
   "execution_count": 9,
   "metadata": {
    "autoscroll": false,
    "collapsed": false,
    "ein.tags": "worksheet-0",
    "slideshow": {
     "slide_type": "-"
    }
   },
   "outputs": [
    {
     "name": "stdout",
     "output_type": "stream",
     "text": [
      "y con strings?\n",
      "a original: Hola Mundo\n",
      "Primer elemento: H\n",
      "b original: Chau Mundo\n",
      "b modificado: Hola\n"
     ]
    },
    {
     "ename": "TypeError",
     "evalue": "'str' object does not support item assignment",
     "output_type": "error",
     "traceback": [
      "\u001b[1;31m---------------------------------------------------------------------------\u001b[0m",
      "\u001b[1;31mTypeError\u001b[0m                                 Traceback (most recent call last)",
      "\u001b[1;32m<ipython-input-9-5f6c0cd15a68>\u001b[0m in \u001b[0;36m<module>\u001b[1;34m()\u001b[0m\n\u001b[0;32m      7\u001b[0m \u001b[0mb\u001b[0m \u001b[1;33m=\u001b[0m \u001b[0ma\u001b[0m\u001b[1;33m[\u001b[0m\u001b[1;33m:\u001b[0m\u001b[1;36m4\u001b[0m\u001b[1;33m]\u001b[0m\u001b[1;33m\u001b[0m\u001b[0m\n\u001b[0;32m      8\u001b[0m \u001b[0mprint\u001b[0m\u001b[1;33m(\u001b[0m\u001b[1;34m'b modificado:'\u001b[0m\u001b[1;33m,\u001b[0m \u001b[0mb\u001b[0m\u001b[1;33m)\u001b[0m\u001b[1;33m\u001b[0m\u001b[0m\n\u001b[1;32m----> 9\u001b[1;33m \u001b[0ma\u001b[0m\u001b[1;33m[\u001b[0m\u001b[1;36m0\u001b[0m\u001b[1;33m]\u001b[0m \u001b[1;33m=\u001b[0m \u001b[1;34m'u'\u001b[0m\u001b[1;33m\u001b[0m\u001b[0m\n\u001b[0m\u001b[0;32m     10\u001b[0m \u001b[0mprint\u001b[0m \u001b[1;33m(\u001b[0m\u001b[1;34m'modificado:'\u001b[0m\u001b[1;33m,\u001b[0m \u001b[0ma\u001b[0m\u001b[1;33m)\u001b[0m\u001b[1;33m\u001b[0m\u001b[0m\n",
      "\u001b[1;31mTypeError\u001b[0m: 'str' object does not support item assignment"
     ]
    }
   ],
   "source": [
    "a = \"Hola Mundo\"\n",
    "b = \"Chau Mundo\"\n",
    "print ('y con strings?')\n",
    "print ('a original:',a)\n",
    "print ('Primer elemento:', a[0])\n",
    "print ('b original:', b)\n",
    "b = a[:4]\n",
    "print('b modificado:', b)\n",
    "a[0] = 'u'\n",
    "print ('modificado:', a)\n"
   ]
  },
  {
   "cell_type": "markdown",
   "metadata": {
    "ein.tags": "worksheet-0",
    "slideshow": {
     "slide_type": "-"
    }
   },
   "source": [
    ".. note:: Esto nos dice que los *strings* son inmutables.\n",
    "\n",
    "No se puede cambiar partes de un string (un caracter). Sin embargo se puede modificar completamente (porque lo que está haciendo es destruyéndolo y creando uno nuevo).\n",
    "\n"
   ]
  },
  {
   "cell_type": "markdown",
   "metadata": {
    "ein.tags": "worksheet-0",
    "slideshow": {
     "slide_type": "-"
    }
   },
   "source": [
    "#### Operaciones y métodos sobre listas\n",
    "\n",
    "**Python** tiene definidas las operaciones de suma y multiplicación sobre tuples y listas"
   ]
  },
  {
   "cell_type": "code",
   "execution_count": 53,
   "metadata": {
    "autoscroll": false,
    "collapsed": false,
    "ein.tags": "worksheet-0",
    "slideshow": {
     "slide_type": "-"
    }
   },
   "outputs": [
    {
     "name": "stdout",
     "output_type": "stream",
     "text": [
      "(1, 2, 3, 4, 5, 6, 7, 8, 9, 1, 2, 3, 4, 5, 6, 7, 8, 9) \n",
      " (1, 2, 3, 'manzanas') \n",
      " (1, 2, 3, 4, 5, 6, 7, 8, 9, 1, 2, 3, 4, 5, 6, 7, 8, 9, 1, 2, 3, 'manzanas')\n"
     ]
    }
   ],
   "source": [
    "print(t1, \"\\n\", t2, \"\\n\", t1+t2)"
   ]
  },
  {
   "cell_type": "code",
   "execution_count": 54,
   "metadata": {
    "autoscroll": false,
    "collapsed": false,
    "ein.tags": "worksheet-0",
    "slideshow": {
     "slide_type": "-"
    }
   },
   "outputs": [
    {
     "name": "stdout",
     "output_type": "stream",
     "text": [
      "[1, 2, 3, 4, 5, 6, 7, 8, 9] \n",
      " ['bananas', 'manzanas', 'naranjas', 'uvas'] \n",
      " [1, 2, 3, 4, 5, 6, 7, 8, 9, 'bananas', 'manzanas', 'naranjas', 'uvas']\n"
     ]
    }
   ],
   "source": [
    "print(l1, \"\\n\", l2, \"\\n\", l1+l2)"
   ]
  },
  {
   "cell_type": "code",
   "execution_count": 56,
   "metadata": {
    "autoscroll": false,
    "collapsed": false,
    "ein.tags": "worksheet-0",
    "slideshow": {
     "slide_type": "-"
    }
   },
   "outputs": [
    {
     "name": "stdout",
     "output_type": "stream",
     "text": [
      "l1: [1, 2, 3, 4, 5, 6, 7, 8, 9]\n",
      "2 l1: [1, 2, 3, 4, 5, 6, 7, 8, 9, 1, 2, 3, 4, 5, 6, 7, 8, 9]\n",
      "longitudes: 9 22\n"
     ]
    }
   ],
   "source": [
    "print('l1:',l1)\n",
    "print('2 l1:', 2*l1)\n",
    "print ('longitudes:', len(l1), len(2*l1 + l2))"
   ]
  },
  {
   "cell_type": "markdown",
   "metadata": {
    "ein.tags": "worksheet-0",
    "slideshow": {
     "slide_type": "-"
    }
   },
   "source": [
    "Como en el caso de *Strings*, a las listas y tuples se les puede calcular el número de elementos (su longitud) utilizando la función `len`. Además tiene métodos que son de utilidad.\n",
    "Puede encontrarse más información en [la Biblioteca de Python](https://docs.python.org/3/library/stdtypes.html#sequence-types-list-tuple-range)."
   ]
  },
  {
   "cell_type": "code",
   "execution_count": 10,
   "metadata": {
    "autoscroll": false,
    "collapsed": false,
    "ein.tags": "worksheet-0",
    "slideshow": {
     "slide_type": "-"
    }
   },
   "outputs": [
    {
     "name": "stdout",
     "output_type": "stream",
     "text": [
      "l1= [9, 2, 3] , mínimo: 2 , máximo: 9\n",
      "Suma de los elementos de l1 = 14\n"
     ]
    }
   ],
   "source": [
    "print('l1=',l1, ', mínimo:', min(l1), ', máximo:', max(l1))\n",
    "print('Suma de los elementos de l1 =', sum(l1))"
   ]
  },
  {
   "cell_type": "markdown",
   "metadata": {
    "ein.tags": "worksheet-0",
    "slideshow": {
     "slide_type": "-"
    }
   },
   "source": [
    "También podemos preguntar si un elemento pertenece a la lista"
   ]
  },
  {
   "cell_type": "code",
   "execution_count": 14,
   "metadata": {
    "autoscroll": false,
    "collapsed": false,
    "ein.tags": "worksheet-0",
    "slideshow": {
     "slide_type": "-"
    }
   },
   "outputs": [
    {
     "name": "stdout",
     "output_type": "stream",
     "text": [
      "¿3 in l1? True\n",
      "¿4 in l1? False\n",
      "¿4 no in l1? True\n"
     ]
    }
   ],
   "source": [
    "print('¿3 in l1?', 3 in l1)\n",
    "print('¿4 in l1?', 4 in l1)\n",
    "print('¿4 no in l1?', 4 not in l1)"
   ]
  },
  {
   "cell_type": "markdown",
   "metadata": {
    "ein.tags": "worksheet-0",
    "slideshow": {
     "slide_type": "-"
    }
   },
   "source": [
    "Las listas tienen métodos para ordenar, agregar (append) un elemento al final en forma eficiente, extenderla, etc"
   ]
  },
  {
   "cell_type": "markdown",
   "metadata": {
    "ein.tags": "worksheet-0",
    "slideshow": {
     "slide_type": "-"
    }
   },
   "source": [
    "### Diccionarios\n",
    "\n",
    "Los diccionarios son colecciones de objetos  *en principio heterogéneos* que no están ordenados y no se refieren por índice (como l1[3]) sino por una etiqueta (**key**).\n",
    "Las claves pueden ser cualquier objeto inmutable (cadenas, numeros, tuplas) y los valores pueden ser cualquier tipo de objeto. Las claves no se pueden repetir pero los valores sí."
   ]
  },
  {
   "cell_type": "code",
   "execution_count": 12,
   "metadata": {
    "autoscroll": false,
    "collapsed": false,
    "ein.tags": "worksheet-0",
    "slideshow": {
     "slide_type": "-"
    }
   },
   "outputs": [],
   "source": [
    "d0 = {'a': 123}"
   ]
  },
  {
   "cell_type": "code",
   "execution_count": 15,
   "metadata": {
    "autoscroll": false,
    "collapsed": false,
    "ein.tags": "worksheet-0",
    "slideshow": {
     "slide_type": "-"
    }
   },
   "outputs": [
    {
     "data": {
      "text/plain": [
       "123"
      ]
     },
     "execution_count": 15,
     "metadata": {},
     "output_type": "execute_result"
    }
   ],
   "source": [
    "d0['a']"
   ]
  },
  {
   "cell_type": "code",
   "execution_count": 20,
   "metadata": {
    "autoscroll": false,
    "collapsed": false,
    "ein.tags": "worksheet-0",
    "slideshow": {
     "slide_type": "-"
    }
   },
   "outputs": [
    {
     "name": "stdout",
     "output_type": "stream",
     "text": [
      "Nombre:  Juan\n",
      "\n",
      "++++++++++++++++++++++++++++++++++++++++++++++++++++++++++++++++++++++++++++++++\n",
      "\tDiccionario:\n",
      "{1: ['hola', 'chau'], 'ciudad': 'Bariloche', 'edad': 109, 'nombre': 'Juan', 'cod': 8400, 'dirección': 'Av Bustillo 9500,', 'apellido': 'García'}\n"
     ]
    }
   ],
   "source": [
    "d1 = {'nombre':'Juan', \n",
    "      'apellido': 'García', \n",
    "      'edad': 109, \n",
    "      'dirección': '''Av Bustillo 9500,''', \n",
    "      'cod':8400,  \n",
    "      1: ['hola', 'chau'],\n",
    "      'ciudad': \"Bariloche\"}\n",
    "\n",
    "print ('Nombre: ', d1['nombre'])\n",
    "print ('\\n' + 80*'+' + '\\n\\tDiccionario:')\n",
    "print (d1)"
   ]
  },
  {
   "cell_type": "code",
   "execution_count": 18,
   "metadata": {
    "autoscroll": false,
    "collapsed": false,
    "ein.tags": "worksheet-0",
    "slideshow": {
     "slide_type": "-"
    }
   },
   "outputs": [
    {
     "data": {
      "text/plain": [
       "8400"
      ]
     },
     "execution_count": 18,
     "metadata": {},
     "output_type": "execute_result"
    }
   ],
   "source": [
    "d1['cod']"
   ]
  },
  {
   "cell_type": "code",
   "execution_count": 23,
   "metadata": {
    "autoscroll": false,
    "collapsed": false,
    "ein.tags": "worksheet-0",
    "slideshow": {
     "slide_type": "-"
    }
   },
   "outputs": [],
   "source": [
    "d1['tel'] = {'cel':1213, 'fijo':23848}"
   ]
  },
  {
   "cell_type": "code",
   "execution_count": 24,
   "metadata": {
    "autoscroll": false,
    "collapsed": false,
    "ein.tags": "worksheet-0",
    "slideshow": {
     "slide_type": "-"
    }
   },
   "outputs": [
    {
     "data": {
      "text/plain": [
       "{1: ['hola', 'chau'],\n",
       " 'tel': {'cel': 1213, 'fijo': 23848},\n",
       " 'ciudad': 'Bariloche',\n",
       " 'edad': 109,\n",
       " 'nombre': 'Juan',\n",
       " 'cod': 8400,\n",
       " 'dirección': 'Av Bustillo 9500,',\n",
       " 'apellido': 'García'}"
      ]
     },
     "execution_count": 24,
     "metadata": {},
     "output_type": "execute_result"
    }
   ],
   "source": [
    "d1"
   ]
  },
  {
   "cell_type": "code",
   "execution_count": 25,
   "metadata": {
    "autoscroll": false,
    "collapsed": false,
    "ein.tags": "worksheet-0",
    "slideshow": {
     "slide_type": "-"
    }
   },
   "outputs": [
    {
     "data": {
      "text/plain": [
       "{'cel': 1213, 'fijo': 23848}"
      ]
     },
     "execution_count": 25,
     "metadata": {},
     "output_type": "execute_result"
    }
   ],
   "source": [
    "d1['tel']"
   ]
  },
  {
   "cell_type": "code",
   "execution_count": 31,
   "metadata": {
    "autoscroll": false,
    "collapsed": false,
    "ein.tags": "worksheet-0",
    "slideshow": {
     "slide_type": "-"
    }
   },
   "outputs": [
    {
     "data": {
      "text/plain": [
       "False"
      ]
     },
     "execution_count": 31,
     "metadata": {},
     "output_type": "execute_result"
    }
   ],
   "source": [
    "'Juaan' in d1.values()"
   ]
  },
  {
   "cell_type": "markdown",
   "metadata": {
    "ein.tags": "worksheet-0",
    "slideshow": {
     "slide_type": "-"
    }
   },
   "source": [
    "Los diccionarios pueden pensarse como pares *key*, *valor*. Para obtener todas las claves (*keys*), valores, o pares (clave, valor) usamos:"
   ]
  },
  {
   "cell_type": "code",
   "execution_count": 32,
   "metadata": {
    "autoscroll": false,
    "collapsed": false,
    "ein.tags": "worksheet-0",
    "slideshow": {
     "slide_type": "-"
    }
   },
   "outputs": [
    {
     "name": "stdout",
     "output_type": "stream",
     "text": [
      "\n",
      "++++++++++++++++++++++++++++++++++++++++++++++++++++++++++++++++++++++++++++++++\n",
      "\tkeys:\n",
      "[1, 'tel', 'ciudad', 'edad', 'nombre', 'cod', 'dirección', 'apellido']\n",
      "\n",
      "++++++++++++++++++++++++++++++++++++++++++++++++++++++++++++++++++++++++++++++++\n",
      "\tvalues:\n",
      "[['hola', 'chau'], {'fijo': 23848, 'cel': 1213}, 'Bariloche', 109, 'Juan', 8400, 'Av Bustillo 9500,', 'García']\n",
      "\n",
      "++++++++++++++++++++++++++++++++++++++++++++++++++++++++++++++++++++++++++++++++\n",
      "\titems:\n",
      "[(1, ['hola', 'chau']), ('tel', {'fijo': 23848, 'cel': 1213}), ('ciudad', 'Bariloche'), ('edad', 109), ('nombre', 'Juan'), ('cod', 8400), ('dirección', 'Av Bustillo 9500,'), ('apellido', 'García')]\n"
     ]
    }
   ],
   "source": [
    "print ('\\n' + 80*'+' + '\\n\\tkeys:')\n",
    "print (list(d1.keys()))\n",
    "print ('\\n' + 80*'+'+ '\\n\\tvalues:')\n",
    "print (list(d1.values()))\n",
    "print ('\\n' + 80*'+'+ '\\n\\titems:')\n",
    "print (list(d1.items()))"
   ]
  },
  {
   "cell_type": "code",
   "execution_count": 33,
   "metadata": {
    "autoscroll": false,
    "collapsed": false,
    "ein.tags": "worksheet-0",
    "slideshow": {
     "slide_type": "-"
    }
   },
   "outputs": [
    {
     "name": "stdout",
     "output_type": "stream",
     "text": [
      "\n",
      "++++++++++++++++++++++++++++++++++++++++++++++++++\n",
      "\tDatos:\n",
      "Juan García\n",
      "Av Bustillo 9500,\n",
      "Bariloche\n",
      "\n",
      "++++++++++++++++++++++++++++++++++++++++++++++++++\n"
     ]
    }
   ],
   "source": [
    "print ('\\n' + 50*'+'+ '\\n\\tDatos:')\n",
    "print (d1['nombre'] + ' ' + d1['apellido'])\n",
    "print (d1[u'dirección'])\n",
    "print (d1['ciudad'])\n",
    "print ('\\n' + 50*'+')"
   ]
  },
  {
   "cell_type": "code",
   "execution_count": 36,
   "metadata": {
    "autoscroll": false,
    "collapsed": false,
    "ein.tags": "worksheet-0",
    "slideshow": {
     "slide_type": "-"
    }
   },
   "outputs": [
    {
     "name": "stdout",
     "output_type": "stream",
     "text": [
      "\n",
      "++++++++++++++++++++++++++++++++++++++++++++++++++++++++++++++++++++++++++++++++\n",
      "\tDatos:\n",
      "Juan García\n",
      "Av Bustillo 9500,\n",
      "San Carlos de Bariloche\n",
      "Argentina\n"
     ]
    }
   ],
   "source": [
    "d1['pais']= 'Argentina'\n",
    "\n",
    "d1['ciudad']= \"San Carlos de Bariloche\"\n",
    "print ('\\n' + 80*'+'+ '\\n\\tDatos:')\n",
    "print (d1['nombre'] + ' ' + d1['apellido'])\n",
    "print (d1[u'dirección'])\n",
    "print (d1['ciudad'])\n",
    "print (d1['pais'])"
   ]
  },
  {
   "cell_type": "code",
   "execution_count": 37,
   "metadata": {
    "autoscroll": false,
    "collapsed": false,
    "ein.tags": "worksheet-0",
    "slideshow": {
     "slide_type": "-"
    }
   },
   "outputs": [
    {
     "name": "stdout",
     "output_type": "stream",
     "text": [
      "********************************************************************************\n",
      "Otro diccionario:\n",
      "d2= {'provincia': 'Río Negro'}\n",
      "********************************************************************************\n",
      "d1= {1: ['hola', 'chau'], 'tel': {'fijo': 23848, 'cel': 1213}, 'provincia': 'Río Negro', 'ciudad': 'San Carlos de Bariloche', 'edad': 109, 'pais': 'Argentina', 'nombre': 'Juan', 'cod': 8400, 'dirección': 'Av Bustillo 9500,', 'apellido': 'García'}\n",
      "********************************************************************************\n",
      "Provincia: Río Negro\n",
      "{1: ['hola', 'chau'], 'tel': {'fijo': 23848, 'cel': 1213}, 'ciudad': 'San Carlos de Bariloche', 'edad': 109, 'pais': 'Argentina', 'nombre': 'Juan', 'cod': 8400, 'dirección': 'Av Bustillo 9500,', 'apellido': 'García'}\n"
     ]
    }
   ],
   "source": [
    "d2 = {'provincia': 'Río Negro'}\n",
    "print (80*'*'+'\\nOtro diccionario:')\n",
    "print ('d2=',d2)\n",
    "print (80*'*')\n",
    "\n",
    "d1.update(d2)  # Corregimos valores o agregamos nuevos si no existen\n",
    "print ('d1=',d1)\n",
    "print (80*'*')\n",
    "print ('Provincia:', d1['provincia'])\n",
    "del d1['provincia']\n",
    "print (d1)"
   ]
  },
  {
   "cell_type": "code",
   "execution_count": 44,
   "metadata": {
    "autoscroll": false,
    "collapsed": false,
    "ein.tags": "worksheet-0",
    "slideshow": {
     "slide_type": "-"
    }
   },
   "outputs": [
    {
     "data": {
      "text/plain": [
       "(9, 2, 3)"
      ]
     },
     "execution_count": 44,
     "metadata": {},
     "output_type": "execute_result"
    }
   ],
   "source": [
    "tuple(l1)"
   ]
  },
  {
   "cell_type": "code",
   "execution_count": 39,
   "metadata": {
    "autoscroll": false,
    "collapsed": false,
    "ein.tags": "worksheet-0",
    "slideshow": {
     "slide_type": "-"
    }
   },
   "outputs": [
    {
     "data": {
      "text/plain": [
       "['hola', 'chau']"
      ]
     },
     "execution_count": 39,
     "metadata": {},
     "output_type": "execute_result"
    }
   ],
   "source": [
    "d1.pop(1)"
   ]
  },
  {
   "cell_type": "code",
   "execution_count": 40,
   "metadata": {
    "autoscroll": false,
    "collapsed": false,
    "ein.tags": "worksheet-0",
    "slideshow": {
     "slide_type": "-"
    }
   },
   "outputs": [
    {
     "data": {
      "text/plain": [
       "{'apellido': 'García',\n",
       " 'ciudad': 'San Carlos de Bariloche',\n",
       " 'cod': 8400,\n",
       " 'dirección': 'Av Bustillo 9500,',\n",
       " 'edad': 109,\n",
       " 'nombre': 'Juan',\n",
       " 'pais': 'Argentina',\n",
       " 'tel': {'cel': 1213, 'fijo': 23848}}"
      ]
     },
     "execution_count": 40,
     "metadata": {},
     "output_type": "execute_result"
    }
   ],
   "source": [
    "d1"
   ]
  },
  {
   "cell_type": "code",
   "execution_count": 43,
   "metadata": {
    "autoscroll": false,
    "collapsed": false,
    "ein.tags": "worksheet-0",
    "slideshow": {
     "slide_type": "-"
    }
   },
   "outputs": [
    {
     "data": {
      "text/plain": [
       "\"{'tel': {'fijo': 23848, 'cel': 1213}, 'ciudad': 'San Carlos de Bariloche', 'edad': 109, 'pais': 'Argentina', 'nombre': 'Juan', 'cod': 8400, 'dirección': 'Av Bustillo 9500,', 'apellido': 'García'}\""
      ]
     },
     "execution_count": 43,
     "metadata": {},
     "output_type": "execute_result"
    }
   ],
   "source": [
    "d1.__repr__()"
   ]
  },
  {
   "cell_type": "markdown",
   "metadata": {
    "ein.tags": "worksheet-0",
    "slideshow": {
     "slide_type": "-"
    }
   },
   "source": [
    "### Conjuntos\n",
    "\n",
    "Los conjuntos (`set()`) son grupos de claves únicas e inmutables."
   ]
  },
  {
   "cell_type": "code",
   "execution_count": 1,
   "metadata": {
    "autoscroll": false,
    "collapsed": false,
    "ein.tags": "worksheet-0",
    "slideshow": {
     "slide_type": "-"
    }
   },
   "outputs": [],
   "source": [
    "mamiferos = {'perro', 'gato', 'león'}\n",
    "domesticos = {'perro', 'gato', 'gallina', 'ganso'}\n",
    "aves = {\"chimango\", \"bandurria\", 'gallina', 'cóndor', 'ganso'}"
   ]
  },
  {
   "cell_type": "code",
   "execution_count": 2,
   "metadata": {
    "autoscroll": false,
    "collapsed": false,
    "ein.tags": "worksheet-0",
    "slideshow": {
     "slide_type": "-"
    }
   },
   "outputs": [
    {
     "data": {
      "text/plain": [
       "{'gato', 'perro'}"
      ]
     },
     "execution_count": 2,
     "metadata": {},
     "output_type": "execute_result"
    }
   ],
   "source": [
    "mamiferos.intersection(domesticos)"
   ]
  },
  {
   "cell_type": "code",
   "execution_count": 3,
   "metadata": {
    "autoscroll": false,
    "collapsed": false,
    "ein.tags": "worksheet-0",
    "slideshow": {
     "slide_type": "-"
    }
   },
   "outputs": [
    {
     "data": {
      "text/plain": [
       "{'gallina', 'ganso', 'gato', 'león', 'perro'}"
      ]
     },
     "execution_count": 3,
     "metadata": {},
     "output_type": "execute_result"
    }
   ],
   "source": [
    "mamiferos.union(domesticos)"
   ]
  },
  {
   "cell_type": "code",
   "execution_count": 4,
   "metadata": {
    "autoscroll": false,
    "collapsed": false,
    "ein.tags": "worksheet-0",
    "slideshow": {
     "slide_type": "-"
    }
   },
   "outputs": [
    {
     "data": {
      "text/plain": [
       "{'bandurria', 'chimango', 'cóndor'}"
      ]
     },
     "execution_count": 4,
     "metadata": {},
     "output_type": "execute_result"
    }
   ],
   "source": [
    "aves.difference(domesticos)"
   ]
  },
  {
   "cell_type": "code",
   "execution_count": 5,
   "metadata": {
    "autoscroll": false,
    "collapsed": false,
    "ein.tags": "worksheet-0",
    "slideshow": {
     "slide_type": "-"
    }
   },
   "outputs": [
    {
     "name": "stdout",
     "output_type": "stream",
     "text": [
      "['bandurria', 'cóndor', 'chimango']\n",
      "cóndor\n"
     ]
    }
   ],
   "source": [
    "ll= list(aves.difference(domesticos))\n",
    "print (ll)\n",
    "print (ll[1])\n"
   ]
  },
  {
   "cell_type": "markdown",
   "metadata": {
    "ein.tags": "worksheet-0",
    "slideshow": {
     "slide_type": "-"
    }
   },
   "source": [
    "## Control de flujo\n",
    "\n",
    "### if/elif/else\n",
    "\n",
    "Vimos que se puede programar la ejecución condicional de un bloque de código mediante la construcción if/elif/else\n",
    "\n",
    "```python\n",
    "    if condición_1:\n",
    "      bloque A\n",
    "    elif condicion_2:\n",
    "      bloque B\n",
    "    elif:\n",
    "      bloque C\n",
    "    else:\n",
    "      Bloque final```      "
   ]
  },
  {
   "cell_type": "markdown",
   "metadata": {
    "ein.tags": "worksheet-0",
    "slideshow": {
     "slide_type": "-"
    }
   },
   "source": [
    "### Iteraciones\n",
    "\n",
    "#### Sentencia for\n",
    "\n",
    "Otro elemento de control que vimos en la clase anterior es el que permite *iterar* sobre una secuencia, dado por la sentencia `for`. En lugar de iterar sobre una condición aritmética hasta que se cumpla una condición (como en C o en Fortran) en Python la sentencia `for` itera sobre los ítems de una secuencia en forma ordenada"
   ]
  },
  {
   "cell_type": "code",
   "execution_count": null,
   "metadata": {
    "autoscroll": false,
    "collapsed": false,
    "ein.tags": "worksheet-0",
    "slideshow": {
     "slide_type": "-"
    }
   },
   "outputs": [
    {
     "name": "stdout",
     "output_type": "stream",
     "text": [
      "45\n"
     ]
    }
   ],
   "source": [
    "sumatoria = 0\n",
    "for elemento in range(10):\n",
    "    sumatoria = sumatoria + elemento\n",
    "print (sumatoria)"
   ]
  },
  {
   "cell_type": "markdown",
   "metadata": {
    "ein.tags": "worksheet-0",
    "slideshow": {
     "slide_type": "-"
    }
   },
   "source": [
    "En este ejemplo hemos usado la función `range` que devuelve un iterador sobre enteros"
   ]
  },
  {
   "cell_type": "code",
   "execution_count": 28,
   "metadata": {
    "autoscroll": false,
    "collapsed": false,
    "ein.tags": "worksheet-0",
    "slideshow": {
     "slide_type": "-"
    }
   },
   "outputs": [
    {
     "data": {
      "text/plain": [
       "[0, 1, 2, 3, 4, 5, 6, 7, 8, 9]"
      ]
     },
     "execution_count": 28,
     "metadata": {},
     "output_type": "execute_result"
    }
   ],
   "source": [
    "list(range(10))                 #  Crea una lista de 10 elementos"
   ]
  },
  {
   "cell_type": "code",
   "execution_count": 29,
   "metadata": {
    "autoscroll": false,
    "collapsed": false,
    "ein.tags": "worksheet-0",
    "slideshow": {
     "slide_type": "-"
    }
   },
   "outputs": [
    {
     "data": {
      "text/plain": [
       "[3, 4, 5, 6, 7, 8, 9]"
      ]
     },
     "execution_count": 29,
     "metadata": {},
     "output_type": "execute_result"
    }
   ],
   "source": [
    "list(range(3,10))               # Empieza desde 3"
   ]
  },
  {
   "cell_type": "code",
   "execution_count": 30,
   "metadata": {
    "autoscroll": false,
    "collapsed": false,
    "ein.tags": "worksheet-0",
    "slideshow": {
     "slide_type": "-"
    }
   },
   "outputs": [
    {
     "data": {
      "text/plain": [
       "[1, 3, 5, 7, 9]"
      ]
     },
     "execution_count": 30,
     "metadata": {},
     "output_type": "execute_result"
    }
   ],
   "source": [
    "list(range(1,10,2))             # Empieza desde 1, y con paso igual a 2"
   ]
  },
  {
   "cell_type": "code",
   "execution_count": 31,
   "metadata": {
    "autoscroll": false,
    "collapsed": false,
    "ein.tags": "worksheet-0",
    "slideshow": {
     "slide_type": "-"
    }
   },
   "outputs": [
    {
     "name": "stdout",
     "output_type": "stream",
     "text": [
      "45\n"
     ]
    }
   ],
   "source": [
    "print (sum(range(10)))          # El ejemplo anterior puede escribirse usando sum"
   ]
  },
  {
   "cell_type": "code",
   "execution_count": 32,
   "metadata": {
    "autoscroll": false,
    "collapsed": false,
    "ein.tags": "worksheet-0",
    "slideshow": {
     "slide_type": "-"
    }
   },
   "outputs": [
    {
     "data": {
      "text/plain": [
       "[0, 1, 4, 9, 16, 25, 36, 49, 64, 81]"
      ]
     },
     "execution_count": 32,
     "metadata": {},
     "output_type": "execute_result"
    }
   ],
   "source": [
    "cuadrados = []\n",
    "for i in range(10):\n",
    "  cuadrados.append(i**2)\n",
    "cuadrados"
   ]
  },
  {
   "cell_type": "markdown",
   "metadata": {
    "ein.tags": "worksheet-0",
    "slideshow": {
     "slide_type": "-"
    }
   },
   "source": [
    "Volvamos al bloque `for`. Éste se ejecuta hasta el final del *iterador* o hasta encontrar un sentencia `break`.\n",
    "También podemos usar `continue` para omitir la ejecución de \"una iteración."
   ]
  },
  {
   "cell_type": "code",
   "execution_count": 49,
   "metadata": {
    "autoscroll": false,
    "collapsed": false,
    "ein.tags": "worksheet-0",
    "slideshow": {
     "slide_type": "-"
    }
   },
   "outputs": [
    {
     "name": "stdout",
     "output_type": "stream",
     "text": [
      "0 4\n",
      "2 16\n",
      "4 36\n",
      "6 64\n",
      "8 100\n",
      "10 144\n",
      "12 196\n",
      "14 256\n",
      "16 324\n",
      "18 400\n",
      "sumatoria de pares menores que 20 al cuadrado: 1540\n",
      "cuadrados=  [4, 16, 36, 64, 100, 144, 196, 256, 324, 400]\n",
      "cuadrados invertidos=  [400, 324, 256, 196, 144, 100, 64, 36, 16, 4]\n"
     ]
    }
   ],
   "source": [
    "sumatoria = 0\n",
    "cuadrados = []\n",
    "for i,elemento in enumerate(range(2,30)):\n",
    "  if (elemento % 2) != 0:              # Si resto (%) es diferente de cero\n",
    "    continue\n",
    "  print (i, elemento**2)          # Imprimimos el índice y el elemento al cuadrado\n",
    "  cuadrados.append(elemento**2)\n",
    "  sumatoria = sumatoria + elemento**2\n",
    "  if elemento >= 20:\n",
    "    break\n",
    "print (\"sumatoria de pares menores que 20 al cuadrado:\", sumatoria)\n",
    "print ('cuadrados= ',cuadrados)\n",
    "print ('cuadrados invertidos= ',list(reversed(cuadrados)))"
   ]
  },
  {
   "cell_type": "markdown",
   "metadata": {
    "ein.tags": "worksheet-0",
    "slideshow": {
     "slide_type": "-"
    }
   },
   "source": [
    "#### Compresiones de Listas\n",
    "\n",
    "Vamos a ver otro método para escribir parte de lo que hicimos con el *loop* `for` utilizando otro tipo de construcción más sucinta.\n",
    "Como primer ejemplo veamos la lista de *números cuadrados* que escribimos más arriba. En lenguaje matemático la defiríamos como $S = \\{x^{2} : x \\in \\{0 \\dots 9\\}\\}$\n",
    "\n",
    "\n",
    "\n",
    "Podemos crear la lista `cuadrados` utilizando compresiones de listas"
   ]
  },
  {
   "cell_type": "code",
   "execution_count": 50,
   "metadata": {
    "autoscroll": false,
    "collapsed": false,
    "ein.tags": "worksheet-0",
    "slideshow": {
     "slide_type": "-"
    }
   },
   "outputs": [
    {
     "data": {
      "text/plain": [
       "[0, 1, 4, 9, 16, 25, 36, 49, 64, 81]"
      ]
     },
     "execution_count": 50,
     "metadata": {},
     "output_type": "execute_result"
    }
   ],
   "source": [
    "cuadrados = [i**2 for i in range(10)]\n",
    "cuadrados"
   ]
  },
  {
   "cell_type": "code",
   "execution_count": 52,
   "metadata": {
    "autoscroll": false,
    "collapsed": false,
    "ein.tags": "worksheet-0",
    "slideshow": {
     "slide_type": "-"
    }
   },
   "outputs": [
    {
     "data": {
      "text/plain": [
       "[0, 1, 4, 9, 16, 25, 36, 49, 64, 81]"
      ]
     },
     "execution_count": 52,
     "metadata": {},
     "output_type": "execute_result"
    }
   ],
   "source": [
    "c = []\n",
    "for i in range(10):\n",
    "    c.append(i**2)\n",
    "c"
   ]
  },
  {
   "cell_type": "markdown",
   "metadata": {
    "ein.tags": "worksheet-0",
    "slideshow": {
     "slide_type": "-"
    }
   },
   "source": [
    "\n",
    "Como vemos es bastante sencillo y más conciso que la versión explícita con el loop `for`. La lista con los cuadrados de los números pares también puede crearse de esta manera, ya que puede incorporarse la condición:"
   ]
  },
  {
   "cell_type": "code",
   "execution_count": 53,
   "metadata": {
    "autoscroll": false,
    "collapsed": false,
    "ein.tags": "worksheet-0",
    "slideshow": {
     "slide_type": "-"
    }
   },
   "outputs": [
    {
     "data": {
      "text/plain": [
       "[4, 16, 36, 64, 100, 144, 196, 256, 324, 400]"
      ]
     },
     "execution_count": 53,
     "metadata": {},
     "output_type": "execute_result"
    }
   ],
   "source": [
    "l = [a**2 for a in range(2,21) if a % 2 == 0]\n",
    "l"
   ]
  },
  {
   "cell_type": "code",
   "execution_count": 36,
   "metadata": {
    "autoscroll": false,
    "collapsed": false,
    "ein.tags": "worksheet-0",
    "slideshow": {
     "slide_type": "-"
    }
   },
   "outputs": [
    {
     "data": {
      "text/plain": [
       "1540"
      ]
     },
     "execution_count": 36,
     "metadata": {},
     "output_type": "execute_result"
    }
   ],
   "source": [
    "sum(l)"
   ]
  },
  {
   "cell_type": "code",
   "execution_count": 37,
   "metadata": {
    "autoscroll": false,
    "collapsed": false,
    "ein.tags": "worksheet-0",
    "slideshow": {
     "slide_type": "-"
    }
   },
   "outputs": [
    {
     "data": {
      "text/plain": [
       "[400, 324, 256, 196, 144, 100, 64, 36, 16, 4]"
      ]
     },
     "execution_count": 37,
     "metadata": {},
     "output_type": "execute_result"
    }
   ],
   "source": [
    "list(reversed(l))"
   ]
  },
  {
   "cell_type": "markdown",
   "metadata": {
    "ein.tags": "worksheet-0",
    "slideshow": {
     "slide_type": "-"
    }
   },
   "source": [
    "#### While\n",
    "\n",
    "Otro tipo de sentencia de control es *while*: que permite iterar mientras se cumple una condición. El siguiente ejemplo imprime la serie de Fibonacci"
   ]
  },
  {
   "cell_type": "code",
   "execution_count": 38,
   "metadata": {
    "autoscroll": false,
    "collapsed": false,
    "ein.tags": "worksheet-0",
    "slideshow": {
     "slide_type": "-"
    }
   },
   "outputs": [
    {
     "name": "stdout",
     "output_type": "stream",
     "text": [
      "1 1 2 3 5 8 13 21 34 55 89 144 233 377 610 987 1597 2584 4181 "
     ]
    }
   ],
   "source": [
    "a, b = 0, 1\n",
    "while b < 5000:\n",
    "  print (b, end=' ')\n",
    "  a, b = b, a+b"
   ]
  }
 ],
 "metadata": {
  "kernelspec": {
   "display_name": "Python 3",
   "name": "python3"
  },
  "language_info": {
   "codemirror_mode": {
    "name": "ipython",
    "version": 3
   },
   "file_extension": ".py",
   "mimetype": "text/x-python",
   "name": "python",
   "nbconvert_exporter": "python",
   "pygments_lexer": "ipython3",
   "version": "3.5.3"
  },
  "name": "03_bases_python.ipynb"
 },
 "nbformat": 4,
 "nbformat_minor": 0
}
