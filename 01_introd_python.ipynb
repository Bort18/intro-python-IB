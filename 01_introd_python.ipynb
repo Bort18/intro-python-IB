{
 "cells": [
  {
   "cell_type": "markdown",
   "metadata": {
    "ein.tags": "worksheet-0",
    "slideshow": {
     "slide_type": "-"
    }
   },
   "source": [
    "# Conceptos básicos de Python"
   ]
  },
  {
   "cell_type": "markdown",
   "metadata": {
    "ein.tags": "worksheet-0",
    "slideshow": {
     "slide_type": "-"
    }
   },
   "source": [
    "## Características generales del lenguaje\n",
    "Python presenta características modernas. Posiblemente su característica más visible/notable es que la estructuración del código está fuertemente relacionada con su legibilidad:\n",
    "\n",
    "- Es un lenguaje interpretado (no se compila separadamente)\n",
    "\n",
    "- Provee tanto un entorno interactivo como de programas separados \n",
    "\n",
    "- Las funciones, bloques, ámbitos están definidos por la indentación\n",
    "\n",
    "- Tiene una estructura altamente modular, permitiendo su reusabilidad\n",
    "\n",
    "- Es un lenguaje de *tipeado dinámico*, no tenemos que declarar el tipo de variable antes de usarla.\n",
    "\n",
    "Python es un lenguaje altamente modular con una biblioteca standard que provee de funciones y tipos para un amplio rango de aplicaciones, y que se distribuye junto con el lenguaje. Además hay un conjunto muy importante de utilidades que pueden instalarse e incorporarse muy fácilmente. El núcleo del lenguaje es pequeño, existiendo sólo unas pocas palabras reservadas:\n",
    "\n",
    "\n",
    "\n",
    "| False    | class      | finally   | is         | return   |\n",
    "|----------|------------|-----------|------------|----------|\n",
    "| None     | continue   | for       | lambda     | try      |\n",
    "| True     | def        | from      | nonlocal   | while    |\n",
    "| and      | del        | global    | not        | with     |\n",
    "| as       | elif       | if        | or         | yield    |\n",
    "| assert   | else       | import    | pass       |          |\n",
    "| break    | except     | in        | raise      |          |\n",
    "\n",
    "\n",
    "\n",
    "## Tipos de variables\n",
    "\n",
    "Python es un lenguaje de muy alto nivel y por lo tanto trae muchos *tipos* de datos ya definidos:\n",
    "\n",
    "  - Números: enteros, reales, complejos\n",
    "  - Tipos lógicos (booleanos)\n",
    "  - Cadenas de caracteres (strings) y bytes\n",
    "  - Listas: una lista es una colección de cosas, ordenadas, que pueden ser todas distintas entre sí\n",
    "  - Diccionarios: También son colecciones de cosas, pero no están ordenadas y son identificadas con una etiqueta\n",
    "  - Conjuntos, tuples, ...\n",
    "\n",
    "### Tipos simples: Números\n",
    "  "
   ]
  },
  {
   "cell_type": "code",
   "execution_count": 5,
   "metadata": {
    "autoscroll": false,
    "collapsed": false,
    "ein.tags": "worksheet-0",
    "slideshow": {
     "slide_type": "-"
    }
   },
   "outputs": [
    {
     "name": "stdout",
     "output_type": "stream",
     "text": [
      "13 <class 'int'>\n",
      "1.23 <class 'float'>\n",
      "14.23 <class 'float'>\n"
     ]
    }
   ],
   "source": [
    "a = 13\n",
    "b = 1.23\n",
    "c = a + b\n",
    "print(a, type(a))\n",
    "print(b, type(b))\n",
    "print(c, type(c))"
   ]
  },
  {
   "cell_type": "markdown",
   "metadata": {
    "ein.tags": "worksheet-0",
    "slideshow": {
     "slide_type": "-"
    }
   },
   "source": [
    "En Python se cambia el tipo de variable en forma dinámica, para poder operar. Por ejemplo en el último caso, la variable `a` se cambió de `int` a `float` antes de sumarla a la variable `b`."
   ]
  },
  {
   "cell_type": "code",
   "execution_count": 6,
   "metadata": {
    "autoscroll": false,
    "collapsed": false,
    "ein.tags": "worksheet-0",
    "slideshow": {
     "slide_type": "-"
    }
   },
   "outputs": [
    {
     "name": "stdout",
     "output_type": "stream",
     "text": [
      "13 <class 'int'>\n",
      "19.5 <class 'float'>\n"
     ]
    }
   ],
   "source": [
    "print (a, type(a))\n",
    "a = 1.5 * a\n",
    "print (a, type(a))"
   ]
  },
  {
   "cell_type": "markdown",
   "metadata": {
    "ein.tags": "worksheet-0",
    "slideshow": {
     "slide_type": "-"
    }
   },
   "source": [
    "Ahora, la variable `a` es del tipo `float`. \n",
    "\n",
    "En Python 3 la división entre números enteros da como resultado un número flotante "
   ]
  },
  {
   "cell_type": "code",
   "execution_count": 7,
   "metadata": {
    "autoscroll": false,
    "collapsed": false,
    "ein.tags": "worksheet-0",
    "slideshow": {
     "slide_type": "-"
    }
   },
   "outputs": [
    {
     "name": "stdout",
     "output_type": "stream",
     "text": [
      "<class 'float'>\n",
      "9.666666666666668\n"
     ]
    }
   ],
   "source": [
    "print(type(20/5))\n",
    "print(3 + 20/3)"
   ]
  },
  {
   "cell_type": "code",
   "execution_count": 8,
   "metadata": {
    "autoscroll": false,
    "collapsed": false,
    "ein.tags": "worksheet-0",
    "slideshow": {
     "slide_type": "-"
    }
   },
   "outputs": [
    {
     "name": "stdout",
     "output_type": "stream",
     "text": [
      "3 2"
     ]
    }
   ],
   "source": [
    "print(3, 2, end='')"
   ]
  },
  {
   "cell_type": "raw",
   "metadata": {
    "ein.tags": "worksheet-0",
    "slideshow": {
     "slide_type": "-"
    }
   },
   "source": [
    ".. warning:: En *Python 2.x* la división entre números enteros es entera\n",
    "\n",
    "Por ejemplo, en cualquier versión de Python 2 tendremos: 1/2 = 3/4 = 0.\n",
    "Esto es diferente en *Python 3* donde 1/2=0.5 y 3/4=0.75.\n",
    "\n",
    "\n",
    ".. note:: La función ``print()`` se utiliza para imprimir por pantalla.\n",
    "\n",
    "En su forma más simple, imprime por pantalla todos sus argumentos separados por un espacio:\n",
    "\n"
   ]
  },
  {
   "cell_type": "code",
   "execution_count": 9,
   "metadata": {
    "autoscroll": false,
    "collapsed": false,
    "ein.tags": "worksheet-0",
    "slideshow": {
     "slide_type": "-"
    }
   },
   "outputs": [
    {
     "name": "stdout",
     "output_type": "stream",
     "text": [
      "Hola Mundo, yo estoy bien ¿y vos?\n"
     ]
    }
   ],
   "source": [
    "print('Hola Mundo,','yo estoy bien','¿y vos?')"
   ]
  },
  {
   "cell_type": "raw",
   "metadata": {
    "ein.tags": "worksheet-0",
    "slideshow": {
     "slide_type": "-"
    }
   },
   "source": [
    ".. warning:: En *Python 2.x* no existe la función ``print()``.\n",
    "\n",
    "Se trata de un comando. Para escribir la sentencia anterior\n",
    "en Python 2 sólo debemos omitir los paréntesis.\n"
   ]
  },
  {
   "cell_type": "code",
   "execution_count": 10,
   "metadata": {
    "autoscroll": false,
    "collapsed": false,
    "ein.tags": "worksheet-0",
    "slideshow": {
     "slide_type": "-"
    }
   },
   "outputs": [
    {
     "ename": "SyntaxError",
     "evalue": "Missing parentheses in call to 'print' (<ipython-input-10-8573fa2d7ef1>, line 1)",
     "output_type": "error",
     "traceback": [
      "\u001b[1;36m  File \u001b[1;32m\"<ipython-input-10-8573fa2d7ef1>\"\u001b[1;36m, line \u001b[1;32m1\u001b[0m\n\u001b[1;33m    print 'Hola Mundo,','yo estoy bien','¿y vos?'\u001b[0m\n\u001b[1;37m                      ^\u001b[0m\n\u001b[1;31mSyntaxError\u001b[0m\u001b[1;31m:\u001b[0m Missing parentheses in call to 'print'\n"
     ]
    }
   ],
   "source": [
    "print 'Hola Mundo,','yo estoy bien','¿y vos?'"
   ]
  },
  {
   "cell_type": "markdown",
   "metadata": {
    "ein.tags": "worksheet-0",
    "slideshow": {
     "slide_type": "-"
    }
   },
   "source": [
    "Los números complejos son parte standard del lenguaje, y las operaciones básicas que están incorporadas en forma nativa pueden utilizarse normalmente"
   ]
  },
  {
   "cell_type": "code",
   "execution_count": null,
   "metadata": {
    "autoscroll": false,
    "collapsed": false,
    "ein.tags": "worksheet-0",
    "slideshow": {
     "slide_type": "-"
    }
   },
   "outputs": [],
   "source": [
    "z1 = 3 + 1j\n",
    "z2 = 2 + 2.124j\n",
    "print ('z1 =', z1, ', z2 =', z2)\n",
    "print('1.5j * z2 + z1 = ', 1.5j * z2 + z1)  # sumas, multiplicaciones de números complejos\n",
    "print('z2² = ', z2**2)  # potencia de números complejos\n",
    "print('conj(z1) = ', z1.conjugate())\n",
    "print ('Im(z1) = ', z1.imag)\n",
    "print ('Re(z1) = ', z1.real)\n"
   ]
  },
  {
   "cell_type": "code",
   "execution_count": null,
   "metadata": {
    "autoscroll": false,
    "collapsed": false,
    "ein.tags": "worksheet-0",
    "slideshow": {
     "slide_type": "-"
    }
   },
   "outputs": [],
   "source": [
    "abs(z1)"
   ]
  },
  {
   "cell_type": "markdown",
   "metadata": {
    "ein.tags": "worksheet-0",
    "slideshow": {
     "slide_type": "-"
    }
   },
   "source": [
    "#### Operaciones\n",
    "Las operaciones aritméticas básicas son:\n",
    "\n",
    "* adición: `+`\n",
    "* sustracción: `-`\n",
    "* multiplicación: `*`\n",
    "* división: `/`\n",
    "* potencia: `**`\n",
    "* módulo: `%`\n",
    "* división entera: `//`\n",
    "\n",
    "Las operaciones se pueden agrupar con parentesis y tienen precedencia estándar.\n",
    "\n",
    "División entera (//) significa quedarse con la parte entera de la división (sin redondear).\n",
    "\n"
   ]
  },
  {
   "cell_type": "raw",
   "metadata": {
    "ein.tags": "worksheet-0",
    "slideshow": {
     "slide_type": "-"
    }
   },
   "source": [
    ".. note::  Las funciones matemáticas están incluidas en el lenguaje.\n",
    "\n",
    "En particular las funciones elementales: trigonométricas, hiperbólicas, logaritmos no están incluidas. En todos los casos es fácil utilizarlas porque las proveen módulos. Lo veremos pronto. \n"
   ]
  },
  {
   "cell_type": "code",
   "execution_count": null,
   "metadata": {
    "autoscroll": false,
    "collapsed": false,
    "ein.tags": "worksheet-0",
    "slideshow": {
     "slide_type": "-"
    }
   },
   "outputs": [],
   "source": [
    "print('división de 20/3:         ', 20/3)\n",
    "print('parte entera de 20/3:     ', 20//3)\n",
    "print('fracción restante de 20/3:', 20/3 - 20//3)\n",
    "print(20%3)"
   ]
  },
  {
   "cell_type": "markdown",
   "metadata": {
    "ein.tags": "worksheet-0",
    "slideshow": {
     "slide_type": "-"
    }
   },
   "source": [
    "### Tipos simples: Booleanos\n",
    "\n",
    "Los tipos lógicos o *booleanos*, pueden tomar los valores *Verdadero* o *Falso* (`True` o `False`)"
   ]
  },
  {
   "cell_type": "code",
   "execution_count": null,
   "metadata": {
    "autoscroll": false,
    "collapsed": false,
    "ein.tags": "worksheet-0",
    "slideshow": {
     "slide_type": "-"
    }
   },
   "outputs": [],
   "source": [
    "t = False\n",
    "c = (t == True)\n",
    "print('¿t is True?', t == True)\n",
    "print('¿t is True?', c)\n",
    "print('¿t is False?', t == False)\n",
    "print (type(c))"
   ]
  },
  {
   "cell_type": "markdown",
   "metadata": {
    "ein.tags": "worksheet-0",
    "slideshow": {
     "slide_type": "-"
    }
   },
   "source": [
    "Hay un tipo *especial*, el elemento ``None``."
   ]
  },
  {
   "cell_type": "code",
   "execution_count": null,
   "metadata": {
    "autoscroll": false,
    "collapsed": false,
    "ein.tags": "worksheet-0",
    "slideshow": {
     "slide_type": "-"
    }
   },
   "outputs": [],
   "source": [
    "print ('True == None: ',True == None)\n",
    "print ('False == None: ', False == None)\n",
    "print (bool(None))\n",
    "a = None\n",
    "print ('type(a): ',type(a))\n",
    "b= True\n",
    "c = a\n",
    "print ('b is True: ',b is True)\n",
    "print ('a is None: ',a is None)\n",
    "print ('c is a: ',c is a)"
   ]
  },
  {
   "cell_type": "markdown",
   "metadata": {
    "ein.tags": "worksheet-0",
    "slideshow": {
     "slide_type": "-"
    }
   },
   "source": [
    "#### Operadores lógicos\n",
    "\n",
    "Los operadores lógicos en Python son muy explicitos:\n",
    "\n",
    "    A == B  (A igual que B)\n",
    "    A > B   (A mayor que B)\n",
    "    A < B   (A menor que B)\n",
    "    A >= B  (A igual o mayor que B)\n",
    "    A <= B  (A igual o menor que B)\n",
    "    A != B  (A diferente que B)\n",
    "    A in B  (A incluido en B)\n",
    "    A is B  (Identidad: A es el mismo elemento que B)\n",
    "\n",
    "y a todos los podemos combinar con `not`, que niega la condición"
   ]
  },
  {
   "cell_type": "code",
   "execution_count": null,
   "metadata": {
    "autoscroll": false,
    "collapsed": false,
    "ein.tags": "worksheet-0",
    "slideshow": {
     "slide_type": "-"
    }
   },
   "outputs": [],
   "source": [
    "print ('20/3 == 6:',20/3 == 6)\n",
    "print ('20//3 == 6:', 20//3 == 6)\n",
    "print ('20//3 >= 6:', 20//3 >= 6)\n",
    "print ('20//3 > 6:', 20//3 > 6)\n",
    "a = 1001\n",
    "b = 1001\n",
    "print ('a == b:', a == b)\n",
    "print ('a is b:',a is b)\n",
    "print ('a is not b:',a is not b)"
   ]
  },
  {
   "cell_type": "markdown",
   "metadata": {
    "ein.tags": "worksheet-0",
    "slideshow": {
     "slide_type": "-"
    }
   },
   "source": [
    "Note que en las últimas dos líneas estamos fijándonos si las dos variables son la misma (identidad), y no ocurre aunque vemos que sus valores son iguales."
   ]
  },
  {
   "cell_type": "raw",
   "metadata": {
    "ein.tags": "worksheet-0",
    "slideshow": {
     "slide_type": "-"
    }
   },
   "source": [
    ".. warning::  **Python** Puede reusar un lugar de memoria\n",
    "Por razones de optimización, en algunos casos **Python** puede utilizar el mismo lugar de memoria para dos variables que tienen el mismo valor, cuando este es pequeño."
   ]
  },
  {
   "cell_type": "markdown",
   "metadata": {
    "ein.tags": "worksheet-0",
    "slideshow": {
     "slide_type": "-"
    }
   },
   "source": [
    "La implementación que estamos usando, hace *cache* de la memoria utilizando el mismo lugar de memoria para dos números enteros iguales si son menores o iguales a 256. De todas maneras, es claro que deberíamos utilizar el símbolo `==` para probar igualdad y la palabra `is` para probar identidad."
   ]
  },
  {
   "cell_type": "code",
   "execution_count": 11,
   "metadata": {
    "autoscroll": false,
    "collapsed": false,
    "ein.tags": "worksheet-0",
    "slideshow": {
     "slide_type": "-"
    }
   },
   "outputs": [
    {
     "name": "stdout",
     "output_type": "stream",
     "text": [
      "11 : a is b: True\n",
      "11 22 False\n",
      "256 : a is b: True\n",
      "257 : a is b: False\n",
      "1.5 : a is b: False\n"
     ]
    }
   ],
   "source": [
    "a = 11\n",
    "b = 11\n",
    "print (a, ': a is b:', a is b)\n",
    "b=2*b\n",
    "print(a,b,a is b)\n",
    "a = 256\n",
    "b = 256\n",
    "print (a, ': a is b:', a is b)\n",
    "a = 257\n",
    "b = 257\n",
    "print (a, ': a is b:', a is b)\n",
    "a = 1.5\n",
    "b = 1.5\n",
    "print (a, ': a is b:', a is b)"
   ]
  },
  {
   "cell_type": "markdown",
   "metadata": {
    "ein.tags": "worksheet-0",
    "slideshow": {
     "slide_type": "-"
    }
   },
   "source": [
    "### Strings: Secuencias de caracteres\n",
    "\n",
    "Una cadena o *string* es una **secuencia** de caracteres (letras, números, símbolos). \n",
    "\n",
    "Se pueden definir con comillas, comillas simples, o tres comillas (simples o dobles). \n",
    "Comillas simples o dobles producen el mismo resultado. Sólo debe asegurarse que se  utilizan el mismo tipo para abrir y para cerrar el *string*\n",
    "\n",
    "Triple comillas (simples o dobles) sirven para incluir una cadena de caracteres en forma textual, incluyendo saltos de líneas.\n",
    "\n",
    "#### Operaciones\n",
    "\n",
    "En **Python** ya hay definidas algunas operaciones como suma (composición o concatenación), producto (repetición)."
   ]
  },
  {
   "cell_type": "code",
   "execution_count": 12,
   "metadata": {
    "autoscroll": false,
    "collapsed": false,
    "ein.tags": "worksheet-0",
    "slideshow": {
     "slide_type": "-"
    }
   },
   "outputs": [],
   "source": [
    "saludo = 'Hola Mundo'\n",
    "otro= \"that's all\"\n",
    "dijo = 'Él dijo: \"hola\" y yo no dije nada'\n",
    "Texto_largo = '''Aquí me pongo a cantar\n",
    "Al compás de la vigüela,\n",
    "Que el hombre que lo desvela\n",
    "Una pena estraordinaria\n",
    "Como la ave solitaria\n",
    "Con el cantar se consuela.'''\n",
    "otro = 'þß€→\"\\'oó@¬'"
   ]
  },
  {
   "cell_type": "markdown",
   "metadata": {
    "ein.tags": "worksheet-0",
    "slideshow": {
     "slide_type": "-"
    }
   },
   "source": [
    "Podemos imprimir los strings"
   ]
  },
  {
   "cell_type": "code",
   "execution_count": 13,
   "metadata": {
    "autoscroll": false,
    "collapsed": false,
    "ein.tags": "worksheet-0",
    "slideshow": {
     "slide_type": "-"
    }
   },
   "outputs": [
    {
     "name": "stdout",
     "output_type": "stream",
     "text": [
      "Hola Mundo \n",
      "\n",
      "Holamundo\n",
      "\n",
      "Aquí me pongo a cantar\n",
      "Al compás de la vigüela,\n",
      "Que el hombre que lo desvela\n",
      "Una pena estraordinaria\n",
      "Como la ave solitaria\n",
      "Con el cantar se consuela. \n",
      "\n"
     ]
    }
   ],
   "source": [
    "print (saludo,'\\n')\n",
    "print ('Hola' 'mundo' '\\n')\n",
    "print (Texto_largo,'\\n')"
   ]
  },
  {
   "cell_type": "markdown",
   "metadata": {
    "ein.tags": "worksheet-0",
    "slideshow": {
     "slide_type": "-"
    }
   },
   "source": [
    "Podemos imprimir varios strings simplemente usándolos como argumentos a la función print, o sumándolos"
   ]
  },
  {
   "cell_type": "code",
   "execution_count": 14,
   "metadata": {
    "autoscroll": false,
    "collapsed": false,
    "ein.tags": "worksheet-0",
    "slideshow": {
     "slide_type": "-"
    }
   },
   "outputs": [
    {
     "name": "stdout",
     "output_type": "stream",
     "text": [
      "Hola Mundo + þß€→\"'oó@¬\n",
      "Hola Mundo þß€→\"'oó@¬\n",
      "Hola Mundoþß€→\"'oó@¬\n",
      "\n"
     ]
    }
   ],
   "source": [
    "print (saludo,\"+\", otro)\n",
    "print (saludo, otro)\n",
    "print (saludo + otro + '\\n')"
   ]
  },
  {
   "cell_type": "markdown",
   "metadata": {
    "ein.tags": "worksheet-0",
    "slideshow": {
     "slide_type": "-"
    }
   },
   "source": [
    "También podemos calcular su longitud, con la función `len`"
   ]
  },
  {
   "cell_type": "code",
   "execution_count": 15,
   "metadata": {
    "autoscroll": false,
    "collapsed": false,
    "ein.tags": "worksheet-0",
    "slideshow": {
     "slide_type": "-"
    }
   },
   "outputs": [
    {
     "name": "stdout",
     "output_type": "stream",
     "text": [
      "longitud del saludo = 10 caracteres\n"
     ]
    }
   ],
   "source": [
    "print ('longitud del saludo =', len(saludo), 'caracteres')"
   ]
  },
  {
   "cell_type": "markdown",
   "metadata": {
    "ein.tags": "worksheet-0",
    "slideshow": {
     "slide_type": "-"
    }
   },
   "source": [
    "Utilizando esta idea podemos hacer un centrado \"manual\""
   ]
  },
  {
   "cell_type": "code",
   "execution_count": 16,
   "metadata": {
    "autoscroll": false,
    "collapsed": false,
    "ein.tags": "worksheet-0",
    "slideshow": {
     "slide_type": "-"
    }
   },
   "outputs": [
    {
     "name": "stdout",
     "output_type": "stream",
     "text": [
      "<<<<<<<<<<<<<<<<<<<< Poor man centering >>>>>>>>>>>>>>>>>>>>\n",
      "************************* Hola Mundo *************************\n",
      "************************* Hola Mundo *************************\n",
      "Hola Mundo +++ þß€→\"'oó@¬ +++ þß€→\"'oó@¬\n"
     ]
    }
   ],
   "source": [
    "n = int((30-len(saludo)//2)) \n",
    "print (\"{0} {1} {2}\".format( (n-5)*'<', \"Poor man centering\",(n-5)*'>' ))\n",
    "print (n*'*' + ' ' + saludo + \" \" + n*'*')\n",
    "print (\"{0} {1} {0}\".format(n*'*', saludo))\n",
    "t = saludo + 2*(' +++ ' + otro)\n",
    "print (t)"
   ]
  },
  {
   "cell_type": "markdown",
   "metadata": {
    "ein.tags": "worksheet-0",
    "slideshow": {
     "slide_type": "-"
    }
   },
   "source": [
    "#### Métodos de Strings\n",
    "\n",
    "DEFINIR MÉTODOS!!!!!!!!!!!!\n",
    "\n",
    "Los *strings* poseen varias cualidades y funcionalidades.\n",
    "Por ejemplo:\n",
    "\n",
    "  - Se puede iterar sobre ellos, o quedarse con una parte (slicing)\n",
    "  - Tienen métodos (funciones que se aplican a su *dueño*)\n",
    "  \n",
    "\n",
    "Hay más información en: [String Methods](https://docs.python.org/3/library/stdtypes.html#string-methods \"String Methods en la documentación oficial de Python\") pero veamos algunos ejemplos:"
   ]
  },
  {
   "cell_type": "code",
   "execution_count": 17,
   "metadata": {
    "autoscroll": false,
    "collapsed": false,
    "ein.tags": "worksheet-0",
    "slideshow": {
     "slide_type": "-"
    }
   },
   "outputs": [
    {
     "name": "stdout",
     "output_type": "stream",
     "text": [
      "\n",
      " Programa 0 en cualquier lenguaje:\n",
      "\t\t\tHola mundo! \n",
      "\n",
      "--------------------------------------------------------------------------------\n",
      "Somos los colectiveros que cumplimos nuestro deber!\n",
      "Longitud del texto:  51 caracteres\n",
      "Somos los colectiveros y cumplimos nuestro deber!\n",
      "Somos los coluctivuros que cumplimos nuestro deber!\n",
      "--------------------------------------------------------------------------------\n",
      "['Somos', 'los', 'colectiveros', 'que', 'cumplimos', 'nuestro', 'deber!']\n",
      "['Somos los col', 'ctiv', 'ros qu', ' cumplimos nu', 'stro d', 'b', 'r!']\n",
      "--------------------------------------------------------------------------------\n",
      "Texto Largo:\n",
      "Aquí me pongo a cantar\n",
      "Al compás de la vigüela,\n",
      "Que el hombre que lo desvela\n",
      "Una pena estraordinaria\n",
      "Como la ave solitaria\n",
      "Con el cantar se consuela.\n",
      "--------------------------------------------------------------------------------\n",
      "\n",
      "['Aquí me pongo a cantar', 'Al compás de la vigüela,', 'Que el hombre que lo desvela', 'Una pena estraordinaria', 'Como la ave solitaria', 'Con el cantar se consuela.']\n"
     ]
    }
   ],
   "source": [
    "a = \"Hola mundo!\"\n",
    "b = \"Somos los colectiveros que cumplimos nuestro deber!\"\n",
    "c = Texto_largo\n",
    "print ('\\n', \"Programa 0 en cualquier lenguaje:\\n\\t\\t\\t\" + a,'\\n')\n",
    "print (80*'-')\n",
    "print (b)\n",
    "print ('Longitud del texto: ',len(b), 'caracteres')\n",
    "print (b.replace('que','y')) # Reemplazamos un substring\n",
    "print (b.replace('e','u',2)) # Reemplazamos un substring 2 veces nomás\n",
    "print (80*'-')\n",
    "print (b.split())\n",
    "print (b.split('e'))\n",
    "print (80*'-')\n",
    "print ('Texto Largo:\\n'+ c + '\\n' + 80*'-' + '\\n')\n",
    "print (c.splitlines())  # Separamos cada línea"
   ]
  },
  {
   "cell_type": "markdown",
   "metadata": {
    "ein.tags": "worksheet-0",
    "slideshow": {
     "slide_type": "-"
    }
   },
   "source": [
    "Veamos cómo se selecciona con parte de strings (substrings)"
   ]
  },
  {
   "cell_type": "code",
   "execution_count": 18,
   "metadata": {
    "autoscroll": false,
    "collapsed": false,
    "ein.tags": "worksheet-0",
    "slideshow": {
     "slide_type": "-"
    }
   },
   "outputs": [
    {
     "name": "stdout",
     "output_type": "stream",
     "text": [
      "0\n",
      "1\n",
      "012\n",
      "012 12\n",
      "3456789\n",
      "01234567\n",
      "89\n",
      "0123489\n",
      "024\n",
      "987689\n",
      "02468\n",
      "9876543210\n",
      "9630\n"
     ]
    }
   ],
   "source": [
    "s = \"0123456789\"\n",
    "print (s[0])\n",
    "print (s[1])\n",
    "print (s[0:3])\n",
    "print (s[:3], s[1:3])\n",
    "print (s[3:])\n",
    "print (s[:-2])\n",
    "print (s[-2:])\n",
    "print (s[:5] + s[-2:])\n",
    "print(s[0:5:2])\n",
    "print (s[:5:-1] + s[-2:])\n",
    "print (s[::2])\n",
    "print (s[::-1])\n",
    "print (s[::-3])"
   ]
  },
  {
   "cell_type": "code",
   "execution_count": 19,
   "metadata": {
    "autoscroll": false,
    "collapsed": false,
    "ein.tags": "worksheet-0",
    "slideshow": {
     "slide_type": "-"
    }
   },
   "outputs": [
    {
     "name": "stdout",
     "output_type": "stream",
     "text": [
      "tipo de label:  <class 'str'>\n",
      "Resultados corresponden a: σ = λ T/ µ + π · δξ  (en m/s²)\n"
     ]
    }
   ],
   "source": [
    "# Un ejemplo que puede interesarnos un poco más:\n",
    "label = \"σ = λ T/ µ + π · δξ\"\n",
    "print('tipo de label: ', type(label))\n",
    "print ('Resultados corresponden a:', label, ' (en m/s²)')"
   ]
  },
  {
   "cell_type": "markdown",
   "metadata": {
    "ein.tags": "worksheet-0",
    "slideshow": {
     "slide_type": "-"
    }
   },
   "source": [
    "### Conversión de tipos\n",
    "\n",
    "Como comentamos anteriormente, y se ve en los ejemplos anteriores, uno no define el tipo de variable *a-priori* sino que queda definido al asignársele un valor (por ejemplo a=3 define a como una variable del tipo entero).\n",
    "\n",
    "Si bien **Python** hace la conversión de tipos de variables en algunos casos, **no hace magia**, no puede adivinar nuestra intención si no la explicitamos."
   ]
  },
  {
   "cell_type": "code",
   "execution_count": 20,
   "metadata": {
    "autoscroll": false,
    "collapsed": false,
    "ein.tags": "worksheet-0",
    "slideshow": {
     "slide_type": "-"
    }
   },
   "outputs": [
    {
     "name": "stdout",
     "output_type": "stream",
     "text": [
      "a es de tipo <class 'int'>\n",
      "b es de tipo <class 'float'>\n",
      "c es de tipo <class 'complex'>\n",
      "'a + b' es de tipo <class 'float'> y 'a + c' es de tipo <class 'complex'>\n"
     ]
    }
   ],
   "source": [
    "a = 3                           # a es entero\n",
    "b = 3.1                         # b es real\n",
    "c = 3 + 0j                      # c es complejo\n",
    "print (\"a es de tipo {0}\\nb es de tipo {1}\\nc es de tipo {2}\".format(type(a), type(b), type(c)))\n",
    "print (\"'a + b' es de tipo {0} y 'a + c' es de tipo {1}\".format(type(a+b), type(a+c)))"
   ]
  },
  {
   "cell_type": "code",
   "execution_count": 21,
   "metadata": {
    "autoscroll": false,
    "collapsed": false,
    "ein.tags": "worksheet-0",
    "slideshow": {
     "slide_type": "-"
    }
   },
   "outputs": [
    {
     "ename": "TypeError",
     "evalue": "unsupported operand type(s) for +: 'int' and 'str'",
     "output_type": "error",
     "traceback": [
      "\u001b[1;31m---------------------------------------------------------------------------\u001b[0m",
      "\u001b[1;31mTypeError\u001b[0m                                 Traceback (most recent call last)",
      "\u001b[1;32m<ipython-input-21-b60fad144cf2>\u001b[0m in \u001b[0;36m<module>\u001b[1;34m()\u001b[0m\n\u001b[1;32m----> 1\u001b[1;33m \u001b[0mprint\u001b[0m \u001b[1;33m(\u001b[0m\u001b[1;36m1\u001b[0m\u001b[1;33m+\u001b[0m\u001b[1;34m'1'\u001b[0m\u001b[1;33m)\u001b[0m\u001b[1;33m\u001b[0m\u001b[0m\n\u001b[0m",
      "\u001b[1;31mTypeError\u001b[0m: unsupported operand type(s) for +: 'int' and 'str'"
     ]
    }
   ],
   "source": [
    "print (1+'1')"
   ]
  },
  {
   "cell_type": "markdown",
   "metadata": {
    "ein.tags": "worksheet-0",
    "slideshow": {
     "slide_type": "-"
    }
   },
   "source": [
    "Sin embargo, si le decimos explícitamente qué conversión queremos, todo funciona bien"
   ]
  },
  {
   "cell_type": "code",
   "execution_count": 22,
   "metadata": {
    "autoscroll": false,
    "collapsed": false,
    "ein.tags": "worksheet-0",
    "slideshow": {
     "slide_type": "-"
    }
   },
   "outputs": [
    {
     "name": "stdout",
     "output_type": "stream",
     "text": [
      "11\n",
      "2\n",
      "100001.0\n"
     ]
    }
   ],
   "source": [
    "print (str(1) + '1')\n",
    "print (1 + int('1'))\n",
    "print (1 + float('1.e5'))"
   ]
  },
  {
   "cell_type": "code",
   "execution_count": 23,
   "metadata": {
    "autoscroll": false,
    "collapsed": false,
    "ein.tags": "worksheet-0",
    "slideshow": {
     "slide_type": "-"
    }
   },
   "outputs": [
    {
     "ename": "ValueError",
     "evalue": "invalid literal for int() with base 10: 'z'",
     "output_type": "error",
     "traceback": [
      "\u001b[1;31m---------------------------------------------------------------------------\u001b[0m",
      "\u001b[1;31mValueError\u001b[0m                                Traceback (most recent call last)",
      "\u001b[1;32m<ipython-input-23-078e7c6d4366>\u001b[0m in \u001b[0;36m<module>\u001b[1;34m()\u001b[0m\n\u001b[0;32m      1\u001b[0m \u001b[1;31m# a menos que nosotros **nos equivoquemos explícitamente**\u001b[0m\u001b[1;33m\u001b[0m\u001b[1;33m\u001b[0m\u001b[0m\n\u001b[1;32m----> 2\u001b[1;33m \u001b[0mprint\u001b[0m \u001b[1;33m(\u001b[0m\u001b[1;36m1\u001b[0m \u001b[1;33m+\u001b[0m \u001b[0mint\u001b[0m\u001b[1;33m(\u001b[0m\u001b[1;34m'z'\u001b[0m\u001b[1;33m)\u001b[0m\u001b[1;33m)\u001b[0m\u001b[1;33m\u001b[0m\u001b[0m\n\u001b[0m",
      "\u001b[1;31mValueError\u001b[0m: invalid literal for int() with base 10: 'z'"
     ]
    }
   ],
   "source": [
    "# a menos que nosotros **nos equivoquemos explícitamente**\n",
    "print (1 + int('z'))"
   ]
  },
  {
   "cell_type": "markdown",
   "metadata": {
    "ein.tags": "worksheet-0",
    "slideshow": {
     "slide_type": "-"
    }
   },
   "source": [
    "### Tipos compuestos (1): Listas\n",
    "\n",
    "Las listas son tipos compuestos (pueden contener más de un valor). Se definen separando los valores con comas, encerrados entre corchetes. En general las listas pueden contener diferentes tipos, y pueden no ser todos iguales, pero suelen utilizarse con ítems del mismo tipo. Tomando un ejemplo del *tutorial* "
   ]
  },
  {
   "cell_type": "code",
   "execution_count": 24,
   "metadata": {
    "autoscroll": false,
    "collapsed": false,
    "ein.tags": "worksheet-0",
    "slideshow": {
     "slide_type": "-"
    }
   },
   "outputs": [],
   "source": [
    "cuadrados = [1, 9, 16, 25]"
   ]
  },
  {
   "cell_type": "markdown",
   "metadata": {
    "ein.tags": "worksheet-0",
    "slideshow": {
     "slide_type": "-"
    }
   },
   "source": [
    "En esta línea hemos declarado una variable llamada `cuadrados`, y le hemos asignado una lista de cuatro elementos. En algunos aspectos las listas son muy similares a los *strings*. Se pueden realizar muchas de las mismas operaciones. Las listas pueden accederse por posición y también pueden rebanarse (*slicing*)\n",
    "\n",
    ".. note:: La indexación de iteradores empieza desde cero (como en C)\n"
   ]
  },
  {
   "cell_type": "code",
   "execution_count": 25,
   "metadata": {
    "autoscroll": false,
    "collapsed": false,
    "ein.tags": "worksheet-0",
    "slideshow": {
     "slide_type": "-"
    }
   },
   "outputs": [
    {
     "data": {
      "text/plain": [
       "1"
      ]
     },
     "execution_count": 25,
     "metadata": {},
     "output_type": "execute_result"
    }
   ],
   "source": [
    "cuadrados[0]"
   ]
  },
  {
   "cell_type": "code",
   "execution_count": 26,
   "metadata": {
    "autoscroll": false,
    "collapsed": false,
    "ein.tags": "worksheet-0",
    "slideshow": {
     "slide_type": "-"
    }
   },
   "outputs": [
    {
     "data": {
      "text/plain": [
       "25"
      ]
     },
     "execution_count": 26,
     "metadata": {},
     "output_type": "execute_result"
    }
   ],
   "source": [
    "cuadrados[3]"
   ]
  },
  {
   "cell_type": "code",
   "execution_count": 27,
   "metadata": {
    "autoscroll": false,
    "collapsed": false,
    "ein.tags": "worksheet-0",
    "slideshow": {
     "slide_type": "-"
    }
   },
   "outputs": [
    {
     "data": {
      "text/plain": [
       "25"
      ]
     },
     "execution_count": 27,
     "metadata": {},
     "output_type": "execute_result"
    }
   ],
   "source": [
    "cuadrados[-1]"
   ]
  },
  {
   "cell_type": "code",
   "execution_count": 28,
   "metadata": {
    "autoscroll": false,
    "collapsed": false,
    "ein.tags": "worksheet-0",
    "slideshow": {
     "slide_type": "-"
    }
   },
   "outputs": [
    {
     "data": {
      "text/plain": [
       "[1, 16]"
      ]
     },
     "execution_count": 28,
     "metadata": {},
     "output_type": "execute_result"
    }
   ],
   "source": [
    "cuadrados[:3:2]"
   ]
  },
  {
   "cell_type": "code",
   "execution_count": 29,
   "metadata": {
    "autoscroll": false,
    "collapsed": false,
    "ein.tags": "worksheet-0",
    "slideshow": {
     "slide_type": "-"
    }
   },
   "outputs": [
    {
     "data": {
      "text/plain": [
       "[16, 25]"
      ]
     },
     "execution_count": 29,
     "metadata": {},
     "output_type": "execute_result"
    }
   ],
   "source": [
    "cuadrados[-2:]"
   ]
  },
  {
   "cell_type": "markdown",
   "metadata": {
    "ein.tags": "worksheet-0",
    "slideshow": {
     "slide_type": "-"
    }
   },
   "source": [
    "Como vemos los índices pueden ser positivos (empezando desde cero) o negativos empezando desde -1. \n",
    "\n",
    "+----------------------+------+------+------+------+\n",
    "| cuadrados:           | 1    | 9    | 16   | 25   |\n",
    "+======================+======+======+======+======+\n",
    "| índices:             | 0    | 1    | 2    | 3    |\n",
    "+----------------------+------+------+------+------+\n",
    "| índices negativos:   | -4   | -3   | -2   | -1   |\n",
    "+----------------------+------+------+------+------+\n",
    "\n",
    "\n",
    ".. note:: La asignación entre listas **no copia**\n"
   ]
  },
  {
   "cell_type": "code",
   "execution_count": 30,
   "metadata": {
    "autoscroll": false,
    "collapsed": false,
    "ein.tags": "worksheet-0",
    "slideshow": {
     "slide_type": "-"
    }
   },
   "outputs": [
    {
     "data": {
      "text/plain": [
       "True"
      ]
     },
     "execution_count": 30,
     "metadata": {},
     "output_type": "execute_result"
    }
   ],
   "source": [
    "a = cuadrados\n",
    "a is cuadrados"
   ]
  },
  {
   "cell_type": "code",
   "execution_count": 31,
   "metadata": {
    "autoscroll": false,
    "collapsed": false,
    "ein.tags": "worksheet-0",
    "slideshow": {
     "slide_type": "-"
    }
   },
   "outputs": [
    {
     "name": "stdout",
     "output_type": "stream",
     "text": [
      "[-2, 9, 16, 25]\n"
     ]
    }
   ],
   "source": [
    "a[0]=-2\n",
    "print(cuadrados)"
   ]
  },
  {
   "cell_type": "code",
   "execution_count": 32,
   "metadata": {
    "autoscroll": false,
    "collapsed": false,
    "ein.tags": "worksheet-0",
    "slideshow": {
     "slide_type": "-"
    }
   },
   "outputs": [
    {
     "name": "stdout",
     "output_type": "stream",
     "text": [
      "[1, 9, 16, 25]\n"
     ]
    }
   ],
   "source": [
    "cuadrados[0]= 1\n",
    "print(a)"
   ]
  },
  {
   "cell_type": "code",
   "execution_count": null,
   "metadata": {
    "autoscroll": false,
    "collapsed": false,
    "ein.tags": "worksheet-0",
    "slideshow": {
     "slide_type": "-"
    }
   },
   "outputs": [],
   "source": []
  },
  {
   "cell_type": "markdown",
   "metadata": {
    "ein.tags": "worksheet-0",
    "slideshow": {
     "slide_type": "-"
    }
   },
   "source": [
    "#### Operaciones sobre listas\n",
    "\n",
    "Veamos algunas operaciones que se pueden realizar sobre listas. Por ejemplo, se puede fácilmente:\n",
    "\n",
    "  - concatenar dos listas,\n",
    "  - agregar elementos,\n",
    "  - borrar elementos,\n",
    "  - buscar un valor dado,\n",
    "  - calcular su longitud,\n",
    "  - invertirla\n",
    " \n",
    "\n",
    "Empecemos concatenando dos listas, usando el operador \"suma\""
   ]
  },
  {
   "cell_type": "code",
   "execution_count": 33,
   "metadata": {
    "autoscroll": false,
    "collapsed": false,
    "ein.tags": "worksheet-0",
    "slideshow": {
     "slide_type": "-"
    }
   },
   "outputs": [],
   "source": [
    "mas_cuadrados = cuadrados + [36, 49, 64, 81, 100]"
   ]
  },
  {
   "cell_type": "code",
   "execution_count": 34,
   "metadata": {
    "autoscroll": false,
    "collapsed": false,
    "ein.tags": "worksheet-0",
    "slideshow": {
     "slide_type": "-"
    }
   },
   "outputs": [
    {
     "name": "stdout",
     "output_type": "stream",
     "text": [
      "[1, 9, 16, 25, 36, 49, 64, 81, 100]\n"
     ]
    }
   ],
   "source": [
    "print(mas_cuadrados)            "
   ]
  },
  {
   "cell_type": "markdown",
   "metadata": {
    "ein.tags": "worksheet-0",
    "slideshow": {
     "slide_type": "-"
    }
   },
   "source": [
    "Ahora agregamos un elemento al final con `append`"
   ]
  },
  {
   "cell_type": "code",
   "execution_count": 35,
   "metadata": {
    "autoscroll": false,
    "collapsed": false,
    "ein.tags": "worksheet-0",
    "slideshow": {
     "slide_type": "-"
    }
   },
   "outputs": [],
   "source": [
    "mas_cuadrados.append(121)"
   ]
  },
  {
   "cell_type": "code",
   "execution_count": 36,
   "metadata": {
    "autoscroll": false,
    "collapsed": false,
    "ein.tags": "worksheet-0",
    "slideshow": {
     "slide_type": "-"
    }
   },
   "outputs": [
    {
     "name": "stdout",
     "output_type": "stream",
     "text": [
      "[1, 9, 16, 25, 36, 49, 64, 81, 100, 121]\n"
     ]
    }
   ],
   "source": [
    "print(mas_cuadrados)"
   ]
  },
  {
   "cell_type": "markdown",
   "metadata": {
    "ein.tags": "worksheet-0",
    "slideshow": {
     "slide_type": "-"
    }
   },
   "source": [
    "Si queremos insertar en algún lugar diferente del último lugar usamos `insert`"
   ]
  },
  {
   "cell_type": "code",
   "execution_count": 37,
   "metadata": {
    "autoscroll": false,
    "collapsed": false,
    "ein.tags": "worksheet-0",
    "slideshow": {
     "slide_type": "-"
    }
   },
   "outputs": [],
   "source": [
    "mas_cuadrados.insert(2,4)"
   ]
  },
  {
   "cell_type": "code",
   "execution_count": 38,
   "metadata": {
    "autoscroll": false,
    "collapsed": false,
    "ein.tags": "worksheet-0",
    "slideshow": {
     "slide_type": "-"
    }
   },
   "outputs": [
    {
     "name": "stdout",
     "output_type": "stream",
     "text": [
      "insertamos el 4 en la tercera posición:\n",
      " [1, 9, 4, 16, 25, 36, 49, 64, 81, 100, 121]\n"
     ]
    }
   ],
   "source": [
    "print('insertamos el 4 en la tercera posición:\\n', mas_cuadrados)"
   ]
  },
  {
   "cell_type": "markdown",
   "metadata": {
    "ein.tags": "worksheet-0",
    "slideshow": {
     "slide_type": "-"
    }
   },
   "source": [
    "Podemos sobreescribir uno o más elementos"
   ]
  },
  {
   "cell_type": "code",
   "execution_count": 39,
   "metadata": {
    "autoscroll": false,
    "collapsed": false,
    "ein.tags": "worksheet-0",
    "slideshow": {
     "slide_type": "-"
    }
   },
   "outputs": [],
   "source": [
    "mas_cuadrados[1:3] = [4,9]"
   ]
  },
  {
   "cell_type": "code",
   "execution_count": 40,
   "metadata": {
    "autoscroll": false,
    "collapsed": false,
    "ein.tags": "worksheet-0",
    "slideshow": {
     "slide_type": "-"
    }
   },
   "outputs": [
    {
     "name": "stdout",
     "output_type": "stream",
     "text": [
      "Sobreescribimos dos elementos: [1, 4, 9, 16, 25, 36, 49, 64, 81, 100, 121]\n"
     ]
    }
   ],
   "source": [
    "print ('Sobreescribimos dos elementos:', mas_cuadrados)"
   ]
  },
  {
   "cell_type": "code",
   "execution_count": 41,
   "metadata": {
    "autoscroll": false,
    "collapsed": false,
    "ein.tags": "worksheet-0",
    "slideshow": {
     "slide_type": "-"
    }
   },
   "outputs": [],
   "source": [
    "mas_cuadrados.insert(3,33)"
   ]
  },
  {
   "cell_type": "code",
   "execution_count": 42,
   "metadata": {
    "autoscroll": false,
    "collapsed": false,
    "ein.tags": "worksheet-0",
    "slideshow": {
     "slide_type": "-"
    }
   },
   "outputs": [
    {
     "data": {
      "text/plain": [
       "[1, 4, 9, 33, 16, 25, 36, 49, 64, 81, 100, 121]"
      ]
     },
     "execution_count": 42,
     "metadata": {},
     "output_type": "execute_result"
    }
   ],
   "source": [
    "mas_cuadrados"
   ]
  },
  {
   "cell_type": "code",
   "execution_count": 43,
   "metadata": {
    "autoscroll": false,
    "collapsed": false,
    "ein.tags": "worksheet-0",
    "slideshow": {
     "slide_type": "-"
    }
   },
   "outputs": [],
   "source": [
    "mas_cuadrados.insert(6,33)"
   ]
  },
  {
   "cell_type": "code",
   "execution_count": 44,
   "metadata": {
    "autoscroll": false,
    "collapsed": false,
    "ein.tags": "worksheet-0",
    "slideshow": {
     "slide_type": "-"
    }
   },
   "outputs": [
    {
     "data": {
      "text/plain": [
       "[1, 4, 9, 33, 16, 25, 33, 36, 49, 64, 81, 100, 121]"
      ]
     },
     "execution_count": 44,
     "metadata": {},
     "output_type": "execute_result"
    }
   ],
   "source": [
    "mas_cuadrados"
   ]
  },
  {
   "cell_type": "code",
   "execution_count": 45,
   "metadata": {
    "autoscroll": false,
    "collapsed": false,
    "ein.tags": "worksheet-0",
    "slideshow": {
     "slide_type": "-"
    }
   },
   "outputs": [],
   "source": [
    "mas_cuadrados.remove(33)"
   ]
  },
  {
   "cell_type": "markdown",
   "metadata": {
    "ein.tags": "worksheet-0",
    "slideshow": {
     "slide_type": "-"
    }
   },
   "source": [
    "Se puede encontrar la posición de un dado valor, pero es un error si el valor no existe:"
   ]
  },
  {
   "cell_type": "code",
   "execution_count": 46,
   "metadata": {
    "autoscroll": false,
    "collapsed": false,
    "ein.tags": "worksheet-0",
    "slideshow": {
     "slide_type": "-"
    }
   },
   "outputs": [
    {
     "data": {
      "text/plain": [
       "4"
      ]
     },
     "execution_count": 46,
     "metadata": {},
     "output_type": "execute_result"
    }
   ],
   "source": [
    "mas_cuadrados.index(25)"
   ]
  }
 ],
 "metadata": {
  "kernelspec": {
   "display_name": "Python 3",
   "name": "python3"
  },
  "language_info": {
   "codemirror_mode": {
    "name": "ipython",
    "version": 3
   },
   "file_extension": ".py",
   "mimetype": "text/x-python",
   "name": "python",
   "nbconvert_exporter": "python",
   "pygments_lexer": "ipython3",
   "version": "3.5.3"
  },
  "name": "01_introd_python.ipynb"
 },
 "nbformat": 4,
 "nbformat_minor": 0
}
