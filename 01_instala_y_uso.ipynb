{
 "cells": [
  {
   "cell_type": "markdown",
   "metadata": {
    "ein.tags": "worksheet-0",
    "slideshow": {
     "slide_type": "-"
    }
   },
   "source": [
    "# Introducción al lenguaje\n",
    "\n",
    "## Cómo empezar: Instalación y uso\n",
    "**Python** es un lenguaje de programación interpretado, que se puede ejecutar sobre distintos sistemas operativos, esto se conoce como multiplataforma (suele usarse el término *cross-platform*). Además, la mayoría de los programas que existen (y posiblemente todos los que nosotros escribamos) pueden ejecutarse tanto en Linux como en windows y en Mac sin realizar ningún cambio.\n"
   ]
  },
  {
   "cell_type": "markdown",
   "metadata": {
    "ein.tags": "worksheet-0",
    "slideshow": {
     "slide_type": "-"
    }
   },
   "source": [
    "**Versiones:** Hay dos versiones activas del lenguaje Python.\n",
    "\n",
    "   - **Python2.X** (Python 2) es una versión madura, estable, y con muchas aplicaciones, y utilidades disponibles. No se desarrolla pero se corrigen los errores.\n",
    "\n",
    "   - **Python3.X** (Python 3) es la versión presente y futura. Se introdujo por primera vez en 2008, y produjo cambios incompatibles con Python 2. Por esa razón se mantienen ambas versiones y algunos de los desarrollos de Python 3 se *portan* a Python 2. En este momento la mayoría de las utilidades de Python 2 han sido modificadas para Python 3 por lo que podría usarse indistintamente cualquiera de las dos.\n",
    "\n"
   ]
  },
  {
   "cell_type": "markdown",
   "metadata": {
    "ein.tags": "worksheet-0",
    "slideshow": {
     "slide_type": "-"
    }
   },
   "source": [
    "### Instalación\n",
    "\n",
    "En este curso utilizaremos **Python 3**\n",
    "\n",
    "Para una instalación fácil de Python y los paquetes para uso científico se pueden usar alguna de las distribuciones:\n",
    "\n",
    "- [Anaconda](http://continuum.io/downloads).   (Linux, Windows, MacOs)\n",
    "- [Canopy](http://www.enthought.com/).         (Linux, Windows, MacOs)\n",
    "- [Winpython] (https://winpython.github.io/)   (Windows)\n",
    "- [Python(x,y)](http://python-xy.github.io).   (Windows ¿discontinuado?)\n",
    "\n",
    "  - En linux se podría instalar alguna de estas distribuciones pero puede ser más fácil instalar directamente todo lo necesario desde los repositorios. Por ejemplo en Ubuntu: \n",
    "\n",
    "    `sudo apt-get install ipython3 ipython3-notebook spyder python3-matplotlib python3-numpy python3-scipy`\n",
    "\n",
    "    o, en Fedora 22, 23, 24, 25, 26:\n",
    "\n",
    "    `sudo dnf install python3-ipython python3-ipython-notebook python3-matplotlib python3-numpy python3-scipy`\n",
    "\n",
    "Para versiones anteriores de fedora reemplazar el comando `dnf` por el comando `yum` \n",
    "\n",
    "### Editores de textos e IDEs:\n",
    "\n",
    "  * Editores de Texto:\n",
    "    - En windows: [Notepad++](https://notepad-plus-plus.org), [Jedit](http://www.jedit.org/), ... (no Notepad o Wordpad)\n",
    "\n",
    "    - En Linux: cualquier editor de texto (gedit, geany, kate, nano, emacs, vim, ...)\n",
    "\n",
    "    - En Mac: TextEdit funciona, sino TextWrangler, [JEdit](http://www.jedit.org/), ...\n",
    "\n",
    "  * Editores Multiplataforma e IDEs\n",
    "\n",
    "    - [spyder](https://github.com/spyder-ide/spyder/). (IDE - También viene con Anaconda, y con Python(x,y)).\n",
    "    - [Atom](https://atom.io/) Moderno editor de texto, extensible a través de paquetes (más de 3000).\n",
    "    - [Pycharm](https://www.jetbrains.com/pycharm/). (IDE, una versión comercial y una libre, ambos con muchas funcionalidades)\n",
    "\n",
    "\n",
    "### Documentación y ayudas\n",
    "\n",
    "Algunas fuentes de ayuda *constante* son:\n",
    "\n",
    "* [La documentación oficial de Python](https://docs.python.org/3/)\n",
    "* En particular el [Tutorial](https://docs.python.org/3/tutorial/), también [en español](http://docs.python.org.ar/tutorial/3/) y la [referencia de bibliotecas](https://docs.python.org/3/reference/index.html)\n",
    "* En una terminal, puede obtener información sobre un paquete con `pydoc <comando>`\n",
    "* En una consola interactiva de **Python**, mediante `help(<comando>)`\n",
    "* La documentación de los paquetes:\n",
    "    - [Numpy](http://docs.scipy.org/doc/numpy/user/)\n",
    "    - [Matplotlib](http://matplotlib.org), en particular la [galería](http://matplotlib.org/gallery.html)\n",
    "    - [Scipy](http://docs.scipy.org/doc/scipy/reference/)\n",
    "* Buscar \"palabras clave + python\" en un buscador. Es particularmente útil el sitio [stackoverflow](http://stackoverflow.com/)\n",
    "\n",
    "\n",
    "### Uso de Python: Interactivo o no\n",
    "\n",
    "\n",
    "#### Interfaces interactivas (consolas/terminales, notebooks)\n",
    "\n",
    "Hay muchas maneras de usar el lenguaje Python.  Es un lenguaje **interpretado** e **interactivo**. Si ejecutamos la consola (`cmd.exe` en windows) y luego `python`, se abrirá la consola interactiva\n",
    "\n",
    "![](figuras/console.png)\n",
    "\n",
    "En la consola interactiva podemos escribir sentencias o pequeños bloques de código que son ejecutados inmediatamente. Pero *la consola interactiva* estándar es **<s>fea</s> incómoda**. Podemos usar **IPython** que viene con \"accesorios de *comfort*\".\n",
    "\n",
    "![](figuras/ipython.png)\n",
    "\n",
    "La consola IPython supera a la estándar en muchos sentidos. Podemos autocompletar (`<TAB>`), ver ayuda rápida de cualquier objeto (`?`), etc. \n",
    "\n",
    "#### Programas/scripts\n",
    "\n",
    "Una forma muy común/poderosa de usar Python es en forma *no interactiva*, escribiendo *programas* o *scripts*. Esto es, escribir nuestro código en un archivo con extensión *.py* para luego ejecutarlo con el intérprete. Por ejemplo, podemos crear un archivo *hello.py* (al que se le llama *módulo*) con este contenido:\n",
    "\n",
    "    print(\"Hola Mundo!\")\n",
    "\n",
    "Si ejecutamos `python hello.py` o `ipython hello.py` se ejecutará el interprete Python y obtendremos el resultado esperado (impresión por pantalla de \"Hola Mundo!\", sin las comillas)\n",
    "\n",
    "\n",
    "**Python** no exige un editor específico y hay muchos modos y maneras de programar. Lo que es importante al programar en **Python** es que la *indentación* define los bloques (definición de loops, if/else, funciones, clases, etc). Por esa razón es importante que el tabulado no mezcle espacios con caracteres específicos de tabulación. La manera que recomendaría es usar siempre espacios (uno usa la tecla <TAB> pero el editor lo traduce a un número determinado de espacios).\n",
    "La indentación recomendada es de **4** espacios (pero van a notar que yo uso **2**).\n",
    "\n",
    "Un buen editor es **Spyder** que tiene características de IDE (entorno integrado: editor + ayuda + consola interactiva). \n",
    "\n",
    "![](figuras/spyder.png)\n",
    "\n",
    "Otro entorno integrado, que funciona muy bien, viene instalado con **Canopy**.\n",
    "\n",
    "![](figuras/canopy-cluster.png)\n",
    "\n",
    "En ambos casos se puede ejecutar todo el módulo en la consola interactiva que incluye. Alternativamente, también se puede seleccionar **sólo** una porción del código para ejecutar.\n",
    "\n",
    "\n",
    "#### Notebooks de Ipython\n",
    "\n",
    "Para trabajar en forma interactiva es muy útil usar los *Notebooks* de Ipython. El notebook es un entorno interactivo enriquecido. Podemos crear y editar \"celdas\" código Python que se pueden editar y volver a ejecutar, se pueden intercalar celdas de texto, fórmulas matemáticas, y hacer que los gráficos se muestren inscrutados en la misma pantalla o en ventanas separadas. Además se puede escribir texto con formato (como este que estamos viendo) con secciones, títulos.\n",
    "Estos archivos se guardan con extensión *.ipynb*, que pueden exportarse en distintos formatos tales como html (estáticos), en formato PDF, LaTeX, o como código python puro. (.py)\n",
    "\n",
    "\n",
    "### Comandos de Ipython \n",
    "\n",
    "#### Comandos de Navegación\n",
    "\n",
    "IPython conoce varios de los comandos más comunes en Linux. En la terminal de IPython estos comandos funcionan independientemente del sistema operativo (sí, incluso en windows).\n",
    "\n",
    "En la consola de IPython tipee ``%cd ~`` (*i.e.* \"``%cd``\" -- \"espacio\" -- \"tilde\". Esto nos pone en el directorio HOME (default).  Después tipee ``%pwd`` (<b>p</b>rint <b>w</b>orking <b>d</b>irectory) and presione RETURN:\n"
   ]
  },
  {
   "cell_type": "code",
   "execution_count": 4,
   "metadata": {
    "autoscroll": false,
    "collapsed": false,
    "ein.tags": "worksheet-0",
    "slideshow": {
     "slide_type": "-"
    }
   },
   "outputs": [
    {
     "name": "stdout",
     "output_type": "stream",
     "text": [
      "/home/fiol/trabajo/clases/pythons/clases-python/clases\n"
     ]
    }
   ],
   "source": [
    "%cd .."
   ]
  },
  {
   "cell_type": "code",
   "execution_count": 6,
   "metadata": {
    "autoscroll": false,
    "collapsed": false,
    "ein.tags": "worksheet-0",
    "slideshow": {
     "slide_type": "-"
    }
   },
   "outputs": [
    {
     "name": "stdout",
     "output_type": "stream",
     "text": [
      "/home/fiol/trabajo/clases/pythons/clases-python/clases\n"
     ]
    }
   ],
   "source": [
    "%cd -"
   ]
  },
  {
   "cell_type": "code",
   "execution_count": 0,
   "metadata": {
    "autoscroll": false,
    "collapsed": false,
    "ein.tags": "worksheet-0",
    "slideshow": {
     "slide_type": "-"
    }
   },
   "outputs": [
    {
     "data": {
      "text/plain": [
       "'/home/fiol'"
      ]
     },
     "execution_count": 41,
     "metadata": {},
     "output_type": "execute_result"
    }
   ],
   "source": [
    "%pwd"
   ]
  },
  {
   "cell_type": "markdown",
   "metadata": {
    "ein.tags": "worksheet-0",
    "slideshow": {
     "slide_type": "-"
    }
   },
   "source": [
    "En windows, el comando `pwd` va a dar algo así como:\n",
    "\n",
    "    In [3]: pwd\n",
    "    Out[3]: C:\\\\Users\\\\usuario"
   ]
  },
  {
   "cell_type": "code",
   "execution_count": 0,
   "metadata": {
    "autoscroll": false,
    "collapsed": false,
    "ein.tags": "worksheet-0",
    "slideshow": {
     "slide_type": "-"
    }
   },
   "outputs": [
    {
     "name": "stdout",
     "output_type": "stream",
     "text": [
      "/home/fiol/trabajo/clases/pythons/clases-python/clases\n"
     ]
    }
   ],
   "source": [
    "%cd -"
   ]
  },
  {
   "cell_type": "code",
   "execution_count": 0,
   "metadata": {
    "autoscroll": false,
    "collapsed": false,
    "ein.tags": "worksheet-0",
    "slideshow": {
     "slide_type": "-"
    }
   },
   "outputs": [
    {
     "name": "stdout",
     "output_type": "stream",
     "text": [
      "/home/fiol/trabajo/clases/pythons/clases-python\n"
     ]
    }
   ],
   "source": [
    "%cd .."
   ]
  },
  {
   "cell_type": "markdown",
   "metadata": {
    "ein.tags": "worksheet-0",
    "slideshow": {
     "slide_type": "-"
    }
   },
   "source": [
    "Vamos a crear un directorio donde guardar todos los programas. Lo vamos a llamar ``scripts`` \n",
    "Primero vamos a ir al directorio que queremos, y crearlo. En mi caso lo voy a crear en mi HOME."
   ]
  },
  {
   "cell_type": "code",
   "execution_count": 13,
   "metadata": {
    "autoscroll": false,
    "collapsed": false,
    "ein.tags": "worksheet-0",
    "slideshow": {
     "slide_type": "-"
    }
   },
   "outputs": [
    {
     "data": {
      "text/plain": [
       "'/home/fiol/scripts'"
      ]
     },
     "execution_count": 13,
     "metadata": {},
     "output_type": "execute_result"
    }
   ],
   "source": [
    "%pwd"
   ]
  },
  {
   "cell_type": "code",
   "execution_count": 9,
   "metadata": {
    "autoscroll": false,
    "collapsed": false,
    "ein.tags": "worksheet-0",
    "slideshow": {
     "slide_type": "-"
    }
   },
   "outputs": [],
   "source": [
    "%mkdir scripts"
   ]
  },
  {
   "cell_type": "code",
   "execution_count": 10,
   "metadata": {
    "autoscroll": false,
    "collapsed": false,
    "ein.tags": "worksheet-0",
    "slideshow": {
     "slide_type": "-"
    }
   },
   "outputs": [
    {
     "name": "stdout",
     "output_type": "stream",
     "text": [
      "/home/fiol/scripts\n"
     ]
    }
   ],
   "source": [
    "%cd scripts"
   ]
  },
  {
   "cell_type": "markdown",
   "metadata": {
    "ein.tags": "worksheet-0",
    "slideshow": {
     "slide_type": "-"
    }
   },
   "source": [
    "Ahora voy a escribir una línea en un archivo llamado *prog1.py*. Acá estamos introduciendo algo nuevo que es el uso de los comandos del sistema operativo. Si iniciamos la línea con un signo de exclamación la consola le pasa el comando al sistema operativo. En este caso el comando \"echo\" que en Linux hace eco de su argumento por pantalla, y nosotros estamos enviando al archivo *prog1.py*"
   ]
  },
  {
   "cell_type": "code",
   "execution_count": 15,
   "metadata": {
    "autoscroll": false,
    "collapsed": false,
    "ein.tags": "worksheet-0",
    "slideshow": {
     "slide_type": "-"
    }
   },
   "outputs": [],
   "source": [
    "!echo \"print(121231)\" > prog1.py"
   ]
  },
  {
   "cell_type": "markdown",
   "metadata": {
    "ein.tags": "worksheet-0",
    "slideshow": {
     "slide_type": "-"
    }
   },
   "source": [
    "De la misma manera, utilizamos el comando *cat* de Linux para mostrar por pantalla los contenidos del archivo (y ver que efectivamente escribió lo que queríamos):"
   ]
  },
  {
   "cell_type": "code",
   "execution_count": 16,
   "metadata": {
    "autoscroll": false,
    "collapsed": false,
    "ein.tags": "worksheet-0",
    "slideshow": {
     "slide_type": "-"
    }
   },
   "outputs": [
    {
     "name": "stdout",
     "output_type": "stream",
     "text": [
      "print(121231)\r\n"
     ]
    }
   ],
   "source": [
    "!cat prog1.py"
   ]
  },
  {
   "cell_type": "markdown",
   "metadata": {
    "ein.tags": "worksheet-0",
    "slideshow": {
     "slide_type": "-"
    }
   },
   "source": [
    "#### Más comandos mágicos\n",
    "\n",
    "Algunos de los comandos mágicos más importantes son:\n",
    "\n",
    "* ``%run`` *filename*  (corre un dado programa)\n",
    "* ``%hist``            (muestra la historia en una consola interactiva)\n",
    "* ``%edit`` *filename* (abre el archivo en el editor *default*)\n",
    "\n",
    "Hay varios otros comandos mágicos en IPython\n"
   ]
  },
  {
   "cell_type": "code",
   "execution_count": 17,
   "metadata": {
    "autoscroll": false,
    "collapsed": false,
    "ein.tags": "worksheet-0",
    "slideshow": {
     "slide_type": "-"
    }
   },
   "outputs": [
    {
     "name": "stdout",
     "output_type": "stream",
     "text": [
      "121231\n"
     ]
    }
   ],
   "source": [
    "%run prog1.py"
   ]
  },
  {
   "cell_type": "code",
   "execution_count": 20,
   "metadata": {
    "autoscroll": false,
    "collapsed": false,
    "ein.tags": "worksheet-0",
    "slideshow": {
     "slide_type": "-"
    }
   },
   "outputs": [],
   "source": [
    "%quickref"
   ]
  },
  {
   "cell_type": "markdown",
   "metadata": {
    "ein.tags": "worksheet-0",
    "slideshow": {
     "slide_type": "-"
    }
   },
   "source": [
    "#### Comandos de Shell\n",
    "\n",
    "Se pueden correr comandos del sistema operativo (más útil en linux) tipeando ``!`` seguido por el comando\n",
    "\n",
    "##### Resumen de comandos\n",
    "\n",
    "* ``pwd``:\n",
    "\t(**p**rint **w**orking **d**irectory) Muestra el camino al directorio actual\n",
    "\n",
    "* ``ls``:\n",
    "\t(**l**i**s**t)  Lista los nombres de archivos y directorios\n",
    "\n",
    "* ``mkdir`` *filename*:\n",
    "\t(**m**a**k**e **dir**ectory)  Crea un nuevo directorio *filename*.\n",
    "\n",
    "* ``cd`` *directoryname*:\n",
    "\t(**c**hange **d**irectory)  Cambia el directorio actual a *directoryname*.\n",
    "\n",
    "*\t``clear``:\n",
    "\t\tLimpia la pantalla de **IPython** (para la consola, no para notebooks)\n",
    "\n",
    "*\t``run`` *filename*:\n",
    "\t\tCorre (ejecuta) un script escrito en Python.\n",
    "\n",
    "*\tTab completion:\n",
    "\t\tApretando \\<TAB\\> completa los comandos o nombres de archivos.\n"
   ]
  }
 ],
 "metadata": {
  "kernelspec": {
   "display_name": "Python 3",
   "language": "python",
   "name": "python3"
  },
  "language_info": {
   "codemirror_mode": {
    "name": "ipython",
    "version": 3
   },
   "file_extension": ".py",
   "mimetype": "text/x-python",
   "name": "python",
   "nbconvert_exporter": "python",
   "pygments_lexer": "ipython3",
   "version": "3.5.3"
  },
  "name": "01_instala_y_uso.ipynb"
 },
 "nbformat": 4,
 "nbformat_minor": 0
}
