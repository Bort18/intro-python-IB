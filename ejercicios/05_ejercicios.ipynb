{
 "cells": [
  {
   "cell_type": "markdown",
   "metadata": {
    "ein.tags": "worksheet-0",
    "slideshow": {
     "slide_type": "-"
    }
   },
   "source": [
    "## Ejercicios 05\n",
    "\n",
    "1. Escriba una serie de funciones que permitan trabajar con polinomios. Vamos a representar a los polinomios como una lista de números reales (los coeficientes):\n",
    "\n",
    "    * Una función que devuelva el orden del polinomio\n",
    "    * Una función que sume dos polinomios y devuelva un polinomio (objeto del mismo tipo)\n",
    "    * Una función que multiplique dos polinomios\n",
    "    * Una función devuelva la derivada del polinomio (otro polinomio).\n",
    "    * Una función que, acepte el polinomio y devuelva la función correspondiente.\n",
    "\n"
   ]
  }
 ],
 "metadata": {
  "name": "05_ejercicios.ipynb"
 },
 "nbformat": 4,
 "nbformat_minor": 0
}
