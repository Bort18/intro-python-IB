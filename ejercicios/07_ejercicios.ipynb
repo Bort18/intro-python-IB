{
 "cells": [
  {
   "cell_type": "markdown",
   "metadata": {
    "ein.tags": "worksheet-0",
    "slideshow": {
     "slide_type": "-"
    }
   },
   "source": [
    "## Ejercicios 07\n",
    "\n",
    "1. Escriba una función `suma_potencias(p, n)` (utilizando **Numpy**) que calcule la operación $$s_{2} = \\sum_{k=0}^{n}k^{p}$$. \n",
    "\n",
    "2. Modifique la función `caida_libre` de una práctica anterior para que acepte un array de tiempos y devuelva un array con las velocidades $v(t)$ y otro con las posiciones $h(t)$ en lugar de un único valor.\n",
    "\n",
    "3. **Integration por trapecios:**  Queremos realizar numéricamente la integral\n",
    "  $$\n",
    "  \\int_{a}^{b}f(x)dx\n",
    "  $$\n",
    "\n",
    "  utilizando el método de los trapecios. Para eso partimos el intervalo $[a,b]$ en N subintervalos y aproximamos la curva en cada subintervalo por una recta\n",
    "\n",
    "![](figuras/trapez_rule_wiki.png)\n",
    "\n",
    "  La línea azul representa la función $f(x)$ y la línea roja la interpolación por una recta (figura de https://en.wikipedia.org/wiki/Trapezoidal_rule)\n",
    "\n",
    "  Si llamamos $x_{i}$ ($i=0,\\ldots,n,$ con $x_{0}=a$ y $x_{n}=b$) los puntos equiespaciados, entonces queda\n",
    "  $$\n",
    "     \\int_{a}^{b}f(x)dx\\approx\\frac{h}{2}\\sum_{i=1}^{n}\\left(f(x_{i})+f(x_{i-1})\\right).\n",
    "  $$\n",
    "\n",
    "  * Escriba una función  `trapz(x, y)` que reciba dos array unidimensionales `x` e `y` y aplique la fórmula de los trapecios\n",
    "\n",
    "  * Escriba una función `trapzf(f, a, b, npts=100)` que recibe una función `f`, los límites `a`, `b` y el número de puntos a utilizar `npts`, y devuelve el valor de la integral por trapecios.\n",
    "\n"
   ]
  },
  {
   "cell_type": "code",
   "execution_count": null,
   "metadata": {
    "collapsed": true
   },
   "outputs": [],
   "source": []
  }
 ],
 "metadata": {
  "kernelspec": {
   "display_name": "Python 3",
   "language": "python",
   "name": "python3"
  },
  "language_info": {
   "codemirror_mode": {
    "name": "ipython",
    "version": 3
   },
   "file_extension": ".py",
   "mimetype": "text/x-python",
   "name": "python",
   "nbconvert_exporter": "python",
   "pygments_lexer": "ipython3",
   "version": "3.5.3"
  },
  "name": "07_ejercicios.ipynb"
 },
 "nbformat": 4,
 "nbformat_minor": 0
}
