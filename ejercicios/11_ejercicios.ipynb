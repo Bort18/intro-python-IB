{
 "cells": [
  {
   "cell_type": "markdown",
   "metadata": {
    "ein.tags": "worksheet-0",
    "slideshow": {
     "slide_type": "-"
    }
   },
   "source": [
    "## Ejercicios 11"
   ]
  },
  {
   "cell_type": "markdown",
   "metadata": {
    "ein.tags": "worksheet-0",
    "slideshow": {
     "slide_type": "-"
    }
   },
   "source": [
    "1. El submódulo **scipy.constants** tiene valores de constantes físicas de interés. \n",
    "Usando este módulo compute la constante de Stefan-Boltzmann $\\sigma$ utilizando la relación:\n",
    "$$\\sigma = \\frac{2 \\pi^5 k_B^4}{15 h^3 c^2}$$\n",
    "Confirme que el valor obtenido es correcto comparando con la constante para esta cantidad en ``scipy.constants``\n",
    "\n",
    "2. Usando **Scipy** y **Matplotlib** grafique las funciones de onda del oscilador armónico unidimensional para las cuatro energías más bajas ($n=1,2,3,4$), en el intervalo $[-5,5]$. Asegúrese de que están correctamente normalizados.\n",
    "\n",
    "Las funciones están dadas por:\n",
    "\n",
    "$$ \\psi _{n}(x)={\\frac {1}{\\sqrt {2^{n}\\,n!}}}\\cdot \\left({\\frac {\\omega }{\\pi}}\\right)^{1/4}\\cdot e^{-{\\frac {\\omega x^{2}}{2 }}}\\cdot H_{n}\\left({\\sqrt{\\omega}}\\, x\\right),\\qquad n=0,1,2,\\ldots .$$\n",
    "\n",
    "donde $H_{n}$ son los polinomios de Hermite, y usando $\\omega = 2$.\n",
    "\n",
    "Trate de obtener un gráfico similar al siguiente (tomado de [wikipedia](https://en.wikipedia.org/wiki/Quantum_harmonic_oscillator). Realizado por By AllenMcC. - File:HarmOsziFunktionen.jpg, [CC BY-SA 3.0](https://commons.wikimedia.org/w/index.php?curid=11623546))\n",
    "\n",
    "![](figuras/HarmOsziFunktionen.png)"
   ]
  }
 ],
 "metadata": {
  "kernelspec": {
   "display_name": "Python 3",
   "language": "python",
   "name": "python3"
  },
  "language_info": {
   "codemirror_mode": {
    "name": "ipython",
    "version": 3
   },
   "file_extension": ".py",
   "mimetype": "text/x-python",
   "name": "python",
   "nbconvert_exporter": "python",
   "pygments_lexer": "ipython3",
   "version": "3.5.3"
  },
  "name": "11_ejercicios.ipynb"
 },
 "nbformat": 4,
 "nbformat_minor": 2
}
