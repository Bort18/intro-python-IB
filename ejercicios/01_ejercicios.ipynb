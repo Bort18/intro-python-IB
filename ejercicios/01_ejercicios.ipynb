{
 "cells": [
  {
   "cell_type": "markdown",
   "metadata": {
    "ein.tags": "worksheet-0",
    "slideshow": {
     "slide_type": "-"
    }
   },
   "source": [
    "## Ejercicios 01\n",
    " \n",
    "1. Abra una terminal (consola) de Ipython y utilícela como una calculadora para:\n",
    "     - Suponiendo que, de las cuatro horas de clases, tomamos un descanso de 15 minutos y nos distraemos otros 13 minutos, calcular cuántos minutos efectivos de trabajo tendremos en las 16 clases.\n",
    "     - Para la cantidad de alumnos presentes en el aula: ¿cuántas horas-persona de trabajo hay involucradas?\n",
    "\n",
    "2. Muestre en la consola de Ipython:\n",
    "     - el nombre de su directorio actual\n",
    "     - los archivos en su directorio actual\n",
    "     - si está usando linux, la fecha y hora\n",
    "\n",
    "2. Para cubos de lados de longitud L= 1, 3, 5 y 8, calcule su superficie y su volumen.\n",
    "\n",
    "4. Para esferas de radios r= 1, 3, 5 y 8, calcule su superficie y su volumen.\n",
    "\n",
    "5. Abra un editor de textos y escriba las líneas necesarias para imprimir las siguientes frases (una por línea). Guarde y ejecute su programa.\n",
    "    - Hola, por primera vez\n",
    "    - Hola, hoy es mi día de escribir frases intrascendentes\n",
    "    - Hola, nuevamente, y espero que por última vez\n",
    "    - E = mc²\n",
    "    - Adiós\n",
    "  "
   ]
  }
 ],
 "metadata": {
  "kernelspec": {
   "display_name": "Python 3",
   "name": "python3"
  },
  "name": "01_ejercicios.ipynb"
 },
 "nbformat": 4,
 "nbformat_minor": 0
}
