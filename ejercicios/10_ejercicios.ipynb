{
 "cells": [
  {
   "cell_type": "markdown",
   "metadata": {
    "ein.tags": "worksheet-0",
    "slideshow": {
     "slide_type": "-"
    }
   },
   "source": [
    "## 10 Ejercicios\n",
    "\n",
    "1. En el archivo `palabras.words.gz` hay una larga lista de palabras, en formato comprimido.\n",
    "Siguiendo la idea del ejemplo dado en clases realizar un histograma de las longitudes de las palabras.\n",
    "\n",
    "2. Modificar el programa del ejemplo de la clase para calcular el histograma de frecuencia de letras en las palabras (no sólo la primera). Considere el caso insensible a la capitalización: las mayúsculas y minúsculas corresponden a la misma letra ('á' es lo mismo que 'Á').\n",
    "\n",
    "3. Utilizando el mismo archivo de palabras, Guardar todas las palabras en un array y obtener los índices de las palabras que tienen una dada letra (por ejemplo la letra 'j'), los índices de las palabras con un número dado de letras (por ejemplo 5 letras), y los índices de las palabras cuya tercera letra es una vocal. En cada caso, dar luego las palabras que cumplen dichas condiciones.\n",
    "\n",
    "4. En el archivo `colision.npy` hay una gran cantidad de datos que corresponden al resultado de una simulación. Los datos están organizados en trece columnas. La primera corresponde a un parámetro, mientras que las 12 restantes corresponde a cada una de las tres componentes de la velocidad de cuatro partículas. Calcular y graficar:\n",
    "  1. la distribución de ocurrencias del primer parámetro.\n",
    "  2. la distribución de ocurrencias de energías de la tercera partícula.\n",
    "  3. la distribución de ocurrencias de ángulos de la cuarta partícula, medido respecto al tercer eje.\n",
    "  4. la distribución de energías de la tercera partícula cuando la cuarta partícula tiene un ángulo menor a 90 grados con el tercer eje.\n",
    "\n",
    "  Realizar los cuatro gráficos utilizando un formato adecuado para presentación (charla o poster).\n",
    "\n",
    "5. Leer el archivo `colision.npy` y guardar los datos en formato texto con un encabezado adecuado. Usando el comando mágico `%timeit` o el módulo timeit, comparar el tiempo que tarda en leer los datos e imprimir el último valor utilizando el formato de texto y el formato original `npy`. Comparar el tamaño de los dos archivos."
   ]
  }
 ],
 "metadata": {
  "kernelspec": {
   "display_name": "Python 3",
   "language": "python",
   "name": "python3"
  },
  "language_info": {
   "codemirror_mode": {
    "name": "ipython",
    "version": 3
   },
   "file_extension": ".py",
   "mimetype": "text/x-python",
   "name": "python",
   "nbconvert_exporter": "python",
   "pygments_lexer": "ipython3",
   "version": "3.5.3"
  },
  "name": "10_ejercicios.ipynb"
 },
 "nbformat": 4,
 "nbformat_minor": 2
}
