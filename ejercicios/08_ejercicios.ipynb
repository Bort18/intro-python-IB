{
 "cells": [
  {
   "cell_type": "markdown",
   "metadata": {
    "ein.tags": "worksheet-0",
    "slideshow": {
     "slide_type": "-"
    }
   },
   "source": [
    "## Ejercicios 08\n",
    "\n",
    "1. Para la función definida a trozos:\n",
    "$$\n",
    "f(x) =\n",
    "\\begin{cases}\n",
    "  f_{1}(x) = x^{2}/8 & - \\pi < x \\le \\pi/2  \\\\\n",
    "  f_{2}(x) = -0.3 x  & \\pi/2 < x < \\pi \\\\\n",
    "  f_{3}(x) = -(x - 2 \\pi)^{2}/6 & \\pi \\le x \\le 5 \\pi/2 \\\\\n",
    "  f_{4}(x) = (x - 2 \\pi)/5 & 5 \\pi/2 < x \\le 3 \\pi\n",
    "  \\end{cases}\n",
    "$$\n",
    "realizar la siguiente figura de la manera más fiel posible.\n",
    "![](../figuras/ejercicio_08_1.png)\n",
    "**Pistas:** Buscar información sobre `plt.fill_between()` y sobre `plt.xticks` y `plt.yticks`. \n",
    "\n",
    "2. Rehacer la siguiente figura:\n",
    "![](../figuras/ejercicio_08_2.png)\n",
    "\n",
    "3. **PARA ENTREGAR:**Notando que la curva en color negro corresponde a la semisuma de las dos curvas en rojo, rehacer la siguiente figura:\n",
    "![](../figuras/ejercicio_08_3.png)"
   ]
  }
 ],
 "metadata": {
  "kernelspec": {
   "display_name": "Python 3",
   "name": "python3"
  },
  "name": "08_ejercicios.ipynb"
 },
 "nbformat": 4,
 "nbformat_minor": 0
}
