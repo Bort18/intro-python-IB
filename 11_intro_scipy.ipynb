{
 "cells": [
  {
   "cell_type": "markdown",
   "metadata": {
    "ein.tags": "worksheet-0",
    "slideshow": {
     "slide_type": "-"
    }
   },
   "source": [
    "# Introducción al paquete Scipy\n",
    "El paquete **Scipy** es una colección de algoritmos y funciones construida sobre **Numpy** para facilitar cálculos y actividades relacionadas con el trabajo técnico/científico. \n",
    "\n"
   ]
  },
  {
   "cell_type": "markdown",
   "metadata": {
    "ein.tags": "worksheet-0",
    "slideshow": {
     "slide_type": "-"
    }
   },
   "source": [
    "## Una mirada rápida a Scipy\n",
    "\n",
    "La ayuda de scipy contiene (con `help(scipy)` entre otras cosas)\n",
    "\n",
    "\n",
    "    Contents\n",
    "    --------\n",
    "    SciPy imports all the functions from the NumPy namespace, and in\n",
    "    addition provides:\n",
    "    \n",
    "    Subpackages\n",
    "    -----------\n",
    "    Using any of these subpackages requires an explicit import.  For example,\n",
    "    ``import scipy.cluster``.\n",
    "    \n",
    "    ::\n",
    "    \n",
    "     cluster                      --- Vector Quantization / Kmeans\n",
    "     fftpack                      --- Discrete Fourier Transform algorithms\n",
    "     integrate                    --- Integration routines\n",
    "     interpolate                  --- Interpolation Tools\n",
    "     io                           --- Data input and output\n",
    "     linalg                       --- Linear algebra routines\n",
    "     linalg.blas                  --- Wrappers to BLAS library\n",
    "     linalg.lapack                --- Wrappers to LAPACK library\n",
    "     misc                         --- Various utilities that don't have\n",
    "                                      another home.\n",
    "     ndimage                      --- n-dimensional image package\n",
    "     odr                          --- Orthogonal Distance Regression\n",
    "     optimize                     --- Optimization Tools\n",
    "     signal                       --- Signal Processing Tools\n",
    "     sparse                       --- Sparse Matrices\n",
    "     sparse.linalg                --- Sparse Linear Algebra\n",
    "     sparse.linalg.dsolve         --- Linear Solvers\n",
    "     sparse.linalg.dsolve.umfpack --- :Interface to the UMFPACK library:\n",
    "                                      Conjugate Gradient Method (LOBPCG)\n",
    "     sparse.linalg.eigen          --- Sparse Eigenvalue Solvers\n",
    "     sparse.linalg.eigen.lobpcg   --- Locally Optimal Block Preconditioned\n",
    "                                      Conjugate Gradient Method (LOBPCG)\n",
    "     spatial                      --- Spatial data structures and algorithms\n",
    "     special                      --- Special functions\n",
    "     stats                        --- Statistical Functions\n",
    "\n",
    "     "
   ]
  },
  {
   "cell_type": "markdown",
   "metadata": {
    "ein.tags": "worksheet-0",
    "slideshow": {
     "slide_type": "-"
    }
   },
   "source": [
    "Más información puede encontrarse en la [documentación oficial de Scipy](https://docs.scipy.org/doc/scipy/reference)"
   ]
  },
  {
   "cell_type": "code",
   "execution_count": 1,
   "metadata": {
    "autoscroll": false,
    "collapsed": false,
    "ein.tags": "worksheet-0",
    "slideshow": {
     "slide_type": "-"
    }
   },
   "outputs": [],
   "source": [
    "import numpy as np\n",
    "import matplotlib.pyplot as plt\n",
    "%matplotlib inline"
   ]
  },
  {
   "cell_type": "markdown",
   "metadata": {
    "ein.tags": "worksheet-0",
    "slideshow": {
     "slide_type": "-"
    }
   },
   "source": [
    "## Funciones especiales\n",
    "\n",
    "En el submódulo `scipy.special` están definidas un número de funciones especiales. Una lista general de las funciones definidas (De cada tipo hay varias funciones) es:\n",
    "\n",
    "-  Airy functions\n",
    "-  Elliptic Functions and Integrals\n",
    "-  Bessel Functions\n",
    "-  Struve Functions\n",
    "-  Raw Statistical Functions\n",
    "-  Information Theory Functions\n",
    "-  Gamma and Related Functions\n",
    "-  Error Function and Fresnel Integrals\n",
    "-  Legendre Functions\n",
    "-  Ellipsoidal Harmonics\n",
    "-  Orthogonal polynomials\n",
    "-  Hypergeometric Functions\n",
    "-  Parabolic Cylinder Functions\n",
    "-  Mathieu and Related Functions\n",
    "-  Spheroidal Wave Functions\n",
    "-  Kelvin Functions\n",
    "-  Combinatorics\n",
    "-  Other Special Functions\n",
    "-  Convenience Functions\n",
    "\n"
   ]
  },
  {
   "cell_type": "code",
   "execution_count": 2,
   "metadata": {
    "autoscroll": false,
    "collapsed": false,
    "ein.tags": "worksheet-0",
    "slideshow": {
     "slide_type": "-"
    }
   },
   "outputs": [],
   "source": [
    "from scipy import special"
   ]
  },
  {
   "cell_type": "markdown",
   "metadata": {
    "ein.tags": "worksheet-0",
    "slideshow": {
     "slide_type": "-"
    }
   },
   "source": [
    "### Funciones de Bessel\n",
    "Las funciones de Bessel son soluciones de la ecuación diferencial:\n",
    "\n",
    "$$ x^2 \\frac{d^2 y}{dx^2} + x \\frac{dy}{dx} + (x^2 - \\alpha^2)y = 0 . $$\n",
    "\n",
    "En realidad se trata de una familia de funciones que aparecen como soluciones de problemas de propagación de ondas en problemas con simetría cilíndrica. \n",
    "\n"
   ]
  },
  {
   "cell_type": "code",
   "execution_count": 3,
   "metadata": {
    "autoscroll": false,
    "collapsed": false,
    "ein.tags": "worksheet-0",
    "slideshow": {
     "slide_type": "-"
    }
   },
   "outputs": [
    {
     "data": {
      "text/plain": [
       "array([  7.58834243,  11.06470949,  14.37253667])"
      ]
     },
     "execution_count": 3,
     "metadata": {},
     "output_type": "execute_result"
    }
   ],
   "source": [
    "special.jn_zeros(4,3)"
   ]
  },
  {
   "cell_type": "code",
   "execution_count": 4,
   "metadata": {
    "autoscroll": false,
    "collapsed": false,
    "ein.tags": "worksheet-0",
    "slideshow": {
     "slide_type": "-"
    }
   },
   "outputs": [
    {
     "data": {
      "image/png": "[encoded data removed]",
      "text/plain": [
       "<matplotlib.figure.Figure at 0x7ff28e6d4080>"
      ]
     },
     "metadata": {},
     "output_type": "display_data"
    }
   ],
   "source": [
    "x = np.linspace(0, 16, 50)\n",
    "for n in range(0,8,2):\n",
    "  p= plt.plot(x, special.jn(n, x), label='$J_{}(x)$'.format(n))\n",
    "  z = special.jn_zeros(n, 6)\n",
    "  z = z[z < 15]\n",
    "  plt.plot(z, np.zeros(z.size), 'o', color= p[0].get_color())\n",
    "\n",
    "plt.legend(title='Funciones $J_n$ de Bessel', ncol=2);\n",
    "plt.grid(True)"
   ]
  },
  {
   "cell_type": "code",
   "execution_count": 5,
   "metadata": {
    "collapsed": false
   },
   "outputs": [
    {
     "data": {
      "text/plain": [
       "True"
      ]
     },
     "execution_count": 5,
     "metadata": {},
     "output_type": "execute_result"
    }
   ],
   "source": [
    "special.jn == special.jv"
   ]
  },
  {
   "cell_type": "markdown",
   "metadata": {
    "ein.tags": "worksheet-0",
    "slideshow": {
     "slide_type": "-"
    }
   },
   "source": [
    "Como vemos, hay funciones para calcular funciones de Bessel. Aquí mostramos los órdenes enteros pero también se pueden utilizar órdenes $\\nu$ reales. La lista de funciones de Bessel (puede obtenerse de la ayuda sobre `scipy.special`) es:\n",
    "\n",
    " - Bessel Functions\n",
    " - Zeros of Bessel Functions\n",
    " - Faster versions of common Bessel Functions\n",
    " - Integrals of Bessel Functions\n",
    " - Derivatives of Bessel Functions\n",
    " - Spherical Bessel Functions\n",
    " - Riccati-Bessel Functions\n",
    "\n"
   ]
  },
  {
   "cell_type": "code",
   "execution_count": 6,
   "metadata": {
    "autoscroll": false,
    "collapsed": false,
    "ein.tags": "worksheet-0",
    "slideshow": {
     "slide_type": "-"
    }
   },
   "outputs": [
    {
     "data": {
      "image/png": "[encoded data removed]",
      "text/plain": [
       "<matplotlib.figure.Figure at 0x7ff28e142ba8>"
      ]
     },
     "metadata": {},
     "output_type": "display_data"
    }
   ],
   "source": [
    "x = np.linspace(0, 16, 50)\n",
    "for n in range(0,7,2):\n",
    "  p= plt.plot(x, special.spherical_jn(n, x), label='$j_{}(x)$'.format(n))\n",
    "plt.legend(title='Funciones esféricas de Bessel $j_n$', ncol=2);\n",
    "plt.grid(True)"
   ]
  },
  {
   "cell_type": "markdown",
   "metadata": {
    "ein.tags": "worksheet-0",
    "slideshow": {
     "slide_type": "-"
    }
   },
   "source": [
    "### Función Error\n",
    "\n",
    "La función error es el resultado de integrar una función Gaussiana\n",
    "\n",
    "$$ \\operatorname{erf}z=\\frac{2}{\\sqrt{\\pi}}\\int_{0}^{z}e^{-t^{2}}\\mathrm{d}t, $$\n",
    "\n",
    "mientras que las integrales seno y coseno de Fresnel están definidas por:\n",
    "\\begin{align*}\n",
    "\\operatorname{ssa}= \\int_{0}^{z} \\sin(\\pi/2  t^2) \\mathrm{d} t \\\\\n",
    "\\operatorname{csa}= \\int_{0}^{z} \\cos(\\pi/2  t^2) \\mathrm{d} t \n",
    "\\end{align*}"
   ]
  },
  {
   "cell_type": "code",
   "execution_count": 7,
   "metadata": {
    "autoscroll": false,
    "collapsed": false,
    "ein.tags": "worksheet-0",
    "slideshow": {
     "slide_type": "-"
    }
   },
   "outputs": [
    {
     "data": {
      "image/png": "[encoded data removed]",
      "text/plain": [
       "<matplotlib.figure.Figure at 0x7ff28e1d0908>"
      ]
     },
     "metadata": {},
     "output_type": "display_data"
    }
   ],
   "source": [
    "x = np.linspace(-3, 3,100)\n",
    "with plt.style.context('presentation'):\n",
    "  f = special.fresnel(x)\n",
    "  plt.plot(x, special.erf(x),'-', label=r'$\\mathrm{erf}(x)$')\n",
    "  plt.plot(x, f[0],'-', label=r'$\\mathrm{ssa}(x)$')\n",
    "  plt.plot(x, f[1],'-', label=r'$\\mathrm{csa}(x)$')\n",
    "  plt.xlabel('$x$')\n",
    "  plt.ylabel('$f(x)$')\n",
    "  plt.legend(loc='best')\n",
    "  plt.grid(True)"
   ]
  },
  {
   "cell_type": "markdown",
   "metadata": {
    "ein.tags": "worksheet-0",
    "slideshow": {
     "slide_type": "-"
    }
   },
   "source": [
    "### Evaluación de polinomios ortogonales\n",
    "\n",
    "`Scipy.special` tiene funciones para evaluar eficientemente polinomios ortogonales\n",
    "\n",
    "Por ejemplo si queremos, evaluar los polinomios de Legendre, Laguerre y Chebyshev\n"
   ]
  },
  {
   "cell_type": "code",
   "execution_count": 8,
   "metadata": {
    "autoscroll": false,
    "collapsed": false,
    "ein.tags": "worksheet-0",
    "slideshow": {
     "slide_type": "-"
    }
   },
   "outputs": [
    {
     "data": {
      "image/png": "[encoded data removed]",
      "text/plain": [
       "<matplotlib.figure.Figure at 0x7ff28e025b38>"
      ]
     },
     "metadata": {},
     "output_type": "display_data"
    }
   ],
   "source": [
    "x = np.linspace(-1, 1,100)\n",
    "with plt.style.context('presentation'):\n",
    "  for n in range(2,6):\n",
    "    plt.plot(x, special.eval_legendre(n, x),'-', label=r'$n={}$'.format(n))\n",
    "  plt.xlabel('$x$')\n",
    "  plt.ylabel('$f(x)$')\n",
    "  plt.legend(loc='best', ncol=2)\n",
    "  plt.ylim((-1.1,1.4))\n",
    "  plt.grid(True)"
   ]
  },
  {
   "cell_type": "code",
   "execution_count": 9,
   "metadata": {
    "autoscroll": false,
    "collapsed": false,
    "ein.tags": "worksheet-0",
    "slideshow": {
     "slide_type": "-"
    }
   },
   "outputs": [
    {
     "data": {
      "image/png": "[encoded data removed]",
      "text/plain": [
       "<matplotlib.figure.Figure at 0x7ff28df6dfd0>"
      ]
     },
     "metadata": {},
     "output_type": "display_data"
    }
   ],
   "source": [
    "x = np.linspace(-1, 1,100)\n",
    "with plt.style.context('presentation'):\n",
    "  for n in range(2,6):\n",
    "    plt.plot(x, special.eval_laguerre(n, x),'-', label=r'$n={}$'.format(n))\n",
    "  plt.xlabel('$x$')\n",
    "  plt.ylabel('$f(x)$')\n",
    "  plt.legend(loc='best', ncol=2)\n",
    "  plt.grid(True)"
   ]
  },
  {
   "cell_type": "code",
   "execution_count": 10,
   "metadata": {
    "autoscroll": false,
    "collapsed": false,
    "ein.tags": "worksheet-0",
    "slideshow": {
     "slide_type": "-"
    }
   },
   "outputs": [
    {
     "data": {
      "image/png": "[encoded data removed]",
      "text/plain": [
       "<matplotlib.figure.Figure at 0x7ff28e0d9f60>"
      ]
     },
     "metadata": {},
     "output_type": "display_data"
    }
   ],
   "source": [
    "x = np.linspace(-1, 1,100)\n",
    "with plt.style.context('presentation'):\n",
    "  for n in range(2,6):\n",
    "    plt.plot(x, special.eval_chebyt(n, x),'-', label=r'$n={}$'.format(n))\n",
    "  plt.xlabel('$x$')\n",
    "  plt.ylabel('$f(x)$')\n",
    "  plt.legend(loc='best', ncol=2)\n",
    "  plt.ylim((-1.1,2))\n",
    "  plt.grid(True)"
   ]
  },
  {
   "cell_type": "markdown",
   "metadata": {
    "ein.tags": "worksheet-0",
    "slideshow": {
     "slide_type": "-"
    }
   },
   "source": [
    "### Factorial, permutaciones y combinaciones\n",
    "\n",
    "Hay funciones para calcular varias funciones relacionadas con combinatoria\n",
    "\n",
    "La función `comb()` da el número de maneras de elegir `k` de un total de `N` elementos. Sin repeticiones está dada por:\n",
    "$$ \\frac{N!}{k! (N-k)!}$$\n",
    "mientras que si cada elemento puede repetirse, la fórmula es:\n",
    "$$ \\frac{(N+k-1)!}{k! (N-1)!}$$\n"
   ]
  },
  {
   "cell_type": "code",
   "execution_count": 11,
   "metadata": {
    "autoscroll": false,
    "collapsed": false,
    "ein.tags": "worksheet-0",
    "slideshow": {
     "slide_type": "-"
    }
   },
   "outputs": [],
   "source": [
    "N = 10\n",
    "k =np.arange(2,4)"
   ]
  },
  {
   "cell_type": "code",
   "execution_count": 12,
   "metadata": {
    "autoscroll": false,
    "collapsed": false,
    "ein.tags": "worksheet-0",
    "slideshow": {
     "slide_type": "-"
    }
   },
   "outputs": [
    {
     "data": {
      "text/plain": [
       "array([  45.,  120.])"
      ]
     },
     "execution_count": 12,
     "metadata": {},
     "output_type": "execute_result"
    }
   ],
   "source": [
    "special.comb(N, k)"
   ]
  },
  {
   "cell_type": "code",
   "execution_count": 13,
   "metadata": {
    "autoscroll": false,
    "collapsed": false,
    "ein.tags": "worksheet-0",
    "slideshow": {
     "slide_type": "-"
    }
   },
   "outputs": [
    {
     "data": {
      "text/plain": [
       "120"
      ]
     },
     "execution_count": 13,
     "metadata": {},
     "output_type": "execute_result"
    }
   ],
   "source": [
    "special.comb(N,3,exact=True)"
   ]
  },
  {
   "cell_type": "code",
   "execution_count": 14,
   "metadata": {
    "autoscroll": false,
    "collapsed": false,
    "ein.tags": "worksheet-0",
    "slideshow": {
     "slide_type": "-"
    }
   },
   "outputs": [
    {
     "data": {
      "text/plain": [
       "array([  55.,  220.])"
      ]
     },
     "execution_count": 14,
     "metadata": {},
     "output_type": "execute_result"
    }
   ],
   "source": [
    "special.comb(N,k, repetition=True)"
   ]
  },
  {
   "cell_type": "markdown",
   "metadata": {
    "ein.tags": "worksheet-0",
    "slideshow": {
     "slide_type": "-"
    }
   },
   "source": [
    "El número de permutaciones se obtiene con la función `perm()`, y está dado por:\n",
    "$$ \\frac{N!}{(N-k)!}$$"
   ]
  },
  {
   "cell_type": "code",
   "execution_count": 15,
   "metadata": {
    "autoscroll": false,
    "collapsed": false,
    "ein.tags": "worksheet-0",
    "slideshow": {
     "slide_type": "-"
    }
   },
   "outputs": [
    {
     "data": {
      "text/plain": [
       "array([  90.,  720.])"
      ]
     },
     "execution_count": 15,
     "metadata": {},
     "output_type": "execute_result"
    }
   ],
   "source": [
    "special.perm(N,k)"
   ]
  },
  {
   "cell_type": "markdown",
   "metadata": {
    "ein.tags": "worksheet-0",
    "slideshow": {
     "slide_type": "-"
    }
   },
   "source": [
    "que corresponde a:\n",
    "$$ \\frac{10!}{(10-3)!} = 10 \\cdot 9 \\cdot 8 $$\n",
    "\n",
    "\n",
    "Los números factorial (N!) y doble factorial (N!!) son:\n"
   ]
  },
  {
   "cell_type": "code",
   "execution_count": 16,
   "metadata": {
    "autoscroll": false,
    "collapsed": false,
    "ein.tags": "worksheet-0",
    "slideshow": {
     "slide_type": "-"
    }
   },
   "outputs": [
    {
     "name": "stdout",
     "output_type": "stream",
     "text": [
      "[3 6 8]! = [  6.00000000e+00   7.20000000e+02   4.03200000e+04]\n",
      "[3 6 8]!! = [   3.   48.  384.]\n"
     ]
    }
   ],
   "source": [
    "N= np.array([3,6,8])\n",
    "print(\"{}! = {}\".format(N, special.factorial(N)))\n",
    "print(\"{}!! = {}\".format(N, special.factorial2(N)))"
   ]
  },
  {
   "cell_type": "markdown",
   "metadata": {
    "ein.tags": "worksheet-0",
    "slideshow": {
     "slide_type": "-"
    }
   },
   "source": [
    "## Integración numérica"
   ]
  },
  {
   "cell_type": "markdown",
   "metadata": {
    "ein.tags": "worksheet-0",
    "slideshow": {
     "slide_type": "-"
    }
   },
   "source": [
    "Scipy tiene rutinas para integrar numéricamente funciones o tablas de datos. Por ejemplo para integrar funciones en la forma:\n",
    "$$I= \\int_{a}^{b} f(x)\\, dx $$\n",
    "la función más utilizada es `quad`, que llama a distintas rutinas del paquete **QUADPACK** dependiendo de los argumentos que toma. Entre los aspectos más notables está la posibilidad de elegir una función de peso entre un conjunto definido de funciones, y la posibilidad de elegir un dominio de integración finito o infinito."
   ]
  },
  {
   "cell_type": "code",
   "execution_count": 17,
   "metadata": {
    "autoscroll": false,
    "collapsed": false,
    "ein.tags": "worksheet-0",
    "slideshow": {
     "slide_type": "-"
    }
   },
   "outputs": [],
   "source": [
    "from scipy import integrate"
   ]
  },
  {
   "cell_type": "code",
   "execution_count": 18,
   "metadata": {
    "autoscroll": false,
    "collapsed": false,
    "ein.tags": "worksheet-0",
    "slideshow": {
     "slide_type": "-"
    }
   },
   "outputs": [],
   "source": [
    "x = np.linspace(0., 10, 100)"
   ]
  },
  {
   "cell_type": "code",
   "execution_count": 19,
   "metadata": {
    "autoscroll": false,
    "collapsed": false,
    "ein.tags": "worksheet-0",
    "slideshow": {
     "slide_type": "-"
    }
   },
   "outputs": [],
   "source": [
    "def f1(x):\n",
    "  return np.sin(1+x)*np.exp(-np.square(x)/10)"
   ]
  },
  {
   "cell_type": "code",
   "execution_count": 20,
   "metadata": {
    "autoscroll": false,
    "collapsed": false,
    "ein.tags": "worksheet-0",
    "slideshow": {
     "slide_type": "-"
    }
   },
   "outputs": [
    {
     "data": {
      "text/plain": [
       "[<matplotlib.lines.Line2D at 0x7ff28df5ca20>]"
      ]
     },
     "execution_count": 20,
     "metadata": {},
     "output_type": "execute_result"
    },
    {
     "data": {
      "image/png": "[encoded data removed]",
      "text/plain": [
       "<matplotlib.figure.Figure at 0x7ff28dfb4390>"
      ]
     },
     "metadata": {},
     "output_type": "display_data"
    }
   ],
   "source": [
    "plt.plot(x,f1(x))"
   ]
  },
  {
   "cell_type": "code",
   "execution_count": 21,
   "metadata": {
    "autoscroll": false,
    "collapsed": false,
    "ein.tags": "worksheet-0",
    "slideshow": {
     "slide_type": "-"
    }
   },
   "outputs": [
    {
     "data": {
      "text/plain": [
       "(0.9251987327219345, 1.0271769354219079e-14)"
      ]
     },
     "execution_count": 21,
     "metadata": {},
     "output_type": "execute_result"
    }
   ],
   "source": [
    "integrate.quad(f1,0,1)"
   ]
  },
  {
   "cell_type": "code",
   "execution_count": 22,
   "metadata": {
    "autoscroll": false,
    "collapsed": false,
    "ein.tags": "worksheet-0",
    "slideshow": {
     "slide_type": "-"
    }
   },
   "outputs": [
    {
     "data": {
      "text/plain": [
       "[((0, 1), 0.9251987327219345),\n",
       " ((0, 2), 1.3968003526772008),\n",
       " ((0, 3), 1.2366051654989254),\n",
       " ((0, 4), 0.9615948227623313)]"
      ]
     },
     "execution_count": 22,
     "metadata": {},
     "output_type": "execute_result"
    }
   ],
   "source": [
    "[((0, xmax), integrate.quad(f1,0,xmax)[0]) for xmax in np.arange(1,5)]"
   ]
  },
  {
   "cell_type": "markdown",
   "metadata": {
    "ein.tags": "worksheet-0",
    "slideshow": {
     "slide_type": "-"
    }
   },
   "source": [
    "Como vemos la rutina devuelve dos valores. El primero es la estimación del valor de la integral y el segundo una estimación del **error absoluto** . Además, la función acepta límites de integración infinitos ($\\pm \\infty$, definidos en **Numpy**)"
   ]
  },
  {
   "cell_type": "code",
   "execution_count": 23,
   "metadata": {
    "autoscroll": false,
    "collapsed": false,
    "ein.tags": "worksheet-0",
    "slideshow": {
     "slide_type": "-"
    }
   },
   "outputs": [
    {
     "data": {
      "text/plain": [
       "(0.3871487639489564, 6.850562112670641e-09)"
      ]
     },
     "execution_count": 23,
     "metadata": {},
     "output_type": "execute_result"
    }
   ],
   "source": [
    "integrate.quad(f1,-np.inf,np.inf)"
   ]
  },
  {
   "cell_type": "code",
   "execution_count": 24,
   "metadata": {
    "autoscroll": false,
    "collapsed": false,
    "ein.tags": "worksheet-0",
    "slideshow": {
     "slide_type": "-"
    }
   },
   "outputs": [
    {
     "data": {
      "text/plain": [
       "(0.9999999999999999, 1.1102230246251564e-14)"
      ]
     },
     "execution_count": 24,
     "metadata": {},
     "output_type": "execute_result"
    }
   ],
   "source": [
    "integrate.quad(np.sin,0,np.pi/2)"
   ]
  },
  {
   "cell_type": "code",
   "execution_count": 25,
   "metadata": {
    "autoscroll": false,
    "collapsed": false,
    "ein.tags": "worksheet-0",
    "slideshow": {
     "slide_type": "-"
    }
   },
   "outputs": [
    {
     "data": {
      "text/plain": [
       "(-0.6321205588285578, 7.017947987503856e-15)"
      ]
     },
     "execution_count": 25,
     "metadata": {},
     "output_type": "execute_result"
    }
   ],
   "source": [
    "integrate.quad(np.exp,0,-1)"
   ]
  },
  {
   "cell_type": "markdown",
   "metadata": {
    "ein.tags": "worksheet-0",
    "slideshow": {
     "slide_type": "-"
    }
   },
   "source": [
    "Podemos usar \"toda\" la potencia de Scipy para integrar alguna función especial. Como \"jn\" depende de dos variables, tenemos que crear una función intermedia que dependa sólo de la variable de integración"
   ]
  },
  {
   "cell_type": "code",
   "execution_count": 26,
   "metadata": {
    "autoscroll": false,
    "collapsed": false,
    "ein.tags": "worksheet-0",
    "slideshow": {
     "slide_type": "-"
    }
   },
   "outputs": [
    {
     "data": {
      "text/plain": [
       "(1.0670113039567362, 7.434789460651883e-14)"
      ]
     },
     "execution_count": 26,
     "metadata": {},
     "output_type": "execute_result"
    }
   ],
   "source": [
    "integrate.quad(lambda x: special.jn(0,x), 0 , 10)"
   ]
  },
  {
   "cell_type": "markdown",
   "metadata": {
    "ein.tags": "worksheet-0",
    "slideshow": {
     "slide_type": "-"
    }
   },
   "source": [
    "En realidad, la función `quad` permite el uso de argumentos que se le pasan a la función a integrar. La forma de llamar al integrador será en general:\n",
    "\n",
    "```python\n",
    "  quad(func, a, b, args=(), full_output=0, epsabs=1.49e-08, epsrel=1.49e-08,\n",
    "      limit=50, points=None, weight=None, wvar=None, wopts=None, maxp1=50,\n",
    "      limlst=50)\n",
    "  ```\n",
    "\n",
    "El argumento `args` debe ser una tupla, de los argumentos extra que acepta la función a integrar, la función debe llamarse en la forma `func(x, *args)`. Veamos un ejemplo:"
   ]
  },
  {
   "cell_type": "code",
   "execution_count": 27,
   "metadata": {
    "autoscroll": false,
    "collapsed": false,
    "ein.tags": "worksheet-0",
    "slideshow": {
     "slide_type": "-"
    }
   },
   "outputs": [],
   "source": [
    "def bessel_n(x, n):\n",
    "  return special.jn(n,x)"
   ]
  },
  {
   "cell_type": "code",
   "execution_count": 28,
   "metadata": {
    "autoscroll": false,
    "collapsed": false,
    "ein.tags": "worksheet-0",
    "slideshow": {
     "slide_type": "-"
    }
   },
   "outputs": [
    {
     "data": {
      "text/plain": [
       "(1.0670113039567362, 7.434789460651883e-14)"
      ]
     },
     "execution_count": 28,
     "metadata": {},
     "output_type": "execute_result"
    }
   ],
   "source": [
    "integrate.quad(bessel_n, 0, 10, args=(0,))"
   ]
  },
  {
   "cell_type": "code",
   "execution_count": 29,
   "metadata": {
    "autoscroll": false,
    "collapsed": false,
    "ein.tags": "worksheet-0",
    "slideshow": {
     "slide_type": "-"
    }
   },
   "outputs": [
    {
     "name": "stdout",
     "output_type": "stream",
     "text": [
      "n    \\int_0^10  J_n(x) dx\n",
      "0 :  1.0670113039567362\n",
      "1 :  1.2459357644513482\n",
      "2 :  0.9800658116190144\n",
      "3 :  0.7366751370811073\n",
      "4 :  0.8633070530086401\n",
      "5 :  1.1758805092851239\n"
     ]
    }
   ],
   "source": [
    "print('n    \\int_0^10  J_n(x) dx')\n",
    "for n in range(6):\n",
    "  print(n,': ', integrate.quad(bessel_n, 0, 10, args=(n,))[0])"
   ]
  },
  {
   "cell_type": "markdown",
   "metadata": {
    "ein.tags": "worksheet-0",
    "slideshow": {
     "slide_type": "-"
    }
   },
   "source": [
    "## Álgebra lineal"
   ]
  },
  {
   "cell_type": "markdown",
   "metadata": {
    "ein.tags": "worksheet-0",
    "slideshow": {
     "slide_type": "-"
    }
   },
   "source": [
    "El módulo de álgebra lineal se solapa un poco con las funciones de **Numpy**. Ambos usan finalmente una implementación de bibliotecas conocidas (LAPACK, BLAS). La diferencia es que **Scipy** asegura que utiliza las optimizaciones de la librería ATLAS y presenta algunos métodos y algoritmos que no están presentes en **Numpy**. \n",
    "\n",
    "Esto nos permite hacer rotaciones ...\n",
    "\n",
    "![](https://imgs.xkcd.com/comics/matrix_transform.png)"
   ]
  },
  {
   "cell_type": "code",
   "execution_count": 30,
   "metadata": {
    "autoscroll": false,
    "collapsed": false,
    "ein.tags": "worksheet-0",
    "slideshow": {
     "slide_type": "-"
    }
   },
   "outputs": [],
   "source": [
    "from scipy import linalg"
   ]
  },
  {
   "cell_type": "markdown",
   "metadata": {
    "ein.tags": "worksheet-0",
    "slideshow": {
     "slide_type": "-"
    }
   },
   "source": [
    "Este módulo tiene funciones para calcular determinantes"
   ]
  },
  {
   "cell_type": "code",
   "execution_count": 31,
   "metadata": {
    "autoscroll": false,
    "collapsed": false,
    "ein.tags": "worksheet-0",
    "slideshow": {
     "slide_type": "-"
    }
   },
   "outputs": [
    {
     "data": {
      "text/plain": [
       "-2.0"
      ]
     },
     "execution_count": 31,
     "metadata": {},
     "output_type": "execute_result"
    }
   ],
   "source": [
    "arr = np.array([[1, 2],[3, 4]])\n",
    "linalg.det(arr)"
   ]
  },
  {
   "cell_type": "code",
   "execution_count": 32,
   "metadata": {
    "autoscroll": false,
    "collapsed": false,
    "ein.tags": "worksheet-0",
    "slideshow": {
     "slide_type": "-"
    }
   },
   "outputs": [
    {
     "data": {
      "text/plain": [
       "0.0"
      ]
     },
     "execution_count": 32,
     "metadata": {},
     "output_type": "execute_result"
    }
   ],
   "source": [
    "arr = np.array([[3, 2,1],[6, 4,1],[12, 8, 13.3]])\n",
    "linalg.det(arr)"
   ]
  },
  {
   "cell_type": "code",
   "execution_count": 33,
   "metadata": {
    "autoscroll": false,
    "collapsed": false,
    "ein.tags": "worksheet-0",
    "slideshow": {
     "slide_type": "-"
    }
   },
   "outputs": [
    {
     "data": {
      "text/plain": [
       "-4.0"
      ]
     },
     "execution_count": 33,
     "metadata": {},
     "output_type": "execute_result"
    }
   ],
   "source": [
    "A = np.array([[1, -2,-3],[1, -1,-1],[-1, 3, 1]])\n",
    "linalg.det(A)"
   ]
  },
  {
   "cell_type": "code",
   "execution_count": 34,
   "metadata": {
    "autoscroll": false,
    "collapsed": false,
    "ein.tags": "worksheet-0",
    "slideshow": {
     "slide_type": "-"
    }
   },
   "outputs": [
    {
     "data": {
      "text/plain": [
       "array([[ 1,  1, -1],\n",
       "       [-2, -1,  3],\n",
       "       [-3, -1,  1]])"
      ]
     },
     "execution_count": 34,
     "metadata": {},
     "output_type": "execute_result"
    }
   ],
   "source": [
    "A.T                             # Transpuesta"
   ]
  },
  {
   "cell_type": "code",
   "execution_count": 35,
   "metadata": {
    "autoscroll": false,
    "collapsed": false,
    "ein.tags": "worksheet-0",
    "slideshow": {
     "slide_type": "-"
    }
   },
   "outputs": [
    {
     "data": {
      "text/plain": [
       "3.7416573867739413"
      ]
     },
     "execution_count": 35,
     "metadata": {},
     "output_type": "execute_result"
    }
   ],
   "source": [
    "v = np.array([2,1,3])\n",
    "linalg.norm(v)                  # Norma"
   ]
  },
  {
   "cell_type": "markdown",
   "metadata": {
    "ein.tags": "worksheet-0",
    "slideshow": {
     "slide_type": "-"
    }
   },
   "source": [
    "### Productos y normas\n",
    "\n",
    "#### Norma de un vector\n",
    "\n",
    "La norma está dada por\n",
    "$$||v|| = \\sqrt{v_1^2+...+v_n^2}$$ "
   ]
  },
  {
   "cell_type": "code",
   "execution_count": 36,
   "metadata": {
    "autoscroll": false,
    "collapsed": false,
    "ein.tags": "worksheet-0",
    "slideshow": {
     "slide_type": "-"
    }
   },
   "outputs": [
    {
     "data": {
      "text/plain": [
       "True"
      ]
     },
     "execution_count": 36,
     "metadata": {},
     "output_type": "execute_result"
    }
   ],
   "source": [
    "linalg.norm(v) == np.sqrt(np.sum(np.square(v)))"
   ]
  },
  {
   "cell_type": "markdown",
   "metadata": {
    "ein.tags": "worksheet-0",
    "slideshow": {
     "slide_type": "-"
    }
   },
   "source": [
    "#### Producto interno\n",
    "\n",
    "El producto entre una matriz y un vector está definido en **Numpy** mediante la función `dot()`"
   ]
  },
  {
   "cell_type": "code",
   "execution_count": 37,
   "metadata": {
    "autoscroll": false,
    "collapsed": false,
    "ein.tags": "worksheet-0",
    "slideshow": {
     "slide_type": "-"
    }
   },
   "outputs": [
    {
     "data": {
      "text/plain": [
       "array([-9, -2,  4])"
      ]
     },
     "execution_count": 37,
     "metadata": {},
     "output_type": "execute_result"
    }
   ],
   "source": [
    "w = np.dot(A, v)                # Multiplicación de matrices\n",
    "w"
   ]
  },
  {
   "cell_type": "markdown",
   "metadata": {
    "ein.tags": "worksheet-0",
    "slideshow": {
     "slide_type": "-"
    }
   },
   "source": [
    "El producto interno entre vectores se calcula de la misma manera\n",
    "$$ \\langle v, w \\rangle$$"
   ]
  },
  {
   "cell_type": "code",
   "execution_count": 38,
   "metadata": {
    "autoscroll": false,
    "collapsed": false,
    "ein.tags": "worksheet-0",
    "slideshow": {
     "slide_type": "-"
    }
   },
   "outputs": [
    {
     "data": {
      "text/plain": [
       "-8"
      ]
     },
     "execution_count": 38,
     "metadata": {},
     "output_type": "execute_result"
    }
   ],
   "source": [
    "np.dot(v,w)"
   ]
  },
  {
   "cell_type": "markdown",
   "metadata": {
    "ein.tags": "worksheet-0",
    "slideshow": {
     "slide_type": "-"
    }
   },
   "source": [
    "y está relacionado con la norma\n",
    "$$||v|| = \\sqrt{ \\langle v, v \\rangle}$$"
   ]
  },
  {
   "cell_type": "code",
   "execution_count": 39,
   "metadata": {
    "autoscroll": false,
    "collapsed": false,
    "ein.tags": "worksheet-0",
    "slideshow": {
     "slide_type": "-"
    }
   },
   "outputs": [
    {
     "data": {
      "text/plain": [
       "True"
      ]
     },
     "execution_count": 39,
     "metadata": {},
     "output_type": "execute_result"
    }
   ],
   "source": [
    "linalg.norm(v) == np.sqrt(np.dot(v,v))"
   ]
  },
  {
   "cell_type": "code",
   "execution_count": 40,
   "metadata": {
    "collapsed": false
   },
   "outputs": [
    {
     "data": {
      "text/plain": [
       "array([ 0,  4, -4])"
      ]
     },
     "execution_count": 40,
     "metadata": {},
     "output_type": "execute_result"
    }
   ],
   "source": [
    "np.dot(v,A)"
   ]
  },
  {
   "cell_type": "code",
   "execution_count": 41,
   "metadata": {
    "collapsed": false
   },
   "outputs": [
    {
     "data": {
      "text/plain": [
       "(3,)"
      ]
     },
     "execution_count": 41,
     "metadata": {},
     "output_type": "execute_result"
    }
   ],
   "source": [
    "v.shape"
   ]
  },
  {
   "cell_type": "code",
   "execution_count": 42,
   "metadata": {
    "collapsed": true
   },
   "outputs": [],
   "source": [
    "v2 = np.reshape(v, (3,1))"
   ]
  },
  {
   "cell_type": "code",
   "execution_count": 43,
   "metadata": {
    "collapsed": false
   },
   "outputs": [
    {
     "data": {
      "text/plain": [
       "(3, 1)"
      ]
     },
     "execution_count": 43,
     "metadata": {},
     "output_type": "execute_result"
    }
   ],
   "source": [
    "v2.shape"
   ]
  },
  {
   "cell_type": "code",
   "execution_count": 44,
   "metadata": {
    "collapsed": false
   },
   "outputs": [
    {
     "data": {
      "text/plain": [
       "array([[-9],\n",
       "       [-2],\n",
       "       [ 4]])"
      ]
     },
     "execution_count": 44,
     "metadata": {},
     "output_type": "execute_result"
    }
   ],
   "source": [
    "np.dot(A, v2)"
   ]
  },
  {
   "cell_type": "code",
   "execution_count": 45,
   "metadata": {
    "collapsed": false
   },
   "outputs": [],
   "source": [
    "v3=np.dot(v2.T, A)"
   ]
  },
  {
   "cell_type": "code",
   "execution_count": 46,
   "metadata": {
    "collapsed": false
   },
   "outputs": [
    {
     "data": {
      "text/plain": [
       "(1, 3)"
      ]
     },
     "execution_count": 46,
     "metadata": {},
     "output_type": "execute_result"
    }
   ],
   "source": [
    "v3.shape"
   ]
  },
  {
   "cell_type": "markdown",
   "metadata": {
    "ein.tags": "worksheet-0",
    "slideshow": {
     "slide_type": "-"
    }
   },
   "source": [
    "Notemos que el producto interno se puede pensar como un producto de matrices. En este caso, el producto de una matriz de 3x1, por otra de 1x3:\n",
    "\n",
    "$$ v^{t} \\, w = \\begin{pmatrix} -9&-2&4 \\end{pmatrix} \\begin{pmatrix} 2\\\\1\\\\3 \\end{pmatrix} $$\n",
    "\n",
    "donde estamos pensando al vector como columna.\n",
    "\n",
    "#### Producto exterior\n",
    "\n",
    "El producto exterior puede ponerse en términos de multiplicación de matrices como\n",
    "$$v\\otimes w = vw^{t} = \\begin{pmatrix} -9\\\\-2\\\\4 \\end{pmatrix} \\begin{pmatrix} 2&1&3 \\end{pmatrix}$$"
   ]
  },
  {
   "cell_type": "code",
   "execution_count": 47,
   "metadata": {
    "autoscroll": false,
    "collapsed": false,
    "ein.tags": "worksheet-0",
    "slideshow": {
     "slide_type": "-"
    }
   },
   "outputs": [
    {
     "name": "stdout",
     "output_type": "stream",
     "text": [
      "[[-18  -4   8]\n",
      " [ -9  -2   4]\n",
      " [-27  -6  12]]\n"
     ]
    }
   ],
   "source": [
    "oprod = np.outer(v,w)\n",
    "print(oprod)"
   ]
  },
  {
   "cell_type": "markdown",
   "metadata": {
    "ein.tags": "worksheet-0",
    "slideshow": {
     "slide_type": "-"
    }
   },
   "source": [
    "### Determinantes, inversas\n",
    "\n",
    "El modulo `scipy.linalg` permite obtener determinantes e inversas de matrices. Veamos su uso\n",
    "\n",
    "####  Aplicación: Sistema de ecuaciones lineales\n",
    "\n",
    "Dado un problema de ecuaciones lineales:\n",
    "$$\n",
    "\\left\\{\n",
    "\\begin{array}{rl}\n",
    "a_{11} x_1 + a_{12} x_2 + a_{13} x_3 &= b_1 \\\\\n",
    "a_{21} x_1 + a_{22} x_2 + a_{23} x_3 &= b_2 \\\\\n",
    "a_{31} x_1 + a_{32} x_2 + a_{33} x_3 &= b_3\n",
    "\\end{array}\n",
    "\\right.\n",
    "$$\n",
    "Esta ecuación se puede escribir en forma matricial como\n",
    "$$ \\begin{pmatrix}a_{11}&a_{12} & a_{13}\\\\a_{21}&a_{22}&a_{23}\\\\a_{31}&a_{32}&a_{33}\\end{pmatrix}\n",
    "\\begin{pmatrix}x_1\\\\x_2\\\\x_3\\end{pmatrix} = \\begin{pmatrix}b_1\\\\b_2\\\\b_3\\end{pmatrix}\n",
    "$$\n",
    "\n",
    "Veamos un ejemplo concreto. Supongamos que tenemos el siguiente sistema\n",
    "$$\n",
    "\\left\\{\n",
    "\\begin{array}{rl}\n",
    " x_1 + 2 x_2 + 3 x_3 &= 1 \\\\\n",
    "2 x_1 +  x_2 + 3 x_3 &= 2 \\\\\n",
    "4 x_1 +  x_2 - x_3 &= 1\n",
    "\\end{array}\n",
    "\\right.\n",
    "$$\n",
    "por lo que, en forma matricial será:\n",
    "$$ A = \\begin{pmatrix} 1 &2 &3 \\\\ 2& 1& 3 \\\\ 4& 1& -1 \\end{pmatrix} $$\n",
    "y \n",
    "$$ b =  \\begin{pmatrix} 1 \\\\ 2 \\\\ 3 \\end{pmatrix} $$"
   ]
  },
  {
   "cell_type": "code",
   "execution_count": 48,
   "metadata": {
    "autoscroll": false,
    "collapsed": false,
    "ein.tags": "worksheet-0",
    "slideshow": {
     "slide_type": "-"
    }
   },
   "outputs": [
    {
     "name": "stdout",
     "output_type": "stream",
     "text": [
      "A= [[ 1  2  3]\n",
      " [ 2  1  3]\n",
      " [ 4  1 -1]] \n",
      "\n",
      "b= [[1]\n",
      " [2]\n",
      " [3]] \n",
      "\n"
     ]
    }
   ],
   "source": [
    "A = np.array([[1,2,3],[2,1,3],[4,1,-1]])\n",
    "b = np.array([[1,2,3]]).T\n",
    "print('A=', A,\"\\n\")\n",
    "print('b=', b,\"\\n\")"
   ]
  },
  {
   "cell_type": "code",
   "execution_count": 49,
   "metadata": {
    "autoscroll": false,
    "collapsed": false,
    "ein.tags": "worksheet-0",
    "slideshow": {
     "slide_type": "-"
    }
   },
   "outputs": [
    {
     "name": "stdout",
     "output_type": "stream",
     "text": [
      "Resultado:\n",
      " [[ 0.83333333]\n",
      " [-0.16666667]\n",
      " [ 0.16666667]]\n"
     ]
    }
   ],
   "source": [
    "x = np.dot(linalg.inv(A), b)\n",
    "print('Resultado:\\n', x)"
   ]
  },
  {
   "cell_type": "markdown",
   "metadata": {
    "ein.tags": "worksheet-0",
    "slideshow": {
     "slide_type": "-"
    }
   },
   "source": [
    "### Descomposición de matrices\n",
    "Si consideramos el mismo problema de resolución de ecuaciones\n",
    "$$A x = b $$\n",
    "pero donde debemos resolver el problema para un valor dado de los coeficientes (la matriz $A$) y muchos valores distintos del vector $b$, suele ser útil realizar lo que se llama la descompocición $LU$ de la matriz.\n",
    "\n",
    "Si escribimos a la matriz $A$ como el producto de dos matrices $A = LU$ donde $L$ es una matriz triangular inferior (Los elementos por encima de la diagonal son nulos) y $U$ una triangular superior, podemos resolver el sistema en dos pasos:\n",
    "\n",
    "$$ Ly=b $$ \n",
    "con\n",
    "$$ y = Ux. $$\n",
    "\n",
    "En ese caso, resolvemos una sola vez la descompocición $LU$, y luego ambas ecuaciones se pueden resolver eficientemente debido a la forma de las matrices."
   ]
  },
  {
   "cell_type": "code",
   "execution_count": 50,
   "metadata": {
    "autoscroll": false,
    "collapsed": false,
    "ein.tags": "worksheet-0",
    "slideshow": {
     "slide_type": "-"
    }
   },
   "outputs": [
    {
     "name": "stdout",
     "output_type": "stream",
     "text": [
      "A= [[1 3 4]\n",
      " [2 1 3]\n",
      " [4 1 2]] \n",
      "\n",
      "LU= [[ 4.  1.  2.]\n",
      " [ 1.  3.  4.]\n",
      " [ 2.  1.  3.]]\n",
      "\n",
      "L= [[ 1.          0.          0.        ]\n",
      " [ 0.25        1.          0.        ]\n",
      " [ 0.5         0.18181818  1.        ]]\n",
      "\n",
      "U= [[ 4.          1.          2.        ]\n",
      " [ 0.          2.75        3.5       ]\n",
      " [ 0.          0.          1.36363636]]\n"
     ]
    }
   ],
   "source": [
    "A = np.array([[1,3,4],[2,1,3],[4,1,2]])\n",
    "\n",
    "print('A=', A,\"\\n\")\n",
    "\n",
    "P, L, U = linalg.lu(A)\n",
    "print(\"LU=\", np.dot(L, U))\n",
    "print(\"\\nL=\",L)\n",
    "print(\"\\nU=\", U)"
   ]
  },
  {
   "cell_type": "markdown",
   "metadata": {
    "ein.tags": "worksheet-0",
    "slideshow": {
     "slide_type": "-"
    }
   },
   "source": [
    "### Autovalores y autovectores\n",
    "La necesidad de encontrar los autovalores y autovectores de una matriz aparece en muchos problemas de física e ingeniería. Se trata de encontrar el escalar $\\lambda$ y el vector (no nulo) $v$ tales que\n",
    "\n",
    "$$ A v = \\lambda v$$\n",
    "\n"
   ]
  },
  {
   "cell_type": "code",
   "execution_count": 51,
   "metadata": {
    "autoscroll": false,
    "collapsed": false,
    "ein.tags": "worksheet-0",
    "slideshow": {
     "slide_type": "-"
    }
   },
   "outputs": [
    {
     "name": "stdout",
     "output_type": "stream",
     "text": [
      "[[0 1 1]\n",
      " [2 1 0]\n",
      " [3 4 5]]\n",
      "\n",
      "[[ -1.89222052e-16+0.j   1.00000000e+00+0.j   1.00000000e+00+0.j]\n",
      " [  2.00000000e+00+0.j   1.00000000e+00+0.j   3.05311332e-16+0.j]\n",
      " [  3.00000000e+00+0.j   4.00000000e+00+0.j   5.00000000e+00+0.j]]\n",
      "[[ -1.89222052e-16   1.00000000e+00   1.00000000e+00]\n",
      " [  2.00000000e+00   1.00000000e+00   3.05311332e-16]\n",
      " [  3.00000000e+00   4.00000000e+00   5.00000000e+00]]\n",
      "\n",
      "[ 5.85410197+0.j -0.85410197+0.j  1.00000000+0.j]\n",
      "[ 5.85410197 -0.85410197  1.        ]\n"
     ]
    }
   ],
   "source": [
    "B = np.array([[0,1,1],[2,1,0], [3,4,5]])\n",
    "print(B)\n",
    "u, v = linalg.eig(B)\n",
    "print('')\n",
    "print(np.dot(v,np.dot(np.diag(u), linalg.inv(v))))\n",
    "print(np.real_if_close(np.dot(v,np.dot(np.diag(u), linalg.inv(v)))))\n",
    "print('')\n",
    "print(u)\n",
    "print(np.real_if_close(u))\n"
   ]
  },
  {
   "cell_type": "markdown",
   "metadata": {
    "ein.tags": "worksheet-0",
    "slideshow": {
     "slide_type": "-"
    }
   },
   "source": [
    "Veamos como funciona para la matriz definida anteriormente"
   ]
  },
  {
   "cell_type": "code",
   "execution_count": 52,
   "metadata": {
    "autoscroll": false,
    "collapsed": false,
    "ein.tags": "worksheet-0",
    "slideshow": {
     "slide_type": "-"
    }
   },
   "outputs": [
    {
     "name": "stdout",
     "output_type": "stream",
     "text": [
      "[[1 3 4]\n",
      " [2 1 3]\n",
      " [4 1 2]]\n",
      "[[ 1.  3.  4.]\n",
      " [ 2.  1.  3.]\n",
      " [ 4.  1.  2.]]\n",
      "[ 7.10977223 -2.10977223 -1.        ]\n"
     ]
    }
   ],
   "source": [
    "print(A)\n",
    "u, v = linalg.eig(A)\n",
    "print(np.real_if_close(np.dot(v,np.dot(np.diag(u), linalg.inv(v)))))\n",
    "print(np.real_if_close(u))"
   ]
  },
  {
   "cell_type": "markdown",
   "metadata": {
    "ein.tags": "worksheet-0",
    "slideshow": {
     "slide_type": "-"
    }
   },
   "source": [
    "### Rutinas de resolución de ecuaciones lineales\n",
    "\n",
    "**Scipy** tiene además de las rutinas de trabajo con matrices, rutinas de resolución de sistemas de ecuaciones. En particular la función `solve()`\n",
    "\n",
    " solve(a, b, sym_pos=False, lower=False, overwrite_a=False, overwrite_b=False,\n",
    "       debug=False, check_finite=True)\n",
    "\n",
    "Solve the equation ``a x = b`` for ``x``.\n",
    "\n",
    "Parameters\n",
    "----------\n",
    "a : (M, M) array_like\n",
    "    A square matrix.\n",
    "b : (M,) or (M, N) array_like\n",
    "    Right-hand side matrix in ``a x = b``.\n",
    "..."
   ]
  },
  {
   "cell_type": "code",
   "execution_count": 53,
   "metadata": {
    "autoscroll": false,
    "collapsed": false,
    "ein.tags": "worksheet-0",
    "slideshow": {
     "slide_type": "-"
    }
   },
   "outputs": [
    {
     "data": {
      "text/plain": [
       "array([ 2., -2.,  9.])"
      ]
     },
     "execution_count": 53,
     "metadata": {},
     "output_type": "execute_result"
    }
   ],
   "source": [
    "a = np.array([[3, 2, 0], [1, -1, 0], [0, 5, 1]])\n",
    "b = np.array([2, 4, -1])\n",
    "x = linalg.solve(a, b)\n",
    "x"
   ]
  },
  {
   "cell_type": "code",
   "execution_count": 54,
   "metadata": {
    "autoscroll": false,
    "collapsed": false,
    "ein.tags": "worksheet-0",
    "slideshow": {
     "slide_type": "-"
    }
   },
   "outputs": [
    {
     "data": {
      "text/plain": [
       "True"
      ]
     },
     "execution_count": 54,
     "metadata": {},
     "output_type": "execute_result"
    }
   ],
   "source": [
    "np.allclose(np.dot(a, x) , b)"
   ]
  },
  {
   "cell_type": "code",
   "execution_count": 55,
   "metadata": {
    "collapsed": false
   },
   "outputs": [
    {
     "data": {
      "text/plain": [
       "array([False,  True,  True], dtype=bool)"
      ]
     },
     "execution_count": 55,
     "metadata": {},
     "output_type": "execute_result"
    }
   ],
   "source": [
    "np.dot(a,x) == b"
   ]
  },
  {
   "cell_type": "markdown",
   "metadata": {
    "ein.tags": "worksheet-0",
    "slideshow": {
     "slide_type": "-"
    }
   },
   "source": [
    "Para sistemas de ecuaciones grandes, la función `solve()` es más rápida que invertir la matriz"
   ]
  },
  {
   "cell_type": "code",
   "execution_count": 56,
   "metadata": {
    "autoscroll": false,
    "collapsed": false,
    "ein.tags": "worksheet-0",
    "slideshow": {
     "slide_type": "-"
    }
   },
   "outputs": [],
   "source": [
    "A1 = np.random.random((1000,1000))\n",
    "b1 = np.random.random(1000)"
   ]
  },
  {
   "cell_type": "code",
   "execution_count": 57,
   "metadata": {
    "autoscroll": false,
    "collapsed": false,
    "ein.tags": "worksheet-0",
    "slideshow": {
     "slide_type": "-"
    }
   },
   "outputs": [
    {
     "name": "stdout",
     "output_type": "stream",
     "text": [
      "10 loops, best of 3: 91.5 ms per loop\n"
     ]
    }
   ],
   "source": [
    "%timeit linalg.solve(A1,b1)"
   ]
  },
  {
   "cell_type": "code",
   "execution_count": 58,
   "metadata": {
    "autoscroll": false,
    "collapsed": false,
    "ein.tags": "worksheet-0",
    "slideshow": {
     "slide_type": "-"
    }
   },
   "outputs": [
    {
     "name": "stdout",
     "output_type": "stream",
     "text": [
      "1 loops, best of 3: 284 ms per loop\n"
     ]
    }
   ],
   "source": [
    "%timeit np.dot(linalg.inv(A1),b1)"
   ]
  },
  {
   "cell_type": "markdown",
   "metadata": {
    "ein.tags": "worksheet-0",
    "slideshow": {
     "slide_type": "-"
    }
   },
   "source": [
    "## Procesamiento simple de imágenes"
   ]
  },
  {
   "cell_type": "markdown",
   "metadata": {
    "ein.tags": "worksheet-0",
    "slideshow": {
     "slide_type": "-"
    }
   },
   "source": [
    "Si bien scipy tiene un submódulo scipy.ndimage que permite trabajar con imágenes en forma más o menos sofisticada. Algún procesamiento simple se obtiene de las funciones en scipy.misc"
   ]
  },
  {
   "cell_type": "code",
   "execution_count": 59,
   "metadata": {
    "collapsed": false
   },
   "outputs": [
    {
     "name": "stdout",
     "output_type": "stream",
     "text": [
      "\u001b[0m\u001b[38;5;13m08_img1.png\u001b[0m             \u001b[38;5;13mlogos.png\u001b[0m\r\n",
      "\u001b[38;5;13maxes_demo.png\u001b[0m           \u001b[38;5;13mmatplotlib_logo.png\u001b[0m\r\n",
      "\u001b[38;5;13mbsplinebasics.png\u001b[0m       \u001b[38;5;13mmayavi-samp.png\u001b[0m\r\n",
      "\u001b[38;5;13mbsplines.png\u001b[0m            \u001b[38;5;13mmayavi-streamlines.jpg\u001b[0m\r\n",
      "\u001b[38;5;13mBuffon_needle_wiki.png\u001b[0m  \u001b[38;5;13mmpl_advanced_hillshading_01.png\u001b[0m\r\n",
      "\u001b[38;5;13mcanopy-cluster.png\u001b[0m      \u001b[38;5;13mnumpy_broadcasting.png\u001b[0m\r\n",
      "\u001b[38;5;13mCanopyWindow.png\u001b[0m        \u001b[38;5;13mnumpy_indexing_large.png\u001b[0m\r\n",
      "\u001b[38;5;13mconsole.png\u001b[0m             \u001b[38;5;13mnumpy_indexing.png\u001b[0m\r\n",
      "\u001b[38;5;13mcurvas_log.png\u001b[0m          \u001b[38;5;13mnumpy_logo.png\u001b[0m\r\n",
      "\u001b[38;5;13mdiagrama_tof.png\u001b[0m        \u001b[38;5;13mpolar_legend.png\u001b[0m\r\n",
      "\u001b[38;5;13mecosistema1.png\u001b[0m         \u001b[38;5;13mpymol_example1.png\u001b[0m\r\n",
      "\u001b[38;5;13mecosistema2.png\u001b[0m         \u001b[38;5;13mpymol_example2.png\u001b[0m\r\n",
      "\u001b[38;5;13mejercicio_08_1.png\u001b[0m      \u001b[38;5;13mpython-arduino.png\u001b[0m\r\n",
      "\u001b[38;5;13mejercicio_08_2.png\u001b[0m      \u001b[38;5;13mpython-logo.png\u001b[0m\r\n",
      "\u001b[38;5;13mejercicio_08_3.png\u001b[0m      \u001b[38;5;13mpyvisa.png\u001b[0m\r\n",
      "\u001b[38;5;13mejercicio_09_1.png\u001b[0m      \u001b[38;5;13mraspberry_book.jpg\u001b[0m\r\n",
      "\u001b[38;5;13mexample_stats.png\u001b[0m       \u001b[38;5;13mretorno_figs_1.png\u001b[0m\r\n",
      "\u001b[38;5;13mgaleria_mayavi.png\u001b[0m      \u001b[38;5;13mSchlieren-color-candle-plume.jpg\u001b[0m\r\n",
      "\u001b[38;5;13mHarmOsziFunktionen.png\u001b[0m  \u001b[38;5;13mscipy_logo.png\u001b[0m\r\n",
      "\u001b[38;5;13mimagen_flujo.jpg\u001b[0m        \u001b[38;5;13msimple_linea.png\u001b[0m\r\n",
      "\u001b[38;5;13mimagen_flujo.png\u001b[0m        \u001b[38;5;13msimple_linea_simb.png\u001b[0m\r\n",
      "\u001b[38;5;13mindex_slicing.png\u001b[0m       \u001b[38;5;13msimple_varios.png\u001b[0m\r\n",
      "\u001b[38;5;13mIPy_logo.png\u001b[0m            \u001b[38;5;13mspyder-hd.png\u001b[0m\r\n",
      "\u001b[38;5;13mipython_logo.png\u001b[0m        \u001b[38;5;13mspyder.png\u001b[0m\r\n",
      "\u001b[38;5;13mipython.png\u001b[0m             \u001b[38;5;13mstreamplot_demo_features_00.png\u001b[0m\r\n",
      "\u001b[38;5;13mjupyter_logo.svg\u001b[0m        \u001b[38;5;13mStreicholz-Pi-wiki.jpg\u001b[0m\r\n",
      "\u001b[38;5;13mlistComprehensions.gif\u001b[0m  \u001b[38;5;13mtar-icon.png\u001b[0m\r\n",
      "\u001b[38;5;13mlistComprehensions.png\u001b[0m  \u001b[38;5;13mtrapez_rule_wiki.png\u001b[0m\r\n"
     ]
    }
   ],
   "source": [
    "ls figuras/"
   ]
  },
  {
   "cell_type": "code",
   "execution_count": 60,
   "metadata": {
    "collapsed": false
   },
   "outputs": [
    {
     "ename": "NameError",
     "evalue": "name 'misc' is not defined",
     "output_type": "error",
     "traceback": [
      "\u001b[1;31m---------------------------------------------------------------------------\u001b[0m",
      "\u001b[1;31mNameError\u001b[0m                                 Traceback (most recent call last)",
      "\u001b[1;32m<ipython-input-60-cd96868c9a95>\u001b[0m in \u001b[0;36m<module>\u001b[1;34m()\u001b[0m\n\u001b[1;32m----> 1\u001b[1;33m \u001b[0mlena\u001b[0m\u001b[1;33m=\u001b[0m\u001b[0mmisc\u001b[0m\u001b[1;33m.\u001b[0m\u001b[0mimread\u001b[0m\u001b[1;33m(\u001b[0m\u001b[1;34m'figuras/08_img1.png'\u001b[0m\u001b[1;33m)\u001b[0m\u001b[1;33m\u001b[0m\u001b[0m\n\u001b[0m",
      "\u001b[1;31mNameError\u001b[0m: name 'misc' is not defined"
     ]
    }
   ],
   "source": [
    "lena=misc.imread('figuras/08_img1.png')"
   ]
  },
  {
   "cell_type": "code",
   "execution_count": null,
   "metadata": {
    "autoscroll": false,
    "collapsed": false,
    "ein.tags": "worksheet-0",
    "slideshow": {
     "slide_type": "-"
    }
   },
   "outputs": [],
   "source": [
    "from scipy import misc\n",
    "\n",
    "lena= misc.face()\n",
    "plt.imshow(lena, cmap='gray')"
   ]
  },
  {
   "cell_type": "code",
   "execution_count": null,
   "metadata": {
    "autoscroll": false,
    "collapsed": false,
    "ein.tags": "worksheet-0",
    "slideshow": {
     "slide_type": "-"
    }
   },
   "outputs": [],
   "source": [
    "plt.imshow(misc.imrotate(lena,90))"
   ]
  },
  {
   "cell_type": "code",
   "execution_count": null,
   "metadata": {
    "autoscroll": false,
    "collapsed": false,
    "ein.tags": "worksheet-0",
    "slideshow": {
     "slide_type": "-"
    }
   },
   "outputs": [],
   "source": [
    "print(lena)"
   ]
  },
  {
   "cell_type": "code",
   "execution_count": null,
   "metadata": {
    "autoscroll": false,
    "collapsed": false,
    "ein.tags": "worksheet-0",
    "slideshow": {
     "slide_type": "-"
    }
   },
   "outputs": [],
   "source": [
    "type(lena), lena.shape"
   ]
  },
  {
   "cell_type": "code",
   "execution_count": null,
   "metadata": {
    "autoscroll": false,
    "collapsed": false,
    "ein.tags": "worksheet-0",
    "slideshow": {
     "slide_type": "-"
    }
   },
   "outputs": [],
   "source": [
    "lena[10:12,40:42]"
   ]
  },
  {
   "cell_type": "code",
   "execution_count": null,
   "metadata": {
    "autoscroll": false,
    "collapsed": false,
    "ein.tags": "worksheet-0",
    "slideshow": {
     "slide_type": "-"
    }
   },
   "outputs": [],
   "source": [
    "plt.imshow(lena)"
   ]
  },
  {
   "cell_type": "markdown",
   "metadata": {
    "ein.tags": "worksheet-0",
    "slideshow": {
     "slide_type": "-"
    }
   },
   "source": [
    "Al ser la imagen un \"simples\" `array` en dos dimensiones podemos realizar operaciones. Por ejemplo *clip*"
   ]
  },
  {
   "cell_type": "code",
   "execution_count": null,
   "metadata": {
    "autoscroll": false,
    "collapsed": false,
    "ein.tags": "worksheet-0",
    "slideshow": {
     "slide_type": "-"
    }
   },
   "outputs": [],
   "source": [
    "plt.imshow(lena[0:400, 400:800, 2], cmap='gray')"
   ]
  },
  {
   "cell_type": "code",
   "execution_count": null,
   "metadata": {
    "autoscroll": false,
    "collapsed": false,
    "ein.tags": "worksheet-0",
    "slideshow": {
     "slide_type": "-"
    }
   },
   "outputs": [],
   "source": [
    "lena.min(),lena.max()"
   ]
  },
  {
   "cell_type": "code",
   "execution_count": null,
   "metadata": {
    "autoscroll": false,
    "collapsed": false,
    "ein.tags": "worksheet-0",
    "slideshow": {
     "slide_type": "-"
    }
   },
   "outputs": [],
   "source": [
    "plt.imshow(np.where(lena > 120, 255, lena))"
   ]
  },
  {
   "cell_type": "code",
   "execution_count": null,
   "metadata": {
    "autoscroll": false,
    "collapsed": false,
    "ein.tags": "worksheet-0",
    "slideshow": {
     "slide_type": "-"
    }
   },
   "outputs": [],
   "source": [
    "plt.imshow(np.where(lena < 85, 0, lena))"
   ]
  },
  {
   "cell_type": "code",
   "execution_count": null,
   "metadata": {
    "autoscroll": false,
    "collapsed": false,
    "ein.tags": "worksheet-0",
    "slideshow": {
     "slide_type": "-"
    }
   },
   "outputs": [],
   "source": [
    "plt.imshow(np.where((lena > 85) & (lena < 170) , 150, lena))"
   ]
  },
  {
   "cell_type": "markdown",
   "metadata": {
    "ein.tags": "worksheet-0",
    "slideshow": {
     "slide_type": "-"
    }
   },
   "source": [
    "Podemos degradar la imagen dando redondeando los valores"
   ]
  },
  {
   "cell_type": "code",
   "execution_count": null,
   "metadata": {
    "autoscroll": false,
    "collapsed": false,
    "ein.tags": "worksheet-0",
    "slideshow": {
     "slide_type": "-"
    }
   },
   "outputs": [],
   "source": [
    "plt.imshow(lena*2)"
   ]
  },
  {
   "cell_type": "code",
   "execution_count": null,
   "metadata": {
    "collapsed": false
   },
   "outputs": [],
   "source": [
    "np.max(lena)"
   ]
  },
  {
   "cell_type": "markdown",
   "metadata": {
    "ein.tags": "worksheet-0",
    "slideshow": {
     "slide_type": "-"
    }
   },
   "source": [
    "## Entrada y salida "
   ]
  },
  {
   "cell_type": "markdown",
   "metadata": {
    "ein.tags": "worksheet-0",
    "slideshow": {
     "slide_type": "-"
    }
   },
   "source": [
    "El submódulo `io` tiene algunas utilidades de entrada y salida de datos que permite interactuar con otros paquetes/programas. Algunos de ellos son:\n",
    "\n",
    "- Archivos IDL ![Interactive Data Language](https://hesperia.gsfc.nasa.gov/hessi/solar_cd/FAQ/IDL_FAQ.htm)\n",
    "   - `scipy.io.readsav()`\n",
    "\n",
    "- Archivos de sonido wav, con `scipy.io.wavfile`\n",
    "   - `scipy.io.wavfile.read()`\n",
    "   - `scipy.io.wavfile.write()`\n",
    "\n",
    "- Archivos fortran sin formato, con `scipy.io.FortranFile`\n",
    "\n",
    "- Archivos Netcdf (para gran número de datos), con  `scipy.io.netcdf`\n",
    "\n",
    "- Archivos de matrices de Matlab"
   ]
  },
  {
   "cell_type": "code",
   "execution_count": null,
   "metadata": {
    "autoscroll": false,
    "collapsed": false,
    "ein.tags": "worksheet-0",
    "slideshow": {
     "slide_type": "-"
    }
   },
   "outputs": [],
   "source": [
    "from scipy import io as sio\n",
    "a = np.ones((3, 3)) + np.eye(3,3)\n",
    "print(a)\n",
    "sio.savemat('datos.mat', {'a': a}) # savemat espera un diccionario\n",
    "data = sio.loadmat('datos.mat', struct_as_record=True)\n",
    "data['a']"
   ]
  },
  {
   "cell_type": "code",
   "execution_count": null,
   "metadata": {
    "autoscroll": false,
    "collapsed": false,
    "deletable": true,
    "editable": true,
    "ein.tags": "worksheet-0",
    "slideshow": {
     "slide_type": "slide"
    }
   },
   "outputs": [],
   "source": [
    "data"
   ]
  },
  {
   "cell_type": "code",
   "execution_count": null,
   "metadata": {
    "collapsed": true
   },
   "outputs": [],
   "source": []
  }
 ],
 "metadata": {
  "kernelspec": {
   "display_name": "Python 3",
   "language": "python",
   "name": "python3"
  },
  "language_info": {
   "codemirror_mode": {
    "name": "ipython",
    "version": 3
   },
   "file_extension": ".py",
   "mimetype": "text/x-python",
   "name": "python",
   "nbconvert_exporter": "python",
   "pygments_lexer": "ipython3",
   "version": "3.5.3"
  },
  "name": "11_intro_scipy.ipynb"
 },
 "nbformat": 4,
 "nbformat_minor": 2
}
