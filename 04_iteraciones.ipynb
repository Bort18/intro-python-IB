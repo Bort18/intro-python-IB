{
 "cells": [
  {
   "cell_type": "markdown",
   "metadata": {
    "ein.tags": "worksheet-0",
    "slideshow": {
     "slide_type": "-"
    }
   },
   "source": [
    "# Algunas Técnicas de iteración "
   ]
  },
  {
   "cell_type": "markdown",
   "metadata": {
    "ein.tags": "worksheet-0",
    "slideshow": {
     "slide_type": "-"
    }
   },
   "source": [
    "En la clase anterior introdujimos tipos complejos en adición a las listas: tuples, diccionarios (`dict`), conjuntos (`set`). Algunas técnicas usuales de iteración sobre estos objetos.\n",
    "\n",
    "## Iteración sobre elementos de dos listas\n",
    "\n",
    "Consideremos las listas:"
   ]
  },
  {
   "cell_type": "code",
   "execution_count": 1,
   "metadata": {
    "autoscroll": false,
    "collapsed": false,
    "ein.tags": "worksheet-0",
    "slideshow": {
     "slide_type": "-"
    }
   },
   "outputs": [],
   "source": [
    "temp_min = [-3.2, -2, 0, -1, 4, -5, -2, 0, 4, 0]\n",
    "temp_max = [13.2, 12, 13, 7, 18, 5, 11, 14, 10 , 10]"
   ]
  },
  {
   "cell_type": "markdown",
   "metadata": {
    "ein.tags": "worksheet-0",
    "slideshow": {
     "slide_type": "-"
    }
   },
   "source": [
    "Queremos imprimir una lista que combine los dos datos:"
   ]
  },
  {
   "cell_type": "code",
   "execution_count": 2,
   "metadata": {
    "autoscroll": false,
    "collapsed": false,
    "ein.tags": "worksheet-0",
    "slideshow": {
     "slide_type": "-"
    }
   },
   "outputs": [
    {
     "name": "stdout",
     "output_type": "stream",
     "text": [
      "La temperatura mínima fue -3.2 y la máxima fue 13.2\n",
      "La temperatura mínima fue -2 y la máxima fue 12\n",
      "La temperatura mínima fue 0 y la máxima fue 13\n",
      "La temperatura mínima fue -1 y la máxima fue 7\n",
      "La temperatura mínima fue 4 y la máxima fue 18\n",
      "La temperatura mínima fue -5 y la máxima fue 5\n",
      "La temperatura mínima fue -2 y la máxima fue 11\n",
      "La temperatura mínima fue 0 y la máxima fue 14\n",
      "La temperatura mínima fue 4 y la máxima fue 10\n",
      "La temperatura mínima fue 0 y la máxima fue 10\n"
     ]
    }
   ],
   "source": [
    "for t1, t2 in zip(temp_min, temp_max):\n",
    "  print('La temperatura mínima fue {} y la máxima fue {}'.format(t1, t2))"
   ]
  },
  {
   "cell_type": "markdown",
   "metadata": {
    "ein.tags": "worksheet-0",
    "slideshow": {
     "slide_type": "-"
    }
   },
   "source": [
    "Como vemos, la función `zip` combina los elementos, tomando uno de cada lista"
   ]
  },
  {
   "cell_type": "code",
   "execution_count": 3,
   "metadata": {
    "autoscroll": false,
    "collapsed": false,
    "ein.tags": "worksheet-0",
    "slideshow": {
     "slide_type": "-"
    }
   },
   "outputs": [
    {
     "data": {
      "text/plain": [
       "<zip at 0x7f6210195a48>"
      ]
     },
     "execution_count": 3,
     "metadata": {},
     "output_type": "execute_result"
    }
   ],
   "source": [
    "zip(temp_min, temp_max)"
   ]
  },
  {
   "cell_type": "code",
   "execution_count": 5,
   "metadata": {
    "autoscroll": false,
    "collapsed": false,
    "ein.tags": "worksheet-0",
    "slideshow": {
     "slide_type": "-"
    }
   },
   "outputs": [
    {
     "data": {
      "text/plain": [
       "[(-3.2, 13.2),\n",
       " (-2, 12),\n",
       " (0, 13),\n",
       " (-1, 7),\n",
       " (4, 18),\n",
       " (-5, 5),\n",
       " (-2, 11),\n",
       " (0, 14),\n",
       " (4, 10),\n",
       " (0, 10)]"
      ]
     },
     "execution_count": 5,
     "metadata": {},
     "output_type": "execute_result"
    }
   ],
   "source": [
    "list(zip(temp_min, temp_max))"
   ]
  },
  {
   "cell_type": "code",
   "execution_count": 6,
   "metadata": {
    "collapsed": false
   },
   "outputs": [
    {
     "data": {
      "text/plain": [
       "[(1, -3.2), (3, -2), (3, 0)]"
      ]
     },
     "execution_count": 6,
     "metadata": {},
     "output_type": "execute_result"
    }
   ],
   "source": [
    "b = [1, 3, 3]\n",
    "list(zip(b, temp_min))"
   ]
  },
  {
   "cell_type": "markdown",
   "metadata": {
    "ein.tags": "worksheet-0",
    "slideshow": {
     "slide_type": "-"
    }
   },
   "source": [
    "Podemos mejorar la salida anterior por pantalla si volvemos a utilizar la función `enumerate`"
   ]
  },
  {
   "cell_type": "code",
   "execution_count": 7,
   "metadata": {
    "autoscroll": false,
    "collapsed": false,
    "ein.tags": "worksheet-0",
    "slideshow": {
     "slide_type": "-"
    }
   },
   "outputs": [
    {
     "ename": "ValueError",
     "evalue": "not enough values to unpack (expected 3, got 2)",
     "output_type": "error",
     "traceback": [
      "\u001b[1;31m---------------------------------------------------------------------------\u001b[0m",
      "\u001b[1;31mValueError\u001b[0m                                Traceback (most recent call last)",
      "\u001b[1;32m<ipython-input-7-9479d8adee66>\u001b[0m in \u001b[0;36m<module>\u001b[1;34m()\u001b[0m\n\u001b[1;32m----> 1\u001b[1;33m \u001b[1;32mfor\u001b[0m \u001b[0mj\u001b[0m\u001b[1;33m,\u001b[0m \u001b[0mt1\u001b[0m\u001b[1;33m,\u001b[0m \u001b[0mt2\u001b[0m \u001b[1;32min\u001b[0m \u001b[0menumerate\u001b[0m\u001b[1;33m(\u001b[0m\u001b[0mzip\u001b[0m\u001b[1;33m(\u001b[0m\u001b[0mtemp_min\u001b[0m\u001b[1;33m,\u001b[0m \u001b[0mtemp_max\u001b[0m\u001b[1;33m)\u001b[0m\u001b[1;33m)\u001b[0m\u001b[1;33m:\u001b[0m\u001b[1;33m\u001b[0m\u001b[0m\n\u001b[0m\u001b[0;32m      2\u001b[0m   \u001b[0mprint\u001b[0m\u001b[1;33m(\u001b[0m\u001b[1;34m'La temperatura mínima fue {} y la máxima fue {}'\u001b[0m\u001b[1;33m.\u001b[0m\u001b[0mformat\u001b[0m\u001b[1;33m(\u001b[0m\u001b[0mt1\u001b[0m\u001b[1;33m,\u001b[0m \u001b[0mt2\u001b[0m\u001b[1;33m)\u001b[0m\u001b[1;33m)\u001b[0m\u001b[1;33m\u001b[0m\u001b[0m\n",
      "\u001b[1;31mValueError\u001b[0m: not enough values to unpack (expected 3, got 2)"
     ]
    }
   ],
   "source": [
    "for j, t1, t2 in enumerate(zip(temp_min, temp_max)):\n",
    "  print('La temperatura mínima fue {} y la máxima fue {}'.format(t1, t2))"
   ]
  },
  {
   "cell_type": "markdown",
   "metadata": {
    "ein.tags": "worksheet-0",
    "slideshow": {
     "slide_type": "-"
    }
   },
   "source": [
    "¿Cuál fue el problema acá?\n",
    "¿qué retorna zip?"
   ]
  },
  {
   "cell_type": "code",
   "execution_count": 8,
   "metadata": {
    "autoscroll": false,
    "collapsed": false,
    "ein.tags": "worksheet-0",
    "slideshow": {
     "slide_type": "-"
    }
   },
   "outputs": [
    {
     "name": "stdout",
     "output_type": "stream",
     "text": [
      "El día 1 la temperatura mínima fue -3.2 y la máxima fue 13.2\n",
      "El día 2 la temperatura mínima fue -2 y la máxima fue 12\n",
      "El día 3 la temperatura mínima fue 0 y la máxima fue 13\n",
      "El día 4 la temperatura mínima fue -1 y la máxima fue 7\n",
      "El día 5 la temperatura mínima fue 4 y la máxima fue 18\n",
      "El día 6 la temperatura mínima fue -5 y la máxima fue 5\n",
      "El día 7 la temperatura mínima fue -2 y la máxima fue 11\n",
      "El día 8 la temperatura mínima fue 0 y la máxima fue 14\n",
      "El día 9 la temperatura mínima fue 4 y la máxima fue 10\n",
      "El día 10 la temperatura mínima fue 0 y la máxima fue 10\n"
     ]
    }
   ],
   "source": [
    "for j, t in enumerate(zip(temp_min, temp_max)):\n",
    "  print('El día {} la temperatura mínima fue {} y la máxima fue {}'.format(1+j, t[0], t[1]))\n"
   ]
  },
  {
   "cell_type": "markdown",
   "metadata": {
    "ein.tags": "worksheet-0",
    "slideshow": {
     "slide_type": "-"
    }
   },
   "source": [
    "Podemos utilizar la función `zip` para sumar dos listas"
   ]
  },
  {
   "cell_type": "code",
   "execution_count": 9,
   "metadata": {
    "autoscroll": false,
    "collapsed": false,
    "ein.tags": "worksheet-0",
    "slideshow": {
     "slide_type": "-"
    }
   },
   "outputs": [
    {
     "name": "stdout",
     "output_type": "stream",
     "text": [
      "[5.0, 5.0, 6.5, 3.0, 11.0, 0.0, 4.5, 7.0, 7.0, 5.0]\n"
     ]
    }
   ],
   "source": [
    "tmedia = []\n",
    "for t1, t2 in zip(temp_min, temp_max):\n",
    "    tmedia.append((t1+t2)/2)\n",
    "print(tmedia)"
   ]
  },
  {
   "cell_type": "markdown",
   "metadata": {
    "ein.tags": "worksheet-0",
    "slideshow": {
     "slide_type": "-"
    }
   },
   "source": [
    "También podemos escribirlo en forma más compacta usando comprensiones de listas"
   ]
  },
  {
   "cell_type": "code",
   "execution_count": 10,
   "metadata": {
    "autoscroll": false,
    "collapsed": false,
    "ein.tags": "worksheet-0",
    "slideshow": {
     "slide_type": "-"
    }
   },
   "outputs": [
    {
     "name": "stdout",
     "output_type": "stream",
     "text": [
      "[5.0, 5.0, 6.5, 3.0, 11.0, 0.0, 4.5, 7.0, 7.0, 5.0]\n"
     ]
    }
   ],
   "source": [
    "tm = [(t1+t2)/2 for t1,t2 in zip(temp_min,temp_max)]\n",
    "print(tm)"
   ]
  },
  {
   "cell_type": "markdown",
   "metadata": {
    "ein.tags": "worksheet-0",
    "slideshow": {
     "slide_type": "-"
    }
   },
   "source": [
    "## Más sobre diccionarios\n",
    "\n",
    "### Creación\n"
   ]
  },
  {
   "cell_type": "code",
   "execution_count": 11,
   "metadata": {
    "autoscroll": false,
    "collapsed": false,
    "ein.tags": "worksheet-0",
    "slideshow": {
     "slide_type": "-"
    }
   },
   "outputs": [],
   "source": [
    "d0 = {}\n",
    "d1 = {'S': 'Al', 'Z': 13, 'A': 27, 'M':26.98153863 }\n",
    "d2 = {'A': 27, 'M':26.98153863, 'S': 'Al', 'Z': 13 }\n",
    "d3 = dict( [('S','Al'), ('Z',15), ('A',31), ('M',30.97376163)])\n",
    "d4 = dict(zip(temp_min, temp_max))\n",
    "d5 = {n: n**2 for n in range(6)}"
   ]
  },
  {
   "cell_type": "code",
   "execution_count": 12,
   "metadata": {
    "autoscroll": false,
    "collapsed": false,
    "ein.tags": "worksheet-0",
    "slideshow": {
     "slide_type": "-"
    }
   },
   "outputs": [
    {
     "data": {
      "text/plain": [
       "{}"
      ]
     },
     "execution_count": 12,
     "metadata": {},
     "output_type": "execute_result"
    }
   ],
   "source": [
    "d0"
   ]
  },
  {
   "cell_type": "code",
   "execution_count": 13,
   "metadata": {
    "autoscroll": false,
    "collapsed": false,
    "ein.tags": "worksheet-0",
    "slideshow": {
     "slide_type": "-"
    }
   },
   "outputs": [],
   "source": [
    "d0['S']='Al'"
   ]
  },
  {
   "cell_type": "code",
   "execution_count": 14,
   "metadata": {
    "autoscroll": false,
    "collapsed": false,
    "ein.tags": "worksheet-0",
    "slideshow": {
     "slide_type": "-"
    }
   },
   "outputs": [
    {
     "data": {
      "text/plain": [
       "{'S': 'Al'}"
      ]
     },
     "execution_count": 14,
     "metadata": {},
     "output_type": "execute_result"
    }
   ],
   "source": [
    "d0"
   ]
  },
  {
   "cell_type": "code",
   "execution_count": 15,
   "metadata": {
    "autoscroll": false,
    "collapsed": false,
    "ein.tags": "worksheet-0",
    "slideshow": {
     "slide_type": "-"
    }
   },
   "outputs": [
    {
     "data": {
      "text/plain": [
       "{'A': 27, 'M': 26.98153863, 'S': 'Al', 'Z': 13}"
      ]
     },
     "execution_count": 15,
     "metadata": {},
     "output_type": "execute_result"
    }
   ],
   "source": [
    "d1"
   ]
  },
  {
   "cell_type": "code",
   "execution_count": 16,
   "metadata": {
    "autoscroll": false,
    "collapsed": false,
    "ein.tags": "worksheet-0",
    "slideshow": {
     "slide_type": "-"
    }
   },
   "outputs": [
    {
     "data": {
      "text/plain": [
       "True"
      ]
     },
     "execution_count": 16,
     "metadata": {},
     "output_type": "execute_result"
    }
   ],
   "source": [
    "d2 == d1"
   ]
  },
  {
   "cell_type": "code",
   "execution_count": 17,
   "metadata": {
    "autoscroll": false,
    "collapsed": false,
    "ein.tags": "worksheet-0",
    "slideshow": {
     "slide_type": "-"
    }
   },
   "outputs": [
    {
     "data": {
      "text/plain": [
       "{'A': 31, 'M': 30.97376163, 'S': 'Al', 'Z': 15}"
      ]
     },
     "execution_count": 17,
     "metadata": {},
     "output_type": "execute_result"
    }
   ],
   "source": [
    "d3"
   ]
  },
  {
   "cell_type": "code",
   "execution_count": 18,
   "metadata": {
    "autoscroll": false,
    "collapsed": false,
    "ein.tags": "worksheet-0",
    "slideshow": {
     "slide_type": "-"
    }
   },
   "outputs": [
    {
     "data": {
      "text/plain": [
       "{-5: 5, -3.2: 13.2, -2: 11, -1: 7, 0: 10, 4: 10}"
      ]
     },
     "execution_count": 18,
     "metadata": {},
     "output_type": "execute_result"
    }
   ],
   "source": [
    "d4"
   ]
  },
  {
   "cell_type": "code",
   "execution_count": 19,
   "metadata": {
    "autoscroll": false,
    "collapsed": false,
    "ein.tags": "worksheet-0",
    "slideshow": {
     "slide_type": "-"
    }
   },
   "outputs": [
    {
     "data": {
      "text/plain": [
       "{0: 0, 1: 1, 2: 4, 3: 9, 4: 16, 5: 25}"
      ]
     },
     "execution_count": 19,
     "metadata": {},
     "output_type": "execute_result"
    }
   ],
   "source": [
    "d5"
   ]
  },
  {
   "cell_type": "code",
   "execution_count": 21,
   "metadata": {
    "autoscroll": false,
    "collapsed": false,
    "ein.tags": "worksheet-0",
    "slideshow": {
     "slide_type": "-"
    }
   },
   "outputs": [
    {
     "data": {
      "text/plain": [
       "dict"
      ]
     },
     "execution_count": 21,
     "metadata": {},
     "output_type": "execute_result"
    }
   ],
   "source": [
    "type(d5)"
   ]
  },
  {
   "cell_type": "code",
   "execution_count": 22,
   "metadata": {
    "collapsed": false
   },
   "outputs": [
    {
     "data": {
      "text/plain": [
       "{1: 1, 'a': 3}"
      ]
     },
     "execution_count": 22,
     "metadata": {},
     "output_type": "execute_result"
    }
   ],
   "source": [
    "dict([[1,1], ['a',3]])"
   ]
  },
  {
   "cell_type": "markdown",
   "metadata": {
    "ein.tags": "worksheet-0",
    "slideshow": {
     "slide_type": "-"
    }
   },
   "source": [
    "¿Qué espera que produzca el siguiente código?"
   ]
  },
  {
   "cell_type": "code",
   "execution_count": 23,
   "metadata": {
    "autoscroll": false,
    "collapsed": false,
    "ein.tags": "worksheet-0",
    "slideshow": {
     "slide_type": "-"
    }
   },
   "outputs": [],
   "source": [
    "temps = {j + 1: {'Tmin': t[0], 'Tmax': t[1]}\n",
    "      for j, t in enumerate(zip(temp_min, temp_max))}"
   ]
  },
  {
   "cell_type": "code",
   "execution_count": 24,
   "metadata": {
    "collapsed": false
   },
   "outputs": [
    {
     "data": {
      "text/plain": [
       "{1: {'Tmax': 13.2, 'Tmin': -3.2},\n",
       " 2: {'Tmax': 12, 'Tmin': -2},\n",
       " 3: {'Tmax': 13, 'Tmin': 0},\n",
       " 4: {'Tmax': 7, 'Tmin': -1},\n",
       " 5: {'Tmax': 18, 'Tmin': 4},\n",
       " 6: {'Tmax': 5, 'Tmin': -5},\n",
       " 7: {'Tmax': 11, 'Tmin': -2},\n",
       " 8: {'Tmax': 14, 'Tmin': 0},\n",
       " 9: {'Tmax': 10, 'Tmin': 4},\n",
       " 10: {'Tmax': 10, 'Tmin': 0}}"
      ]
     },
     "execution_count": 24,
     "metadata": {},
     "output_type": "execute_result"
    }
   ],
   "source": [
    "temps"
   ]
  },
  {
   "cell_type": "code",
   "execution_count": 25,
   "metadata": {
    "collapsed": false
   },
   "outputs": [
    {
     "name": "stdout",
     "output_type": "stream",
     "text": [
      "{'Tmin': 0, 'Tmax': 13}\n",
      "Temperatura mínima del día 3 fue 0\n"
     ]
    }
   ],
   "source": [
    "dia = 3\n",
    "print(temps[dia])\n",
    "print('Temperatura mínima del día {} fue {}'.format(dia,temps[dia]['Tmin']))"
   ]
  },
  {
   "cell_type": "markdown",
   "metadata": {
    "ein.tags": "worksheet-0",
    "slideshow": {
     "slide_type": "-"
    }
   },
   "source": [
    "### Iteraciones"
   ]
  },
  {
   "cell_type": "code",
   "execution_count": 26,
   "metadata": {
    "autoscroll": false,
    "collapsed": false,
    "ein.tags": "worksheet-0",
    "slideshow": {
     "slide_type": "-"
    }
   },
   "outputs": [
    {
     "name": "stdout",
     "output_type": "stream",
     "text": [
      "La temperatura máxima del día 1 fue -3.2 y la mínima 13.2\n",
      "La temperatura máxima del día 2 fue -2 y la mínima 12\n",
      "La temperatura máxima del día 3 fue 0 y la mínima 13\n",
      "La temperatura máxima del día 4 fue -1 y la mínima 7\n",
      "La temperatura máxima del día 5 fue 4 y la mínima 18\n",
      "La temperatura máxima del día 6 fue -5 y la mínima 5\n",
      "La temperatura máxima del día 7 fue -2 y la mínima 11\n",
      "La temperatura máxima del día 8 fue 0 y la mínima 14\n",
      "La temperatura máxima del día 9 fue 4 y la mínima 10\n",
      "La temperatura máxima del día 10 fue 0 y la mínima 10\n"
     ]
    }
   ],
   "source": [
    "for k in temps:\n",
    "  print('La temperatura máxima del día {} fue {} y la mínima {}'.format(k,temps[k]['Tmin'], temps[k]['Tmax']))"
   ]
  },
  {
   "cell_type": "markdown",
   "metadata": {
    "ein.tags": "worksheet-0",
    "slideshow": {
     "slide_type": "-"
    }
   },
   "source": [
    "Cómo comentamos anteriormente, cuando iteramos sobre un diccionario estamos moviéndonos sobre las `(k)eys` "
   ]
  },
  {
   "cell_type": "code",
   "execution_count": 27,
   "metadata": {
    "autoscroll": false,
    "collapsed": false,
    "ein.tags": "worksheet-0",
    "slideshow": {
     "slide_type": "-"
    }
   },
   "outputs": [
    {
     "data": {
      "text/plain": [
       "dict_keys([1, 2, 3, 4, 5, 6, 7, 8, 9, 10])"
      ]
     },
     "execution_count": 27,
     "metadata": {},
     "output_type": "execute_result"
    }
   ],
   "source": [
    "temps.keys()"
   ]
  },
  {
   "cell_type": "code",
   "execution_count": 28,
   "metadata": {
    "autoscroll": false,
    "collapsed": false,
    "ein.tags": "worksheet-0",
    "slideshow": {
     "slide_type": "-"
    }
   },
   "outputs": [
    {
     "data": {
      "text/plain": [
       "True"
      ]
     },
     "execution_count": 28,
     "metadata": {},
     "output_type": "execute_result"
    }
   ],
   "source": [
    "7 in temps"
   ]
  },
  {
   "cell_type": "code",
   "execution_count": 29,
   "metadata": {
    "autoscroll": false,
    "collapsed": false,
    "ein.tags": "worksheet-0",
    "slideshow": {
     "slide_type": "-"
    }
   },
   "outputs": [
    {
     "data": {
      "text/plain": [
       "False"
      ]
     },
     "execution_count": 29,
     "metadata": {},
     "output_type": "execute_result"
    }
   ],
   "source": [
    "11 in temps"
   ]
  },
  {
   "cell_type": "markdown",
   "metadata": {
    "ein.tags": "worksheet-0",
    "slideshow": {
     "slide_type": "-"
    }
   },
   "source": [
    "Para referirnos al valor tenemos que hacerlo en la forma `temps[k]`, y no siempre es una manera muy clara de escribir las cosas. Otra manera similar, pero más limpia en este caso sería:"
   ]
  },
  {
   "cell_type": "code",
   "execution_count": 30,
   "metadata": {
    "autoscroll": false,
    "collapsed": false,
    "ein.tags": "worksheet-0",
    "slideshow": {
     "slide_type": "-"
    }
   },
   "outputs": [
    {
     "name": "stdout",
     "output_type": "stream",
     "text": [
      "La temperatura máxima del día 1 fue -3.2 y la mínima 13.2\n",
      "La temperatura máxima del día 2 fue -2 y la mínima 12\n",
      "La temperatura máxima del día 3 fue 0 y la mínima 13\n",
      "La temperatura máxima del día 4 fue -1 y la mínima 7\n",
      "La temperatura máxima del día 5 fue 4 y la mínima 18\n",
      "La temperatura máxima del día 6 fue -5 y la mínima 5\n",
      "La temperatura máxima del día 7 fue -2 y la mínima 11\n",
      "La temperatura máxima del día 8 fue 0 y la mínima 14\n",
      "La temperatura máxima del día 9 fue 4 y la mínima 10\n",
      "La temperatura máxima del día 10 fue 0 y la mínima 10\n"
     ]
    }
   ],
   "source": [
    "for k, v in temps.items():\n",
    "  print('La temperatura máxima del día {} fue {} y la mínima {}'.format(k,v['Tmin'], v['Tmax']))"
   ]
  },
  {
   "cell_type": "markdown",
   "metadata": {
    "ein.tags": "worksheet-0",
    "slideshow": {
     "slide_type": "-"
    }
   },
   "source": [
    "Si queremos iterar sobre los valores podemos utilizar simplemente:"
   ]
  },
  {
   "cell_type": "code",
   "execution_count": 31,
   "metadata": {
    "autoscroll": false,
    "collapsed": false,
    "ein.tags": "worksheet-0",
    "slideshow": {
     "slide_type": "-"
    }
   },
   "outputs": [
    {
     "name": "stdout",
     "output_type": "stream",
     "text": [
      "{'Tmin': -3.2, 'Tmax': 13.2}\n",
      "{'Tmin': -2, 'Tmax': 12}\n",
      "{'Tmin': 0, 'Tmax': 13}\n",
      "{'Tmin': -1, 'Tmax': 7}\n",
      "{'Tmin': 4, 'Tmax': 18}\n",
      "{'Tmin': -5, 'Tmax': 5}\n",
      "{'Tmin': -2, 'Tmax': 11}\n",
      "{'Tmin': 0, 'Tmax': 14}\n",
      "{'Tmin': 4, 'Tmax': 10}\n",
      "{'Tmin': 0, 'Tmax': 10}\n"
     ]
    }
   ],
   "source": [
    "for v in temps.values():\n",
    "  print(v)\n"
   ]
  },
  {
   "cell_type": "markdown",
   "metadata": {
    "ein.tags": "worksheet-0",
    "slideshow": {
     "slide_type": "-"
    }
   },
   "source": [
    "Remarquemos que los diccionarios no tienen definidos un orden por lo que no hay garantías quel a próxima vez que ejecutemos cualquiera de estas líneas de código el resultado sea exactamente el mismo. Además, si queremos imprimirlos en un orden predecible debemos escribirlo explícitamente. Por ejemplo"
   ]
  },
  {
   "cell_type": "code",
   "execution_count": 34,
   "metadata": {
    "autoscroll": false,
    "collapsed": false,
    "ein.tags": "worksheet-0",
    "slideshow": {
     "slide_type": "-"
    }
   },
   "outputs": [],
   "source": [
    "l=list(temps.keys())\n",
    "l.sort(reverse=True)"
   ]
  },
  {
   "cell_type": "code",
   "execution_count": 35,
   "metadata": {
    "autoscroll": false,
    "collapsed": false,
    "ein.tags": "worksheet-0",
    "slideshow": {
     "slide_type": "-"
    }
   },
   "outputs": [
    {
     "data": {
      "text/plain": [
       "[10, 9, 8, 7, 6, 5, 4, 3, 2, 1]"
      ]
     },
     "execution_count": 35,
     "metadata": {},
     "output_type": "execute_result"
    }
   ],
   "source": [
    "l"
   ]
  },
  {
   "cell_type": "code",
   "execution_count": 36,
   "metadata": {
    "autoscroll": false,
    "collapsed": false,
    "ein.tags": "worksheet-0",
    "slideshow": {
     "slide_type": "-"
    }
   },
   "outputs": [
    {
     "name": "stdout",
     "output_type": "stream",
     "text": [
      "10 {'Tmin': 0, 'Tmax': 10}\n",
      "9 {'Tmin': 4, 'Tmax': 10}\n",
      "8 {'Tmin': 0, 'Tmax': 14}\n",
      "7 {'Tmin': -2, 'Tmax': 11}\n",
      "6 {'Tmin': -5, 'Tmax': 5}\n",
      "5 {'Tmin': 4, 'Tmax': 18}\n",
      "4 {'Tmin': -1, 'Tmax': 7}\n",
      "3 {'Tmin': 0, 'Tmax': 13}\n",
      "2 {'Tmin': -2, 'Tmax': 12}\n",
      "1 {'Tmin': -3.2, 'Tmax': 13.2}\n"
     ]
    }
   ],
   "source": [
    "for k in l:\n",
    "  print(k, temps[k])"
   ]
  },
  {
   "cell_type": "markdown",
   "metadata": {
    "ein.tags": "worksheet-0",
    "slideshow": {
     "slide_type": "-"
    }
   },
   "source": [
    "La secuencia anterior puede escribirse en forma más compacta como"
   ]
  },
  {
   "cell_type": "code",
   "execution_count": 37,
   "metadata": {
    "autoscroll": false,
    "collapsed": false,
    "ein.tags": "worksheet-0",
    "slideshow": {
     "slide_type": "-"
    }
   },
   "outputs": [
    {
     "name": "stdout",
     "output_type": "stream",
     "text": [
      "10 {'Tmin': 0, 'Tmax': 10}\n",
      "9 {'Tmin': 4, 'Tmax': 10}\n",
      "8 {'Tmin': 0, 'Tmax': 14}\n",
      "7 {'Tmin': -2, 'Tmax': 11}\n",
      "6 {'Tmin': -5, 'Tmax': 5}\n",
      "5 {'Tmin': 4, 'Tmax': 18}\n",
      "4 {'Tmin': -1, 'Tmax': 7}\n",
      "3 {'Tmin': 0, 'Tmax': 13}\n",
      "2 {'Tmin': -2, 'Tmax': 12}\n",
      "1 {'Tmin': -3.2, 'Tmax': 13.2}\n"
     ]
    }
   ],
   "source": [
    "for k in sorted(list(temps),reverse=True):\n",
    "  print(k, temps[k])"
   ]
  },
  {
   "cell_type": "code",
   "execution_count": 38,
   "metadata": {
    "collapsed": false
   },
   "outputs": [
    {
     "name": "stdout",
     "output_type": "stream",
     "text": [
      "Help on built-in function sum in module builtins:\n",
      "\n",
      "sum(iterable, start=0, /)\n",
      "    Return the sum of a 'start' value (default: 0) plus an iterable of numbers\n",
      "    \n",
      "    When the iterable is empty, return the start value.\n",
      "    This function is intended specifically for use with numeric values and may\n",
      "    reject non-numeric types.\n",
      "\n"
     ]
    }
   ],
   "source": [
    "help(sum)"
   ]
  },
  {
   "cell_type": "code",
   "execution_count": null,
   "metadata": {
    "collapsed": true
   },
   "outputs": [],
   "source": []
  }
 ],
 "metadata": {
  "kernelspec": {
   "display_name": "Python 3",
   "language": "python",
   "name": "python3"
  },
  "language_info": {
   "codemirror_mode": {
    "name": "ipython",
    "version": 3
   },
   "file_extension": ".py",
   "mimetype": "text/x-python",
   "name": "python",
   "nbconvert_exporter": "python",
   "pygments_lexer": "ipython3",
   "version": "3.5.3"
  },
  "name": "04_iteraciones.ipynb"
 },
 "nbformat": 4,
 "nbformat_minor": 0
}
