{
 "cells": [
  {
   "cell_type": "markdown",
   "metadata": {
    "ein.tags": "worksheet-0",
    "slideshow": {
     "slide_type": "-"
    }
   },
   "source": [
    "## Algunos ejemplos\n",
    "\n",
    "Vamos a repasar algunos de los conceptos discutidos las clases anteriores e introducir algunas nuevas funcionalidades\n",
    "\n",
    "### Ejemplo 03-1\n"
   ]
  },
  {
   "cell_type": "code",
   "execution_count": null,
   "metadata": {
    "autoscroll": false,
    "collapsed": false,
    "ein.tags": "worksheet-0",
    "slideshow": {
     "slide_type": "-"
    }
   },
   "outputs": [],
   "source": [
    "# %load scripts/03_ejemplo_1.py\n",
    "fname = '../data/names.txt'\n",
    "n = 0                           # contador\n",
    "minlen = 2                      # longitud mínima\n",
    "maxlen = 4                      # longitud máxima\n",
    "\n",
    "# Manejo de archivos\n",
    "fi = open(fname, 'r')           # Apertura del archivo\n",
    "lines = fi.readlines()          # Lectura: el resultado es una lista\n",
    "fi.close()                      # Cerramos el archivo\n",
    "\n",
    "for line in lines:              # loop de iteración \n",
    "# Bloque Condicional\n",
    "  if minlen <= len(line.strip()) <= maxlen: \n",
    "    n += 1\n",
    "    print(line.strip(), end=', ')  # No Newline\n",
    "\n",
    "\n",
    "print('\\n')\n",
    "\n",
    "# Salida con formato de reemplazo\n",
    "if minlen == maxlen:\n",
    "  mensaje = 'Encontramos {} palabras que tienen {} letras'.format(n, minlen)\n",
    "else:\n",
    "  mensaje = 'Encontramos {0} palabras que tienen entre {1} y {2} letras'\\\n",
    "      .format(n, minlen, maxlen)\n",
    "\n",
    "# Impresión de resultado\n",
    "print(mensaje)\n"
   ]
  },
  {
   "cell_type": "markdown",
   "metadata": {
    "ein.tags": "worksheet-0",
    "slideshow": {
     "slide_type": "-"
    }
   },
   "source": [
    "Hemos utilizado aquí:\n",
    "* Apertura, lectura, y cerrado de archivos \n",
    "* Iteración en un loop `for`\n",
    "* Bloques condicionesles (if/else)\n",
    "* Formato de cadenas de caracteres con reemplazo\n",
    "* Impresión por pantalla\n",
    "\n",
    "La apertura de archivos se realiza utilizando la función `open` (este es un buen momento para mirar su documentación) con dos argumentos: el primero es el nombre del archivo y el segundo el modo en que queremos abrilo (en este caso la `r` indica lectura).\n",
    "\n",
    "Veamos una leve modificación de este programa\n",
    "\n",
    "### Ejemplo 03-2"
   ]
  },
  {
   "cell_type": "code",
   "execution_count": 1,
   "metadata": {
    "autoscroll": false,
    "collapsed": false,
    "ein.tags": "worksheet-0",
    "slideshow": {
     "slide_type": "slide"
    }
   },
   "outputs": [],
   "source": []
  },
  {
   "cell_type": "code",
   "execution_count": null,
   "metadata": {
    "autoscroll": false,
    "collapsed": false,
    "ein.tags": "worksheet-0",
    "slideshow": {
     "slide_type": "-"
    }
   },
   "outputs": [],
   "source": [
    "# %load scripts/03_ejemplo_2.py\n",
    "\"\"\"Programa para contar e imprimir las palabras capicúa de una longitud dada\"\"\"\n",
    "\n",
    "fname = '../data/names.txt'\n",
    "\n",
    "n = 0                           # contador\n",
    "minlen = 3                      # longitud mínima\n",
    "maxlen = 3                      # longitud máxima\n",
    "\n",
    "fi = open(fname, 'r')           # Apertura de archivo\n",
    "\n",
    "for line in fi:                 # Iteramos sobre el archivo\n",
    "p = line.strip()\n",
    "# Bloque condicional más complejo\n",
    "  if (minlen <= len(p) <= maxlen) and (p[::-1] == p):\n",
    "    n += 1\n",
    "    print('{}'.format(p), end=', ')\n",
    "\n",
    "print('\\n')\n",
    "\n",
    "if minlen == maxlen:\n",
    "  mensaje = ('Encontramos un total de {} palabras capicúa que tienen {} letras'.\n",
    "             format(n, minlen))\n",
    "else:\n",
    "  mensaje = 'Encontramos un total de {} palabras capicúa que tienen\\\n",
    " entre {} y {} letras'.format(n, minlen, maxlen)\n",
    "\n",
    "print(mensaje)\n"
   ]
  },
  {
   "cell_type": "markdown",
   "metadata": {
    "ein.tags": "worksheet-0",
    "slideshow": {
     "slide_type": "-"
    }
   },
   "source": [
    "Aquí en lugar de leer todas las líneas e iterar sobre las líneas resultantes, iteramos directamente sobre el archivo abierto.\n",
    "\n",
    "Además incluimos un string al principio del archivo, que servirá de documentación, y puede accederse mediante los mecanismos usuales de ayuda de Python.\n",
    "\n",
    "### Ejemplo 03-3"
   ]
  },
  {
   "cell_type": "code",
   "execution_count": null,
   "metadata": {
    "autoscroll": false,
    "collapsed": false,
    "ein.tags": "worksheet-0",
    "slideshow": {
     "slide_type": "-"
    }
   },
   "outputs": [],
   "source": [
    "# %load scripts/03_ejemplo_3.py\n",
    "\"\"\"Programa para contar e imprimir las palabras capicúa de una longitud dada\"\"\"\n",
    "\n",
    "fname = '../data/names.txt'\n",
    "\n",
    "n = 0                           # contador\n",
    "minlen = 1                      # longitud mínima\n",
    "maxlen = 9                      # longitud máxima\n",
    "\n",
    "fi = open(fname, 'r')\n",
    "\n",
    "for line in fi:\n",
    "  p = line.strip().lower()\n",
    "  if minlen <= len(p) <= maxlen and p[::-1] == p:\n",
    "    n += 1\n",
    "\n",
    "    # Aquí agregamos un formato específico al modo de imprimir las coincidencias\n",
    "\n",
    "    print('({:02d}) {}'.format(n, line.strip()))  # Vamos numerando las coincidencias\n",
    "\n",
    "fi.close()\n",
    "if minlen == maxlen:\n",
    "  mensaje = ('Encontramos un total de {} palabras capicúa que tienen {} letras'.\n",
    "             format(n, minlen))\n",
    "else:\n",
    "  mensaje = 'Encontramos un total de {} palabras capicúa que tienen\\\n",
    " entre {} y {} letras'.format(n, minlen, maxlen)\n",
    "\n",
    "print(mensaje)\n"
   ]
  },
  {
   "cell_type": "markdown",
   "metadata": {
    "ein.tags": "worksheet-0",
    "slideshow": {
     "slide_type": "-"
    }
   },
   "source": [
    "En esta versión, agregamos formato al número de coincidencia. El formato se realiza pasando la expresión luego del ':'. En nuestro caso, usamos `02d`, indicando que es un entero (`d`), que queremos que el campo sea de un mínimo número de caracteres de ancho (en este caso 2). Al escribirlo como `02` le pedimos que complete los vacíos con ceros.\n",
    "\n",
    "### Ejemplo 03-4"
   ]
  },
  {
   "cell_type": "code",
   "execution_count": null,
   "metadata": {
    "autoscroll": false,
    "collapsed": false,
    "ein.tags": "worksheet-0",
    "slideshow": {
     "slide_type": "-"
    }
   },
   "outputs": [],
   "source": [
    "# %load scripts/03_ejemplo_4.py\n",
    "\"\"\"Programa para contar e imprimir las palabras capicúa de una longitud dada\n",
    "Además, imprimimos en qué línea del archivo original se encuentran\n",
    "\"\"\"\n",
    "\n",
    "fname = '../data/names.txt'\n",
    "\n",
    "n = 0                           # contador\n",
    "minlen = 1                      # longitud mínima\n",
    "maxlen = 9                      # longitud máxima\n",
    "\n",
    "print('\\n')\n",
    "\n",
    "fi = open(fname, 'r')\n",
    "for j, line in enumerate(fi):   # Uso de enumerate\n",
    "  p = line.strip().lower()\n",
    "  if minlen <= len(p) <= maxlen and p[::-1] == p:\n",
    "    n += 1\n",
    "    print('línea: {:4d} - {}'.format(j, line.strip()))  # Vamos numerando las coincidencias\n",
    "fi.close()\n",
    "\n",
    "if minlen == maxlen:\n",
    "  mensaje = ('Encontramos {} palabras capicúa que tienen {} letras \\\n",
    "             de un total de {} palabras'.format(n, minlen, j))\n",
    "else:\n",
    "  mensaje = 'De un total de {3} palabras, encontramos {0}\\\n",
    " palabras capicúa que tienen entre {1} y {2} letras'.format(n, minlen, maxlen, j)\n",
    "\n",
    "print(mensaje)\n"
   ]
  },
  {
   "cell_type": "markdown",
   "metadata": {
    "ein.tags": "worksheet-0",
    "slideshow": {
     "slide_type": "-"
    }
   },
   "source": [
    "Aquí hemos utilizado la función `enumerate` para obtener el índice de la línea en que se encuentra cada palabra en el archivo original. Esta función devuelve un par (índice, elemento) por cada elemento.\n",
    "\n",
    "### Ejemplo 03-5"
   ]
  },
  {
   "cell_type": "code",
   "execution_count": null,
   "metadata": {
    "autoscroll": false,
    "collapsed": false,
    "ein.tags": "worksheet-0",
    "slideshow": {
     "slide_type": "-"
    }
   },
   "outputs": [],
   "source": [
    "# %load scripts/03_ejemplo_5.py\n",
    "\"\"\"Programa para contar e imprimir las palabras capicúa de una longitud dada\n",
    "\n",
    "\"\"\"\n",
    "\n",
    "fname = '../data/names.txt'\n",
    "minlen = 3                      # longitud mínima\n",
    "maxlen = 12                     # longitud máxima\n",
    "capicua = []                    # Inicializamos una lista vacía\n",
    "\n",
    "print('\\n')\n",
    "fi = open(fname, 'r')\n",
    "for line in fi:\n",
    "  p = line.strip().lower()\n",
    "  if minlen <= len(p) <= maxlen and p[::-1] == p:\n",
    "    capicua.append(p)           # Agregamos las palabras capicúa a la lista\n",
    "fi.close()\n",
    "\n",
    "if minlen == maxlen:\n",
    "  mensaje = ('Encontramos {} palabras capicúa que tienen {} letras'.\n",
    "             format(len(capicua), minlen))\n",
    "else:\n",
    "  mensaje = 'Encontramos {0} palabras capicúa que tienen entre {1} y {2} letras'.format(\n",
    "      len(capicua), minlen, maxlen)\n",
    "\n",
    "print(mensaje)\n",
    "\n",
    "# Manejo de archivo de salida\n",
    "fo = open('../data/capicua.txt', 'w')\n",
    "s = '\\n'.join(capicua)          # Método `join` une listas separadas por el string\n",
    "fo.write(s)                     # Escritura \n",
    "fo.close()\n"
   ]
  },
  {
   "cell_type": "markdown",
   "metadata": {
    "ein.tags": "worksheet-0",
    "slideshow": {
     "slide_type": "-"
    }
   },
   "source": [
    "En esta última versión guardamos cada palabra en una lista, que puede ser útil si después queremos procesar o trabajar con ellas.\n",
    "\n",
    "Además mostramos como se realiza la salida a un archivo."
   ]
  }
 ],
 "metadata": {
  "kernelspec": {
   "display_name": "Python 3",
   "name": "python3"
  },
  "language_info": {
   "codemirror_mode": {
    "name": "ipython",
    "version": 3
   },
   "file_extension": ".py",
   "mimetype": "text/x-python",
   "name": "python",
   "nbconvert_exporter": "python",
   "pygments_lexer": "ipython3",
   "version": "3.5.3"
  },
  "name": "03_ejemplos.ipynb"
 },
 "nbformat": 4,
 "nbformat_minor": 0
}
